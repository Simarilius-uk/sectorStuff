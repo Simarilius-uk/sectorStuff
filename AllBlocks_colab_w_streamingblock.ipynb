{
  "metadata": {
    "kernelspec": {
      "display_name": "Python 3 (ipykernel)",
      "language": "python",
      "name": "python3"
    },
    "language_info": {
      "name": "python",
      "version": "3.7.12",
      "mimetype": "text/x-python",
      "codemirror_mode": {
        "name": "ipython",
        "version": 3
      },
      "pygments_lexer": "ipython3",
      "nbconvert_exporter": "python",
      "file_extension": ".py"
    },
    "colab": {
      "provenance": [],
      "include_colab_link": true
    }
  },
  "nbformat_minor": 5,
  "nbformat": 4,
  "cells": [
    {
      "cell_type": "markdown",
      "metadata": {
        "id": "view-in-github",
        "colab_type": "text"
      },
      "source": [
        "<a href=\"https://colab.research.google.com/github/Simarilius-uk/sectorStuff/blob/main/AllBlocks_colab_w_streamingblock.ipynb\" target=\"_parent\"><img src=\"https://colab.research.google.com/assets/colab-badge.svg\" alt=\"Open In Colab\"/></a>"
      ]
    },
    {
      "cell_type": "code",
      "source": [
        "!git clone https://github.com/Simarilius-uk/sectorStuff.git"
      ],
      "metadata": {
        "id": "Gp43qEkvOSTG",
        "outputId": "d624051d-815b-4cad-a3fa-1865310124f1",
        "colab": {
          "base_uri": "https://localhost:8080/"
        }
      },
      "id": "Gp43qEkvOSTG",
      "execution_count": 1,
      "outputs": [
        {
          "output_type": "stream",
          "name": "stdout",
          "text": [
            "Cloning into 'sectorStuff'...\n",
            "remote: Enumerating objects: 67, done.\u001b[K\n",
            "remote: Counting objects: 100% (67/67), done.\u001b[K\n",
            "remote: Compressing objects: 100% (66/66), done.\u001b[K\n",
            "remote: Total 67 (delta 36), reused 0 (delta 0), pack-reused 0\u001b[K\n",
            "Unpacking objects: 100% (67/67), 1.27 MiB | 1.09 MiB/s, done.\n"
          ]
        }
      ]
    },
    {
      "cell_type": "code",
      "source": [
        "import json\n",
        "import glob\n",
        "import os\n",
        "\n",
        "filepath = 'sectorStuff/all.streamingblock.json'\n",
        "\n",
        "with open(filepath,'r') as f: \n",
        "      j=json.load(f) "
      ],
      "metadata": {
        "trusted": true,
        "id": "6cd440df"
      },
      "execution_count": 2,
      "outputs": [],
      "id": "6cd440df"
    },
    {
      "cell_type": "code",
      "source": [
        "from pprint import pprint\n",
        "data=j['Data']['RootChunk']['descriptors']\n",
        "print('Sectors found - ',len(data))\n",
        "\n",
        "#pprint(data[0])    "
      ],
      "metadata": {
        "trusted": true,
        "id": "cdae13ad",
        "colab": {
          "base_uri": "https://localhost:8080/"
        },
        "outputId": "00371bbf-4a3b-46f5-8915-d8e51674b05f"
      },
      "execution_count": 3,
      "outputs": [
        {
          "output_type": "stream",
          "name": "stdout",
          "text": [
            "Sectors found -  22761\n"
          ]
        }
      ],
      "id": "cdae13ad"
    },
    {
      "cell_type": "code",
      "source": [
        "#Enter the player location below (obtain from AMM)\n",
        "player_loc={\"X\":-962.8564453125,\"w\":1,\"Y\":-779.59777832031,\"loc_name\":\"Arcade\",\"Z\":8.5010681152344,\"yaw\":102.15102386475}\n",
        "\n",
        "if 'X' not in player_loc.keys() and 'x' in player_loc.keys():\n",
        "  player_loc['X']=player_loc['x']\n",
        "if 'Y' not in player_loc.keys() and 'y' in player_loc.keys():\n",
        "  player_loc['Y']=player_loc['y']\n",
        "if 'Z' not in player_loc.keys() and 'z' in player_loc.keys():\n",
        "  player_loc['Z']=player_loc['z']"
      ],
      "metadata": {
        "trusted": true,
        "id": "b98a64a5"
      },
      "execution_count": 28,
      "outputs": [],
      "id": "b98a64a5"
    },
    {
      "cell_type": "code",
      "source": [
        "player_in_int=[]\n",
        "player_in_ext=[]\n",
        "player_in_quest=[]\n",
        "int_idxs=[]\n",
        "ext_idxs=[]\n",
        "for idx,sector in enumerate(data):\n",
        "    if sector['streamingBox']['Min']['X']<player_loc['X'] and sector['streamingBox']['Max']['X']>player_loc['X']:\n",
        "        if sector['streamingBox']['Min']['Y']<player_loc['Y'] and sector['streamingBox']['Max']['Y']>player_loc['Y']:\n",
        "            if sector['streamingBox']['Min']['Z']<player_loc['Z'] and sector['streamingBox']['Max']['Z']>player_loc['Z']:\n",
        "                centrepoint={'X':(sector['streamingBox']['Min']['X']+sector['streamingBox']['Max']['X'])/2, \n",
        "                             'Y':(sector['streamingBox']['Min']['Y']+sector['streamingBox']['Max']['Y'])/2, \n",
        "                             'Z':(sector['streamingBox']['Min']['Z']+sector['streamingBox']['Max']['Z'])/2}\n",
        "                if sector['category']=='Exterior':\n",
        "                    player_in_ext.append((centrepoint,sector))\n",
        "                    ext_idxs.append(idx)  \n",
        "                if sector['category']=='Interior':\n",
        "                    player_in_int.append((centrepoint,sector))                 \n",
        "                    int_idxs.append(idx)                \n",
        "                #if sector['category']=='Quest':\n",
        "                #    player_in_quest.append((centrepoint,sector))\n",
        "print('Interior ',len(player_in_int))\n",
        "print('Exterior ',len(player_in_ext))\n",
        "#print('Quest ',len(player_in_quest))"
      ],
      "metadata": {
        "trusted": true,
        "id": "971a9c5d-f0be-45d7-9958-e429dc62c0a8",
        "colab": {
          "base_uri": "https://localhost:8080/"
        },
        "outputId": "0043defe-078f-4053-da1c-161f4f1a1335"
      },
      "execution_count": 29,
      "outputs": [
        {
          "output_type": "stream",
          "name": "stdout",
          "text": [
            "Interior  13\n",
            "Exterior  187\n"
          ]
        }
      ],
      "id": "971a9c5d-f0be-45d7-9958-e429dc62c0a8"
    },
    {
      "cell_type": "code",
      "source": [
        "#prints the Interior sector names the player co-ordinates are within, plus the distance from the centre of those sectors to the co-ords\n",
        "list=[]\n",
        "print('Distance     Sector Name')\n",
        "for idx,sect in enumerate(player_in_int):\n",
        "    dist=((player_loc['X']-sect[0]['X'])**2+(player_loc['Y']-sect[0]['Y'])**2+(player_loc['Z']-sect[0]['Z'])**2)**0.5\n",
        "    list.append((dist,sect[1]['data']['DepotPath']))\n",
        "list.sort()\n",
        "for sect in list:\n",
        "    print(\"{:10.2f}\".format(sect[0]), ' ' ,sect[1].split('\\\\')[-1])\n"
      ],
      "metadata": {
        "tags": [],
        "trusted": true,
        "id": "2c5bc22b-ea2d-4565-bfd9-d793a985bf31",
        "colab": {
          "base_uri": "https://localhost:8080/"
        },
        "outputId": "25f03aaa-cab9-4193-f241-23f728c12aed"
      },
      "execution_count": 6,
      "outputs": [
        {
          "output_type": "stream",
          "name": "stdout",
          "text": [
            "Distance     Sector Name\n",
            "      7.07   interior_-70_54_9_0.streamingsector\n",
            "     13.69   interior_-70_55_9_0.streamingsector\n",
            "     16.09   interior_-69_55_9_0.streamingsector\n",
            "     21.55   interior_-35_27_4_1.streamingsector\n",
            "     37.20   interior_-18_13_2_2.streamingsector\n",
            "     40.70   interior_-70_55_8_0.streamingsector\n",
            "     48.09   interior_-69_54_8_0.streamingsector\n",
            "     50.18   interior_-69_55_8_0.streamingsector\n",
            "     53.59   interior_-70_53_8_0.streamingsector\n",
            "     64.37   interior_-35_28_4_1.streamingsector\n",
            "     65.11   interior_-35_26_4_1.streamingsector\n",
            "     65.48   interior_-69_53_8_0.streamingsector\n",
            "     66.91   interior_-17_13_2_2.streamingsector\n",
            "     67.82   interior_-68_54_8_0.streamingsector\n",
            "     68.69   interior_-68_55_8_0.streamingsector\n",
            "     69.60   interior_-34_27_4_1.streamingsector\n",
            "     72.55   interior_-34_28_4_1.streamingsector\n",
            "     72.58   interior_-68_56_8_0.streamingsector\n",
            "     73.61   interior_-34_26_4_1.streamingsector\n",
            "     77.79   interior_-68_53_8_0.streamingsector\n",
            "     78.74   interior_-35_27_3_1.streamingsector\n",
            "    100.99   interior_-35_26_3_1.streamingsector\n",
            "    138.82   interior_-18_13_1_2.streamingsector\n",
            "    155.91   interior_-17_13_1_2.streamingsector\n",
            "    220.53   interior_-5_3_0_4.streamingsector\n",
            "    276.68   interior_-18_13_0_2.streamingsector\n",
            "    772.43   interior_-4_2_0_4.streamingsector\n",
            "   1889.00   interior_-3_0_-1_4.streamingsector\n"
          ]
        }
      ],
      "id": "2c5bc22b-ea2d-4565-bfd9-d793a985bf31"
    },
    {
      "cell_type": "code",
      "source": [
        "#prints the Exterior sector names the player co-ordinates are within, plus the distance from the centre of those sectors to the co-ords\n",
        "ext_list=[]\n",
        "print('Distance     Sector Name')\n",
        "for sect in player_in_ext:\n",
        "    dist=((player_loc['X']-sect[0]['X'])**2+(player_loc['Y']-sect[0]['Y'])**2+(player_loc['Z']-sect[0]['Z'])**2)**0.5\n",
        "    ext_list.append((dist,sect[1]['data']['DepotPath']))\n",
        "ext_list.sort()\n",
        "for sect in ext_list:\n",
        "    print(\"{:10.2f}\".format(sect[0]), ' ' ,sect[1].split('\\\\')[-1])"
      ],
      "metadata": {
        "tags": [],
        "trusted": true,
        "id": "2e1e67d0-a453-4047-8ca8-35abc807ffe7",
        "colab": {
          "base_uri": "https://localhost:8080/"
        },
        "outputId": "cbfa8c4a-89b1-4484-db4d-261d2c725435"
      },
      "execution_count": 7,
      "outputs": [
        {
          "output_type": "stream",
          "name": "stdout",
          "text": [
            "Distance     Sector Name\n",
            "     16.96   exterior_-35_27_5_0.streamingsector\n",
            "     22.26   exterior_-35_27_4_0.streamingsector\n",
            "     26.97   exterior_-18_13_2_1.streamingsector\n",
            "     39.65   exterior_-9_6_1_2.streamingsector\n",
            "     61.92   exterior_-17_13_2_1.streamingsector\n",
            "     64.53   exterior_-35_26_4_0.streamingsector\n",
            "     68.99   exterior_-17_14_2_1.streamingsector\n",
            "     76.81   exterior_-34_27_4_0.streamingsector\n",
            "     86.12   exterior_-34_26_4_0.streamingsector\n",
            "    115.61   exterior_-18_13_1_1.streamingsector\n",
            "    138.84   exterior_-17_13_1_1.streamingsector\n",
            "    156.37   exterior_-18_14_1_1.streamingsector\n",
            "    250.76   exterior_-18_13_0_1.streamingsector\n",
            "    250.85   exterior_-9_6_0_2.streamingsector\n",
            "    255.29   exterior_-3_1_0_4.streamingsector\n",
            "    268.96   exterior_-17_13_0_1.streamingsector\n",
            "    288.93   exterior_-5_3_0_3.streamingsector\n",
            "    329.45   exterior_-9_7_0_2.streamingsector\n",
            "    338.83   exterior_-10_6_0_2.streamingsector\n",
            "    344.61   exterior_-9_6_-1_2.streamingsector\n",
            "    358.76   exterior_-17_15_0_1.streamingsector\n",
            "    387.20   exterior_-16_12_0_1.streamingsector\n",
            "    391.77   exterior_-10_6_-1_2.streamingsector\n",
            "    400.55   exterior_-8_6_0_2.streamingsector\n",
            "    403.00   exterior_-8_6_-1_2.streamingsector\n",
            "    411.94   exterior_-10_7_0_2.streamingsector\n",
            "    418.84   exterior_-8_5_1_2.streamingsector\n",
            "    432.84   exterior_-8_7_0_2.streamingsector\n",
            "    443.18   exterior_-16_11_0_1.streamingsector\n",
            "    445.85   exterior_-8_7_-1_2.streamingsector\n",
            "    446.74   exterior_-10_7_-1_2.streamingsector\n",
            "    471.25   exterior_-9_5_-1_2.streamingsector\n",
            "    480.08   exterior_-9_8_0_2.streamingsector\n",
            "    484.58   exterior_-9_5_0_2.streamingsector\n",
            "    512.20   exterior_-11_7_0_2.streamingsector\n",
            "    512.26   exterior_-4_3_0_3.streamingsector\n",
            "    515.64   exterior_-3_1_-1_4.streamingsector\n",
            "    523.25   exterior_-5_2_0_3.streamingsector\n",
            "    525.16   exterior_-8_5_0_2.streamingsector\n",
            "    546.95   exterior_-10_8_0_2.streamingsector\n",
            "    567.61   exterior_-6_3_0_3.streamingsector\n",
            "    585.35   exterior_-5_4_0_3.streamingsector\n",
            "    588.97   exterior_-11_7_-1_2.streamingsector\n",
            "    593.05   exterior_-8_8_0_2.streamingsector\n",
            "    633.13   exterior_-7_6_0_2.streamingsector\n",
            "    649.75   exterior_-7_7_0_2.streamingsector\n",
            "    679.76   exterior_-4_2_0_3.streamingsector\n",
            "    681.69   exterior_-11_8_-1_2.streamingsector\n",
            "    681.69   exterior_-8_4_-1_2.streamingsector\n",
            "    696.63   exterior_-11_8_0_2.streamingsector\n",
            "    699.53   exterior_-7_5_0_2.streamingsector\n",
            "    703.06   exterior_-8_4_0_2.streamingsector\n",
            "    709.35   exterior_-2_1_0_4.streamingsector\n",
            "    720.84   exterior_-4_4_0_3.streamingsector\n",
            "    752.87   exterior_-7_8_0_2.streamingsector\n",
            "    764.76   exterior_-3_2_0_4.streamingsector\n",
            "    840.20   exterior_-6_4_0_3.streamingsector\n",
            "    859.65   exterior_-7_4_0_2.streamingsector\n",
            "    870.16   exterior_-6_2_0_3.streamingsector\n",
            "    966.93   exterior_-3_3_0_3.streamingsector\n",
            "    999.32   exterior_-5_5_0_3.streamingsector\n",
            "   1059.25   exterior_-2_2_0_4.streamingsector\n",
            "   1070.10   exterior_-3_2_0_3.streamingsector\n",
            "   1098.88   exterior_-4_1_0_3.streamingsector\n",
            "   1104.33   exterior_-5_1_0_3.streamingsector\n",
            "   1112.36   exterior_-3_4_0_3.streamingsector\n",
            "   1161.83   exterior_-6_5_0_3.streamingsector\n",
            "   1191.63   exterior_-4_5_0_3.streamingsector\n",
            "   1198.29   exterior_-6_1_-1_3.streamingsector\n",
            "   1243.46   exterior_-6_5_-1_3.streamingsector\n",
            "   1261.27   exterior_-2_0_0_5.streamingsector\n",
            "   1297.41   exterior_-2_1_-1_4.streamingsector\n",
            "   1334.67   exterior_-3_1_0_3.streamingsector\n",
            "   1419.13   exterior_-4_1_-1_4.streamingsector\n",
            "   1429.90   exterior_-2_0_0_4.streamingsector\n",
            "   1439.28   exterior_-3_5_0_3.streamingsector\n",
            "   1458.74   exterior_-1_0_-1_5.streamingsector\n",
            "   1465.58   exterior_-1_0_0_5.streamingsector\n",
            "   1492.09   exterior_-3_0_0_4.streamingsector\n",
            "   1574.77   exterior_-3_0_-1_4.streamingsector\n",
            "   1575.88   exterior_-1_1_0_5.streamingsector\n",
            "   1597.56   exterior_-2_1_0_5.streamingsector\n",
            "   1615.06   exterior_-4_2_-1_4.streamingsector\n",
            "   1624.83   exterior_-1_1_-1_4.streamingsector\n",
            "   1639.29   exterior_-4_0_-1_4.streamingsector\n",
            "   1682.04   exterior_-1_0_0_6.streamingsector\n",
            "   1703.28   exterior_-1_1_0_4.streamingsector\n",
            "   1725.05   exterior_-1_0_-1_6.streamingsector\n",
            "   1774.23   exterior_-2_0_-1_4.streamingsector\n",
            "   1817.08   exterior_-1_2_0_4.streamingsector\n",
            "   1873.83   exterior_-4_0_0_4.streamingsector\n",
            "   1913.26   exterior_-3_3_0_4.streamingsector\n",
            "   1990.32   exterior_-2_3_0_4.streamingsector\n",
            "   2054.57   exterior_-1_-1_-1_6.streamingsector\n",
            "   2117.46   exterior_-1_0_0_4.streamingsector\n",
            "   2142.75   exterior_-1_0_-1_4.streamingsector\n",
            "   2144.88   exterior_-1_3_-1_4.streamingsector\n",
            "   2282.65   exterior_-3_-1_0_4.streamingsector\n",
            "   2325.48   exterior_-2_-1_-1_4.streamingsector\n",
            "   2385.97   exterior_-2_-1_0_4.streamingsector\n",
            "   2423.31   exterior_-1_3_0_4.streamingsector\n",
            "   2520.55   exterior_-1_1_0_6.streamingsector\n",
            "   2553.98   exterior_-1_-1_0_6.streamingsector\n",
            "   2577.45   exterior_-3_0_0_5.streamingsector\n",
            "   2845.90   exterior_-1_-1_0_4.streamingsector\n",
            "   2990.99   exterior_-1_-1_0_5.streamingsector\n",
            "   3022.81   exterior_-3_1_0_5.streamingsector\n",
            "   3048.97   exterior_-2_-1_-1_5.streamingsector\n",
            "   3135.09   exterior_-2_-1_0_5.streamingsector\n",
            "   3163.03   exterior_-1_-1_-1_5.streamingsector\n",
            "   3246.18   exterior_0_0_0_5.streamingsector\n",
            "   3292.61   exterior_0_0_-1_6.streamingsector\n",
            "   3746.41   exterior_-2_0_0_6.streamingsector\n",
            "   3948.93   exterior_-2_0_-1_6.streamingsector\n",
            "   4031.85   exterior_-2_-1_-1_6.streamingsector\n",
            "   4283.99   exterior_0_-1_0_6.streamingsector\n",
            "   4304.28   exterior_0_-1_0_5.streamingsector\n",
            "   4463.56   exterior_-3_2_0_5.streamingsector\n",
            "   4694.30   exterior_-2_-2_0_5.streamingsector\n",
            "   4866.12   exterior_-1_-2_0_5.streamingsector\n",
            "   5179.41   exterior_0_0_0_6.streamingsector\n",
            "   5206.65   exterior_0_-1_-1_6.streamingsector\n",
            "   5471.40   exterior_-2_-1_0_6.streamingsector\n",
            "   5738.38   exterior_0_-2_0_5.streamingsector\n",
            "   5887.55   exterior_-2_1_0_6.streamingsector\n",
            "   6119.23   exterior_0_1_0_6.streamingsector\n",
            "   6302.83   exterior_-2_-2_-1_6.streamingsector\n",
            "   6464.68   exterior_-1_-2_0_6.streamingsector\n",
            "   7012.45   exterior_0_-2_-1_6.streamingsector\n",
            "   7079.24   exterior_0_-2_0_6.streamingsector\n",
            "   7191.96   exterior_-1_-2_-1_6.streamingsector\n",
            "   7457.98   exterior_1_0_0_6.streamingsector\n",
            "   8604.96   exterior_1_-1_-1_6.streamingsector\n",
            "   9443.81   exterior_1_1_0_6.streamingsector\n",
            "  10192.24   exterior_-2_-2_0_6.streamingsector\n",
            "  10461.05   exterior_1_-1_0_6.streamingsector\n",
            "  11506.34   exterior_1_-2_0_6.streamingsector\n"
          ]
        }
      ],
      "id": "2e1e67d0-a453-4047-8ca8-35abc807ffe7"
    },
    {
      "cell_type": "code",
      "source": [
        "print('Copy the below to add to wscript scripts')\n",
        "print('[')\n",
        "for sect in list:\n",
        "    print( ' \"'+sect[1].split('\\\\')[-1]+'\",')\n",
        "print(']')\n",
        "\n",
        "print(' ')\n",
        "print('Copy the below to paste into asset browser search')\n",
        "for sect in list:\n",
        "    print( ' ' ,sect[1].split('\\\\')[-1],'|', end = '')"
      ],
      "metadata": {
        "colab": {
          "base_uri": "https://localhost:8080/"
        },
        "id": "R_JYJa_KGy0J",
        "outputId": "53712aa7-e2ec-43d5-c810-a05a27e3e179"
      },
      "id": "R_JYJa_KGy0J",
      "execution_count": 24,
      "outputs": [
        {
          "output_type": "stream",
          "name": "stdout",
          "text": [
            "Copy the below to add to wscript scripts\n",
            "[\n",
            " \"interior_-70_54_9_0.streamingsector\",\n",
            " \"interior_-70_55_9_0.streamingsector\",\n",
            " \"interior_-69_55_9_0.streamingsector\",\n",
            " \"interior_-35_27_4_1.streamingsector\",\n",
            " \"interior_-18_13_2_2.streamingsector\",\n",
            " \"interior_-70_55_8_0.streamingsector\",\n",
            " \"interior_-69_54_8_0.streamingsector\",\n",
            " \"interior_-69_55_8_0.streamingsector\",\n",
            " \"interior_-70_53_8_0.streamingsector\",\n",
            " \"interior_-35_28_4_1.streamingsector\",\n",
            " \"interior_-35_26_4_1.streamingsector\",\n",
            " \"interior_-69_53_8_0.streamingsector\",\n",
            " \"interior_-17_13_2_2.streamingsector\",\n",
            " \"interior_-68_54_8_0.streamingsector\",\n",
            " \"interior_-68_55_8_0.streamingsector\",\n",
            " \"interior_-34_27_4_1.streamingsector\",\n",
            " \"interior_-34_28_4_1.streamingsector\",\n",
            " \"interior_-68_56_8_0.streamingsector\",\n",
            " \"interior_-34_26_4_1.streamingsector\",\n",
            " \"interior_-68_53_8_0.streamingsector\",\n",
            " \"interior_-35_27_3_1.streamingsector\",\n",
            " \"interior_-35_26_3_1.streamingsector\",\n",
            " \"interior_-18_13_1_2.streamingsector\",\n",
            " \"interior_-17_13_1_2.streamingsector\",\n",
            " \"interior_-5_3_0_4.streamingsector\",\n",
            " \"interior_-18_13_0_2.streamingsector\",\n",
            " \"interior_-4_2_0_4.streamingsector\",\n",
            " \"interior_-3_0_-1_4.streamingsector\",\n",
            "]\n",
            " \n",
            "Copy the below to paste into asset browser search\n",
            "  interior_-70_54_9_0.streamingsector |  interior_-70_55_9_0.streamingsector |  interior_-69_55_9_0.streamingsector |  interior_-35_27_4_1.streamingsector |  interior_-18_13_2_2.streamingsector |  interior_-70_55_8_0.streamingsector |  interior_-69_54_8_0.streamingsector |  interior_-69_55_8_0.streamingsector |  interior_-70_53_8_0.streamingsector |  interior_-35_28_4_1.streamingsector |  interior_-35_26_4_1.streamingsector |  interior_-69_53_8_0.streamingsector |  interior_-17_13_2_2.streamingsector |  interior_-68_54_8_0.streamingsector |  interior_-68_55_8_0.streamingsector |  interior_-34_27_4_1.streamingsector |  interior_-34_28_4_1.streamingsector |  interior_-68_56_8_0.streamingsector |  interior_-34_26_4_1.streamingsector |  interior_-68_53_8_0.streamingsector |  interior_-35_27_3_1.streamingsector |  interior_-35_26_3_1.streamingsector |  interior_-18_13_1_2.streamingsector |  interior_-17_13_1_2.streamingsector |  interior_-5_3_0_4.streamingsector |  interior_-18_13_0_2.streamingsector |  interior_-4_2_0_4.streamingsector |  interior_-3_0_-1_4.streamingsector |"
          ]
        }
      ]
    },
    {
      "cell_type": "code",
      "source": [
        "print('Copy the below to add to wscript scripts')\n",
        "print('[')\n",
        "for sect in ext_list:\n",
        "    print( ' \"' +sect[1].split('\\\\')[-1]+'\",')\n",
        "print(']')\n",
        "\n",
        "print(' ')\n",
        "print('Copy the below to paste into asset browser search')\n",
        "for sect in ext_list:\n",
        "    print( ' ' ,sect[1].split('\\\\')[-1],'|', end = '')"
      ],
      "metadata": {
        "outputId": "0a6c5b6c-1c22-47da-aa0f-fa883b5eab61",
        "colab": {
          "base_uri": "https://localhost:8080/"
        },
        "id": "t8rOo8hhxxcy"
      },
      "execution_count": null,
      "outputs": [
        {
          "output_type": "stream",
          "name": "stdout",
          "text": [
            "Copy the below to add to wscript scripts\n",
            "[\n",
            " \"exterior_-35_27_5_0.streamingsector\",\n",
            " \"exterior_-35_27_4_0.streamingsector\",\n",
            " \"exterior_-18_13_2_1.streamingsector\",\n",
            " \"exterior_-9_6_1_2.streamingsector\",\n",
            " \"exterior_-17_13_2_1.streamingsector\",\n",
            " \"exterior_-35_26_4_0.streamingsector\",\n",
            " \"exterior_-17_14_2_1.streamingsector\",\n",
            " \"exterior_-34_27_4_0.streamingsector\",\n",
            " \"exterior_-34_26_4_0.streamingsector\",\n",
            " \"exterior_-18_13_1_1.streamingsector\",\n",
            " \"exterior_-17_13_1_1.streamingsector\",\n",
            " \"exterior_-18_14_1_1.streamingsector\",\n",
            " \"exterior_-18_13_0_1.streamingsector\",\n",
            " \"exterior_-9_6_0_2.streamingsector\",\n",
            " \"exterior_-3_1_0_4.streamingsector\",\n",
            " \"exterior_-17_13_0_1.streamingsector\",\n",
            " \"exterior_-5_3_0_3.streamingsector\",\n",
            " \"exterior_-9_7_0_2.streamingsector\",\n",
            " \"exterior_-10_6_0_2.streamingsector\",\n",
            " \"exterior_-9_6_-1_2.streamingsector\",\n",
            " \"exterior_-17_15_0_1.streamingsector\",\n",
            " \"exterior_-16_12_0_1.streamingsector\",\n",
            " \"exterior_-10_6_-1_2.streamingsector\",\n",
            " \"exterior_-8_6_0_2.streamingsector\",\n",
            " \"exterior_-8_6_-1_2.streamingsector\",\n",
            " \"exterior_-10_7_0_2.streamingsector\",\n",
            " \"exterior_-8_5_1_2.streamingsector\",\n",
            " \"exterior_-8_7_0_2.streamingsector\",\n",
            " \"exterior_-16_11_0_1.streamingsector\",\n",
            " \"exterior_-8_7_-1_2.streamingsector\",\n",
            " \"exterior_-10_7_-1_2.streamingsector\",\n",
            " \"exterior_-9_5_-1_2.streamingsector\",\n",
            " \"exterior_-9_8_0_2.streamingsector\",\n",
            " \"exterior_-9_5_0_2.streamingsector\",\n",
            " \"exterior_-11_7_0_2.streamingsector\",\n",
            " \"exterior_-4_3_0_3.streamingsector\",\n",
            " \"exterior_-3_1_-1_4.streamingsector\",\n",
            " \"exterior_-5_2_0_3.streamingsector\",\n",
            " \"exterior_-8_5_0_2.streamingsector\",\n",
            " \"exterior_-10_8_0_2.streamingsector\",\n",
            " \"exterior_-6_3_0_3.streamingsector\",\n",
            " \"exterior_-5_4_0_3.streamingsector\",\n",
            " \"exterior_-11_7_-1_2.streamingsector\",\n",
            " \"exterior_-8_8_0_2.streamingsector\",\n",
            " \"exterior_-7_6_0_2.streamingsector\",\n",
            " \"exterior_-7_7_0_2.streamingsector\",\n",
            " \"exterior_-4_2_0_3.streamingsector\",\n",
            " \"exterior_-11_8_-1_2.streamingsector\",\n",
            " \"exterior_-8_4_-1_2.streamingsector\",\n",
            " \"exterior_-11_8_0_2.streamingsector\",\n",
            " \"exterior_-7_5_0_2.streamingsector\",\n",
            " \"exterior_-8_4_0_2.streamingsector\",\n",
            " \"exterior_-2_1_0_4.streamingsector\",\n",
            " \"exterior_-4_4_0_3.streamingsector\",\n",
            " \"exterior_-7_8_0_2.streamingsector\",\n",
            " \"exterior_-3_2_0_4.streamingsector\",\n",
            " \"exterior_-6_4_0_3.streamingsector\",\n",
            " \"exterior_-7_4_0_2.streamingsector\",\n",
            " \"exterior_-6_2_0_3.streamingsector\",\n",
            " \"exterior_-3_3_0_3.streamingsector\",\n",
            " \"exterior_-5_5_0_3.streamingsector\",\n",
            " \"exterior_-2_2_0_4.streamingsector\",\n",
            " \"exterior_-3_2_0_3.streamingsector\",\n",
            " \"exterior_-4_1_0_3.streamingsector\",\n",
            " \"exterior_-5_1_0_3.streamingsector\",\n",
            " \"exterior_-3_4_0_3.streamingsector\",\n",
            " \"exterior_-6_5_0_3.streamingsector\",\n",
            " \"exterior_-4_5_0_3.streamingsector\",\n",
            " \"exterior_-6_1_-1_3.streamingsector\",\n",
            " \"exterior_-6_5_-1_3.streamingsector\",\n",
            " \"exterior_-2_0_0_5.streamingsector\",\n",
            " \"exterior_-2_1_-1_4.streamingsector\",\n",
            " \"exterior_-3_1_0_3.streamingsector\",\n",
            " \"exterior_-4_1_-1_4.streamingsector\",\n",
            " \"exterior_-2_0_0_4.streamingsector\",\n",
            " \"exterior_-3_5_0_3.streamingsector\",\n",
            " \"exterior_-1_0_-1_5.streamingsector\",\n",
            " \"exterior_-1_0_0_5.streamingsector\",\n",
            " \"exterior_-3_0_0_4.streamingsector\",\n",
            " \"exterior_-3_0_-1_4.streamingsector\",\n",
            " \"exterior_-1_1_0_5.streamingsector\",\n",
            " \"exterior_-2_1_0_5.streamingsector\",\n",
            " \"exterior_-4_2_-1_4.streamingsector\",\n",
            " \"exterior_-1_1_-1_4.streamingsector\",\n",
            " \"exterior_-4_0_-1_4.streamingsector\",\n",
            " \"exterior_-1_0_0_6.streamingsector\",\n",
            " \"exterior_-1_1_0_4.streamingsector\",\n",
            " \"exterior_-1_0_-1_6.streamingsector\",\n",
            " \"exterior_-2_0_-1_4.streamingsector\",\n",
            " \"exterior_-1_2_0_4.streamingsector\",\n",
            " \"exterior_-4_0_0_4.streamingsector\",\n",
            " \"exterior_-3_3_0_4.streamingsector\",\n",
            " \"exterior_-2_3_0_4.streamingsector\",\n",
            " \"exterior_-1_-1_-1_6.streamingsector\",\n",
            " \"exterior_-1_0_0_4.streamingsector\",\n",
            " \"exterior_-1_0_-1_4.streamingsector\",\n",
            " \"exterior_-1_3_-1_4.streamingsector\",\n",
            " \"exterior_-3_-1_0_4.streamingsector\",\n",
            " \"exterior_-2_-1_-1_4.streamingsector\",\n",
            " \"exterior_-2_-1_0_4.streamingsector\",\n",
            " \"exterior_-1_3_0_4.streamingsector\",\n",
            " \"exterior_-1_1_0_6.streamingsector\",\n",
            " \"exterior_-1_-1_0_6.streamingsector\",\n",
            " \"exterior_-3_0_0_5.streamingsector\",\n",
            " \"exterior_-1_-1_0_4.streamingsector\",\n",
            " \"exterior_-1_-1_0_5.streamingsector\",\n",
            " \"exterior_-3_1_0_5.streamingsector\",\n",
            " \"exterior_-2_-1_-1_5.streamingsector\",\n",
            " \"exterior_-2_-1_0_5.streamingsector\",\n",
            " \"exterior_-1_-1_-1_5.streamingsector\",\n",
            " \"exterior_0_0_0_5.streamingsector\",\n",
            " \"exterior_0_0_-1_6.streamingsector\",\n",
            " \"exterior_-2_0_0_6.streamingsector\",\n",
            " \"exterior_-2_0_-1_6.streamingsector\",\n",
            " \"exterior_-2_-1_-1_6.streamingsector\",\n",
            " \"exterior_0_-1_0_6.streamingsector\",\n",
            " \"exterior_0_-1_0_5.streamingsector\",\n",
            " \"exterior_-3_2_0_5.streamingsector\",\n",
            " \"exterior_-2_-2_0_5.streamingsector\",\n",
            " \"exterior_-1_-2_0_5.streamingsector\",\n",
            " \"exterior_0_0_0_6.streamingsector\",\n",
            " \"exterior_0_-1_-1_6.streamingsector\",\n",
            " \"exterior_-2_-1_0_6.streamingsector\",\n",
            " \"exterior_0_-2_0_5.streamingsector\",\n",
            " \"exterior_-2_1_0_6.streamingsector\",\n",
            " \"exterior_0_1_0_6.streamingsector\",\n",
            " \"exterior_-2_-2_-1_6.streamingsector\",\n",
            " \"exterior_-1_-2_0_6.streamingsector\",\n",
            " \"exterior_0_-2_-1_6.streamingsector\",\n",
            " \"exterior_0_-2_0_6.streamingsector\",\n",
            " \"exterior_-1_-2_-1_6.streamingsector\",\n",
            " \"exterior_1_0_0_6.streamingsector\",\n",
            " \"exterior_1_-1_-1_6.streamingsector\",\n",
            " \"exterior_1_1_0_6.streamingsector\",\n",
            " \"exterior_-2_-2_0_6.streamingsector\",\n",
            " \"exterior_1_-1_0_6.streamingsector\",\n",
            " \"exterior_1_-2_0_6.streamingsector\",\n",
            "]\n",
            " \n",
            "Copy the below to paste into asset browser search\n",
            "  exterior_-35_27_5_0.streamingsector |  exterior_-35_27_4_0.streamingsector |  exterior_-18_13_2_1.streamingsector |  exterior_-9_6_1_2.streamingsector |  exterior_-17_13_2_1.streamingsector |  exterior_-35_26_4_0.streamingsector |  exterior_-17_14_2_1.streamingsector |  exterior_-34_27_4_0.streamingsector |  exterior_-34_26_4_0.streamingsector |  exterior_-18_13_1_1.streamingsector |  exterior_-17_13_1_1.streamingsector |  exterior_-18_14_1_1.streamingsector |  exterior_-18_13_0_1.streamingsector |  exterior_-9_6_0_2.streamingsector |  exterior_-3_1_0_4.streamingsector |  exterior_-17_13_0_1.streamingsector |  exterior_-5_3_0_3.streamingsector |  exterior_-9_7_0_2.streamingsector |  exterior_-10_6_0_2.streamingsector |  exterior_-9_6_-1_2.streamingsector |  exterior_-17_15_0_1.streamingsector |  exterior_-16_12_0_1.streamingsector |  exterior_-10_6_-1_2.streamingsector |  exterior_-8_6_0_2.streamingsector |  exterior_-8_6_-1_2.streamingsector |  exterior_-10_7_0_2.streamingsector |  exterior_-8_5_1_2.streamingsector |  exterior_-8_7_0_2.streamingsector |  exterior_-16_11_0_1.streamingsector |  exterior_-8_7_-1_2.streamingsector |  exterior_-10_7_-1_2.streamingsector |  exterior_-9_5_-1_2.streamingsector |  exterior_-9_8_0_2.streamingsector |  exterior_-9_5_0_2.streamingsector |  exterior_-11_7_0_2.streamingsector |  exterior_-4_3_0_3.streamingsector |  exterior_-3_1_-1_4.streamingsector |  exterior_-5_2_0_3.streamingsector |  exterior_-8_5_0_2.streamingsector |  exterior_-10_8_0_2.streamingsector |  exterior_-6_3_0_3.streamingsector |  exterior_-5_4_0_3.streamingsector |  exterior_-11_7_-1_2.streamingsector |  exterior_-8_8_0_2.streamingsector |  exterior_-7_6_0_2.streamingsector |  exterior_-7_7_0_2.streamingsector |  exterior_-4_2_0_3.streamingsector |  exterior_-11_8_-1_2.streamingsector |  exterior_-8_4_-1_2.streamingsector |  exterior_-11_8_0_2.streamingsector |  exterior_-7_5_0_2.streamingsector |  exterior_-8_4_0_2.streamingsector |  exterior_-2_1_0_4.streamingsector |  exterior_-4_4_0_3.streamingsector |  exterior_-7_8_0_2.streamingsector |  exterior_-3_2_0_4.streamingsector |  exterior_-6_4_0_3.streamingsector |  exterior_-7_4_0_2.streamingsector |  exterior_-6_2_0_3.streamingsector |  exterior_-3_3_0_3.streamingsector |  exterior_-5_5_0_3.streamingsector |  exterior_-2_2_0_4.streamingsector |  exterior_-3_2_0_3.streamingsector |  exterior_-4_1_0_3.streamingsector |  exterior_-5_1_0_3.streamingsector |  exterior_-3_4_0_3.streamingsector |  exterior_-6_5_0_3.streamingsector |  exterior_-4_5_0_3.streamingsector |  exterior_-6_1_-1_3.streamingsector |  exterior_-6_5_-1_3.streamingsector |  exterior_-2_0_0_5.streamingsector |  exterior_-2_1_-1_4.streamingsector |  exterior_-3_1_0_3.streamingsector |  exterior_-4_1_-1_4.streamingsector |  exterior_-2_0_0_4.streamingsector |  exterior_-3_5_0_3.streamingsector |  exterior_-1_0_-1_5.streamingsector |  exterior_-1_0_0_5.streamingsector |  exterior_-3_0_0_4.streamingsector |  exterior_-3_0_-1_4.streamingsector |  exterior_-1_1_0_5.streamingsector |  exterior_-2_1_0_5.streamingsector |  exterior_-4_2_-1_4.streamingsector |  exterior_-1_1_-1_4.streamingsector |  exterior_-4_0_-1_4.streamingsector |  exterior_-1_0_0_6.streamingsector |  exterior_-1_1_0_4.streamingsector |  exterior_-1_0_-1_6.streamingsector |  exterior_-2_0_-1_4.streamingsector |  exterior_-1_2_0_4.streamingsector |  exterior_-4_0_0_4.streamingsector |  exterior_-3_3_0_4.streamingsector |  exterior_-2_3_0_4.streamingsector |  exterior_-1_-1_-1_6.streamingsector |  exterior_-1_0_0_4.streamingsector |  exterior_-1_0_-1_4.streamingsector |  exterior_-1_3_-1_4.streamingsector |  exterior_-3_-1_0_4.streamingsector |  exterior_-2_-1_-1_4.streamingsector |  exterior_-2_-1_0_4.streamingsector |  exterior_-1_3_0_4.streamingsector |  exterior_-1_1_0_6.streamingsector |  exterior_-1_-1_0_6.streamingsector |  exterior_-3_0_0_5.streamingsector |  exterior_-1_-1_0_4.streamingsector |  exterior_-1_-1_0_5.streamingsector |  exterior_-3_1_0_5.streamingsector |  exterior_-2_-1_-1_5.streamingsector |  exterior_-2_-1_0_5.streamingsector |  exterior_-1_-1_-1_5.streamingsector |  exterior_0_0_0_5.streamingsector |  exterior_0_0_-1_6.streamingsector |  exterior_-2_0_0_6.streamingsector |  exterior_-2_0_-1_6.streamingsector |  exterior_-2_-1_-1_6.streamingsector |  exterior_0_-1_0_6.streamingsector |  exterior_0_-1_0_5.streamingsector |  exterior_-3_2_0_5.streamingsector |  exterior_-2_-2_0_5.streamingsector |  exterior_-1_-2_0_5.streamingsector |  exterior_0_0_0_6.streamingsector |  exterior_0_-1_-1_6.streamingsector |  exterior_-2_-1_0_6.streamingsector |  exterior_0_-2_0_5.streamingsector |  exterior_-2_1_0_6.streamingsector |  exterior_0_1_0_6.streamingsector |  exterior_-2_-2_-1_6.streamingsector |  exterior_-1_-2_0_6.streamingsector |  exterior_0_-2_-1_6.streamingsector |  exterior_0_-2_0_6.streamingsector |  exterior_-1_-2_-1_6.streamingsector |  exterior_1_0_0_6.streamingsector |  exterior_1_-1_-1_6.streamingsector |  exterior_1_1_0_6.streamingsector |  exterior_-2_-2_0_6.streamingsector |  exterior_1_-1_0_6.streamingsector |  exterior_1_-2_0_6.streamingsector |"
          ]
        }
      ],
      "id": "t8rOo8hhxxcy"
    },
    {
      "cell_type": "code",
      "source": [
        "print('Copy the below to add to wscript scripts')\n",
        "print('[')\n",
        "for sect in ext_list:\n",
        "    print( ' \"' +sect[1].split('\\\\')[-1]+'\",')\n",
        "print(']')\n",
        "\n",
        "print(' ')\n",
        "print('Copy the below to paste into asset browser search')\n",
        "for sect in ext_list:\n",
        "    print( ' ' ,sect[1].split('\\\\')[-1],'|', end = '')"
      ],
      "metadata": {
        "id": "PZd572i3IN94",
        "outputId": "0a6c5b6c-1c22-47da-aa0f-fa883b5eab61",
        "colab": {
          "base_uri": "https://localhost:8080/"
        }
      },
      "id": "PZd572i3IN94",
      "execution_count": 23,
      "outputs": [
        {
          "output_type": "stream",
          "name": "stdout",
          "text": [
            "Copy the below to add to wscript scripts\n",
            "[\n",
            " \"exterior_-35_27_5_0.streamingsector\",\n",
            " \"exterior_-35_27_4_0.streamingsector\",\n",
            " \"exterior_-18_13_2_1.streamingsector\",\n",
            " \"exterior_-9_6_1_2.streamingsector\",\n",
            " \"exterior_-17_13_2_1.streamingsector\",\n",
            " \"exterior_-35_26_4_0.streamingsector\",\n",
            " \"exterior_-17_14_2_1.streamingsector\",\n",
            " \"exterior_-34_27_4_0.streamingsector\",\n",
            " \"exterior_-34_26_4_0.streamingsector\",\n",
            " \"exterior_-18_13_1_1.streamingsector\",\n",
            " \"exterior_-17_13_1_1.streamingsector\",\n",
            " \"exterior_-18_14_1_1.streamingsector\",\n",
            " \"exterior_-18_13_0_1.streamingsector\",\n",
            " \"exterior_-9_6_0_2.streamingsector\",\n",
            " \"exterior_-3_1_0_4.streamingsector\",\n",
            " \"exterior_-17_13_0_1.streamingsector\",\n",
            " \"exterior_-5_3_0_3.streamingsector\",\n",
            " \"exterior_-9_7_0_2.streamingsector\",\n",
            " \"exterior_-10_6_0_2.streamingsector\",\n",
            " \"exterior_-9_6_-1_2.streamingsector\",\n",
            " \"exterior_-17_15_0_1.streamingsector\",\n",
            " \"exterior_-16_12_0_1.streamingsector\",\n",
            " \"exterior_-10_6_-1_2.streamingsector\",\n",
            " \"exterior_-8_6_0_2.streamingsector\",\n",
            " \"exterior_-8_6_-1_2.streamingsector\",\n",
            " \"exterior_-10_7_0_2.streamingsector\",\n",
            " \"exterior_-8_5_1_2.streamingsector\",\n",
            " \"exterior_-8_7_0_2.streamingsector\",\n",
            " \"exterior_-16_11_0_1.streamingsector\",\n",
            " \"exterior_-8_7_-1_2.streamingsector\",\n",
            " \"exterior_-10_7_-1_2.streamingsector\",\n",
            " \"exterior_-9_5_-1_2.streamingsector\",\n",
            " \"exterior_-9_8_0_2.streamingsector\",\n",
            " \"exterior_-9_5_0_2.streamingsector\",\n",
            " \"exterior_-11_7_0_2.streamingsector\",\n",
            " \"exterior_-4_3_0_3.streamingsector\",\n",
            " \"exterior_-3_1_-1_4.streamingsector\",\n",
            " \"exterior_-5_2_0_3.streamingsector\",\n",
            " \"exterior_-8_5_0_2.streamingsector\",\n",
            " \"exterior_-10_8_0_2.streamingsector\",\n",
            " \"exterior_-6_3_0_3.streamingsector\",\n",
            " \"exterior_-5_4_0_3.streamingsector\",\n",
            " \"exterior_-11_7_-1_2.streamingsector\",\n",
            " \"exterior_-8_8_0_2.streamingsector\",\n",
            " \"exterior_-7_6_0_2.streamingsector\",\n",
            " \"exterior_-7_7_0_2.streamingsector\",\n",
            " \"exterior_-4_2_0_3.streamingsector\",\n",
            " \"exterior_-11_8_-1_2.streamingsector\",\n",
            " \"exterior_-8_4_-1_2.streamingsector\",\n",
            " \"exterior_-11_8_0_2.streamingsector\",\n",
            " \"exterior_-7_5_0_2.streamingsector\",\n",
            " \"exterior_-8_4_0_2.streamingsector\",\n",
            " \"exterior_-2_1_0_4.streamingsector\",\n",
            " \"exterior_-4_4_0_3.streamingsector\",\n",
            " \"exterior_-7_8_0_2.streamingsector\",\n",
            " \"exterior_-3_2_0_4.streamingsector\",\n",
            " \"exterior_-6_4_0_3.streamingsector\",\n",
            " \"exterior_-7_4_0_2.streamingsector\",\n",
            " \"exterior_-6_2_0_3.streamingsector\",\n",
            " \"exterior_-3_3_0_3.streamingsector\",\n",
            " \"exterior_-5_5_0_3.streamingsector\",\n",
            " \"exterior_-2_2_0_4.streamingsector\",\n",
            " \"exterior_-3_2_0_3.streamingsector\",\n",
            " \"exterior_-4_1_0_3.streamingsector\",\n",
            " \"exterior_-5_1_0_3.streamingsector\",\n",
            " \"exterior_-3_4_0_3.streamingsector\",\n",
            " \"exterior_-6_5_0_3.streamingsector\",\n",
            " \"exterior_-4_5_0_3.streamingsector\",\n",
            " \"exterior_-6_1_-1_3.streamingsector\",\n",
            " \"exterior_-6_5_-1_3.streamingsector\",\n",
            " \"exterior_-2_0_0_5.streamingsector\",\n",
            " \"exterior_-2_1_-1_4.streamingsector\",\n",
            " \"exterior_-3_1_0_3.streamingsector\",\n",
            " \"exterior_-4_1_-1_4.streamingsector\",\n",
            " \"exterior_-2_0_0_4.streamingsector\",\n",
            " \"exterior_-3_5_0_3.streamingsector\",\n",
            " \"exterior_-1_0_-1_5.streamingsector\",\n",
            " \"exterior_-1_0_0_5.streamingsector\",\n",
            " \"exterior_-3_0_0_4.streamingsector\",\n",
            " \"exterior_-3_0_-1_4.streamingsector\",\n",
            " \"exterior_-1_1_0_5.streamingsector\",\n",
            " \"exterior_-2_1_0_5.streamingsector\",\n",
            " \"exterior_-4_2_-1_4.streamingsector\",\n",
            " \"exterior_-1_1_-1_4.streamingsector\",\n",
            " \"exterior_-4_0_-1_4.streamingsector\",\n",
            " \"exterior_-1_0_0_6.streamingsector\",\n",
            " \"exterior_-1_1_0_4.streamingsector\",\n",
            " \"exterior_-1_0_-1_6.streamingsector\",\n",
            " \"exterior_-2_0_-1_4.streamingsector\",\n",
            " \"exterior_-1_2_0_4.streamingsector\",\n",
            " \"exterior_-4_0_0_4.streamingsector\",\n",
            " \"exterior_-3_3_0_4.streamingsector\",\n",
            " \"exterior_-2_3_0_4.streamingsector\",\n",
            " \"exterior_-1_-1_-1_6.streamingsector\",\n",
            " \"exterior_-1_0_0_4.streamingsector\",\n",
            " \"exterior_-1_0_-1_4.streamingsector\",\n",
            " \"exterior_-1_3_-1_4.streamingsector\",\n",
            " \"exterior_-3_-1_0_4.streamingsector\",\n",
            " \"exterior_-2_-1_-1_4.streamingsector\",\n",
            " \"exterior_-2_-1_0_4.streamingsector\",\n",
            " \"exterior_-1_3_0_4.streamingsector\",\n",
            " \"exterior_-1_1_0_6.streamingsector\",\n",
            " \"exterior_-1_-1_0_6.streamingsector\",\n",
            " \"exterior_-3_0_0_5.streamingsector\",\n",
            " \"exterior_-1_-1_0_4.streamingsector\",\n",
            " \"exterior_-1_-1_0_5.streamingsector\",\n",
            " \"exterior_-3_1_0_5.streamingsector\",\n",
            " \"exterior_-2_-1_-1_5.streamingsector\",\n",
            " \"exterior_-2_-1_0_5.streamingsector\",\n",
            " \"exterior_-1_-1_-1_5.streamingsector\",\n",
            " \"exterior_0_0_0_5.streamingsector\",\n",
            " \"exterior_0_0_-1_6.streamingsector\",\n",
            " \"exterior_-2_0_0_6.streamingsector\",\n",
            " \"exterior_-2_0_-1_6.streamingsector\",\n",
            " \"exterior_-2_-1_-1_6.streamingsector\",\n",
            " \"exterior_0_-1_0_6.streamingsector\",\n",
            " \"exterior_0_-1_0_5.streamingsector\",\n",
            " \"exterior_-3_2_0_5.streamingsector\",\n",
            " \"exterior_-2_-2_0_5.streamingsector\",\n",
            " \"exterior_-1_-2_0_5.streamingsector\",\n",
            " \"exterior_0_0_0_6.streamingsector\",\n",
            " \"exterior_0_-1_-1_6.streamingsector\",\n",
            " \"exterior_-2_-1_0_6.streamingsector\",\n",
            " \"exterior_0_-2_0_5.streamingsector\",\n",
            " \"exterior_-2_1_0_6.streamingsector\",\n",
            " \"exterior_0_1_0_6.streamingsector\",\n",
            " \"exterior_-2_-2_-1_6.streamingsector\",\n",
            " \"exterior_-1_-2_0_6.streamingsector\",\n",
            " \"exterior_0_-2_-1_6.streamingsector\",\n",
            " \"exterior_0_-2_0_6.streamingsector\",\n",
            " \"exterior_-1_-2_-1_6.streamingsector\",\n",
            " \"exterior_1_0_0_6.streamingsector\",\n",
            " \"exterior_1_-1_-1_6.streamingsector\",\n",
            " \"exterior_1_1_0_6.streamingsector\",\n",
            " \"exterior_-2_-2_0_6.streamingsector\",\n",
            " \"exterior_1_-1_0_6.streamingsector\",\n",
            " \"exterior_1_-2_0_6.streamingsector\",\n",
            "]\n",
            " \n",
            "Copy the below to paste into asset browser search\n",
            "  exterior_-35_27_5_0.streamingsector |  exterior_-35_27_4_0.streamingsector |  exterior_-18_13_2_1.streamingsector |  exterior_-9_6_1_2.streamingsector |  exterior_-17_13_2_1.streamingsector |  exterior_-35_26_4_0.streamingsector |  exterior_-17_14_2_1.streamingsector |  exterior_-34_27_4_0.streamingsector |  exterior_-34_26_4_0.streamingsector |  exterior_-18_13_1_1.streamingsector |  exterior_-17_13_1_1.streamingsector |  exterior_-18_14_1_1.streamingsector |  exterior_-18_13_0_1.streamingsector |  exterior_-9_6_0_2.streamingsector |  exterior_-3_1_0_4.streamingsector |  exterior_-17_13_0_1.streamingsector |  exterior_-5_3_0_3.streamingsector |  exterior_-9_7_0_2.streamingsector |  exterior_-10_6_0_2.streamingsector |  exterior_-9_6_-1_2.streamingsector |  exterior_-17_15_0_1.streamingsector |  exterior_-16_12_0_1.streamingsector |  exterior_-10_6_-1_2.streamingsector |  exterior_-8_6_0_2.streamingsector |  exterior_-8_6_-1_2.streamingsector |  exterior_-10_7_0_2.streamingsector |  exterior_-8_5_1_2.streamingsector |  exterior_-8_7_0_2.streamingsector |  exterior_-16_11_0_1.streamingsector |  exterior_-8_7_-1_2.streamingsector |  exterior_-10_7_-1_2.streamingsector |  exterior_-9_5_-1_2.streamingsector |  exterior_-9_8_0_2.streamingsector |  exterior_-9_5_0_2.streamingsector |  exterior_-11_7_0_2.streamingsector |  exterior_-4_3_0_3.streamingsector |  exterior_-3_1_-1_4.streamingsector |  exterior_-5_2_0_3.streamingsector |  exterior_-8_5_0_2.streamingsector |  exterior_-10_8_0_2.streamingsector |  exterior_-6_3_0_3.streamingsector |  exterior_-5_4_0_3.streamingsector |  exterior_-11_7_-1_2.streamingsector |  exterior_-8_8_0_2.streamingsector |  exterior_-7_6_0_2.streamingsector |  exterior_-7_7_0_2.streamingsector |  exterior_-4_2_0_3.streamingsector |  exterior_-11_8_-1_2.streamingsector |  exterior_-8_4_-1_2.streamingsector |  exterior_-11_8_0_2.streamingsector |  exterior_-7_5_0_2.streamingsector |  exterior_-8_4_0_2.streamingsector |  exterior_-2_1_0_4.streamingsector |  exterior_-4_4_0_3.streamingsector |  exterior_-7_8_0_2.streamingsector |  exterior_-3_2_0_4.streamingsector |  exterior_-6_4_0_3.streamingsector |  exterior_-7_4_0_2.streamingsector |  exterior_-6_2_0_3.streamingsector |  exterior_-3_3_0_3.streamingsector |  exterior_-5_5_0_3.streamingsector |  exterior_-2_2_0_4.streamingsector |  exterior_-3_2_0_3.streamingsector |  exterior_-4_1_0_3.streamingsector |  exterior_-5_1_0_3.streamingsector |  exterior_-3_4_0_3.streamingsector |  exterior_-6_5_0_3.streamingsector |  exterior_-4_5_0_3.streamingsector |  exterior_-6_1_-1_3.streamingsector |  exterior_-6_5_-1_3.streamingsector |  exterior_-2_0_0_5.streamingsector |  exterior_-2_1_-1_4.streamingsector |  exterior_-3_1_0_3.streamingsector |  exterior_-4_1_-1_4.streamingsector |  exterior_-2_0_0_4.streamingsector |  exterior_-3_5_0_3.streamingsector |  exterior_-1_0_-1_5.streamingsector |  exterior_-1_0_0_5.streamingsector |  exterior_-3_0_0_4.streamingsector |  exterior_-3_0_-1_4.streamingsector |  exterior_-1_1_0_5.streamingsector |  exterior_-2_1_0_5.streamingsector |  exterior_-4_2_-1_4.streamingsector |  exterior_-1_1_-1_4.streamingsector |  exterior_-4_0_-1_4.streamingsector |  exterior_-1_0_0_6.streamingsector |  exterior_-1_1_0_4.streamingsector |  exterior_-1_0_-1_6.streamingsector |  exterior_-2_0_-1_4.streamingsector |  exterior_-1_2_0_4.streamingsector |  exterior_-4_0_0_4.streamingsector |  exterior_-3_3_0_4.streamingsector |  exterior_-2_3_0_4.streamingsector |  exterior_-1_-1_-1_6.streamingsector |  exterior_-1_0_0_4.streamingsector |  exterior_-1_0_-1_4.streamingsector |  exterior_-1_3_-1_4.streamingsector |  exterior_-3_-1_0_4.streamingsector |  exterior_-2_-1_-1_4.streamingsector |  exterior_-2_-1_0_4.streamingsector |  exterior_-1_3_0_4.streamingsector |  exterior_-1_1_0_6.streamingsector |  exterior_-1_-1_0_6.streamingsector |  exterior_-3_0_0_5.streamingsector |  exterior_-1_-1_0_4.streamingsector |  exterior_-1_-1_0_5.streamingsector |  exterior_-3_1_0_5.streamingsector |  exterior_-2_-1_-1_5.streamingsector |  exterior_-2_-1_0_5.streamingsector |  exterior_-1_-1_-1_5.streamingsector |  exterior_0_0_0_5.streamingsector |  exterior_0_0_-1_6.streamingsector |  exterior_-2_0_0_6.streamingsector |  exterior_-2_0_-1_6.streamingsector |  exterior_-2_-1_-1_6.streamingsector |  exterior_0_-1_0_6.streamingsector |  exterior_0_-1_0_5.streamingsector |  exterior_-3_2_0_5.streamingsector |  exterior_-2_-2_0_5.streamingsector |  exterior_-1_-2_0_5.streamingsector |  exterior_0_0_0_6.streamingsector |  exterior_0_-1_-1_6.streamingsector |  exterior_-2_-1_0_6.streamingsector |  exterior_0_-2_0_5.streamingsector |  exterior_-2_1_0_6.streamingsector |  exterior_0_1_0_6.streamingsector |  exterior_-2_-2_-1_6.streamingsector |  exterior_-1_-2_0_6.streamingsector |  exterior_0_-2_-1_6.streamingsector |  exterior_0_-2_0_6.streamingsector |  exterior_-1_-2_-1_6.streamingsector |  exterior_1_0_0_6.streamingsector |  exterior_1_-1_-1_6.streamingsector |  exterior_1_1_0_6.streamingsector |  exterior_-2_-2_0_6.streamingsector |  exterior_1_-1_0_6.streamingsector |  exterior_1_-2_0_6.streamingsector |"
          ]
        }
      ]
    },
    {
      "cell_type": "code",
      "source": [
        "def split_on_uppercase(s, keep_contiguous=False):\n",
        "    \"\"\"\n",
        "\n",
        "    Args:\n",
        "        s (str): string\n",
        "        keep_contiguous (bool): flag to indicate we want to \n",
        "                                keep contiguous uppercase chars together\n",
        "\n",
        "    Returns:\n",
        "\n",
        "    \"\"\"\n",
        "\n",
        "    string_length = len(s)\n",
        "    is_lower_around = (lambda: s[i-1].islower() or \n",
        "                       string_length > (i + 1) and s[i + 1].islower())\n",
        "\n",
        "    start = 0\n",
        "    parts = []\n",
        "    for i in range(1, string_length):\n",
        "        if s[i].isupper() and (not keep_contiguous or is_lower_around()):\n",
        "            parts.append(s[start: i])\n",
        "            start = i\n",
        "    parts.append(s[start:])\n",
        "\n",
        "    return parts"
      ],
      "metadata": {
        "id": "dN6cGuEAQDpk"
      },
      "id": "dN6cGuEAQDpk",
      "execution_count": 10,
      "outputs": []
    },
    {
      "cell_type": "code",
      "source": [
        "nodeRefs=[]\n",
        "for d in data:\n",
        "    for v in d['variants']:\n",
        "      if v['nodeRef'] not in nodeRefs:\n",
        "        nodeRefs.append(v['nodeRef'])\n",
        "\n",
        "#pprint(nodeRefs)\n"
      ],
      "metadata": {
        "id": "zyUKKZW0R_2B"
      },
      "id": "zyUKKZW0R_2B",
      "execution_count": 19,
      "outputs": []
    },
    {
      "cell_type": "code",
      "source": [
        "sectors_of_interest=[]\n",
        "for i,d in enumerate(data):\n",
        "    for v in d['variants']:\n",
        "        if 'q000_scavengers' in v['nodeRef']:\n",
        "          if d['data']['DepotPath'] not in sectors_of_interest:\n",
        "            sectors_of_interest.append(d['data']['DepotPath'])\n",
        "pprint(sectors_of_interest)"
      ],
      "metadata": {
        "id": "9b0812b6-7972-4249-a3a9-24fab9e8a554",
        "colab": {
          "base_uri": "https://localhost:8080/"
        },
        "outputId": "65fd5ff7-af5e-46f9-9c59-8bcb03a69aaf"
      },
      "execution_count": 12,
      "outputs": [
        {
          "output_type": "stream",
          "name": "stdout",
          "text": [
            "['base\\\\worlds\\\\03_night_city\\\\_compiled\\\\default\\\\exterior_-8_6_2_0.streamingsector',\n",
            " 'base\\\\worlds\\\\03_night_city\\\\_compiled\\\\default\\\\exterior_-7_6_0_0.streamingsector',\n",
            " 'base\\\\worlds\\\\03_night_city\\\\_compiled\\\\default\\\\exterior_-8_6_0_0.streamingsector',\n",
            " 'base\\\\worlds\\\\03_night_city\\\\_compiled\\\\default\\\\exterior_-7_6_2_0.streamingsector',\n",
            " 'base\\\\worlds\\\\03_night_city\\\\_compiled\\\\default\\\\exterior_-8_7_2_0.streamingsector',\n",
            " 'base\\\\worlds\\\\03_night_city\\\\_compiled\\\\default\\\\exterior_-8_7_1_0.streamingsector',\n",
            " 'base\\\\worlds\\\\03_night_city\\\\_compiled\\\\default\\\\exterior_-8_5_2_0.streamingsector',\n",
            " 'base\\\\worlds\\\\03_night_city\\\\_compiled\\\\default\\\\exterior_-7_7_2_0.streamingsector',\n",
            " 'base\\\\worlds\\\\03_night_city\\\\_compiled\\\\default\\\\exterior_-4_3_0_1.streamingsector',\n",
            " 'base\\\\worlds\\\\03_night_city\\\\_compiled\\\\default\\\\exterior_-4_3_1_1.streamingsector',\n",
            " 'base\\\\worlds\\\\03_night_city\\\\_compiled\\\\default\\\\exterior_-4_2_1_1.streamingsector',\n",
            " 'base\\\\worlds\\\\03_night_city\\\\_compiled\\\\default\\\\exterior_-2_1_0_2.streamingsector',\n",
            " 'base\\\\worlds\\\\03_night_city\\\\_compiled\\\\default\\\\exterior_-1_0_0_3.streamingsector',\n",
            " 'base\\\\worlds\\\\03_night_city\\\\_compiled\\\\default\\\\interior_-8_6_2_1.streamingsector',\n",
            " 'base\\\\worlds\\\\03_night_city\\\\_compiled\\\\default\\\\quest_901f0a358d17730e.streamingsector']\n"
          ]
        }
      ],
      "id": "9b0812b6-7972-4249-a3a9-24fab9e8a554"
    },
    {
      "cell_type": "code",
      "source": [
        "import json\n",
        "import copy\n",
        "templatepath=\"sectorStuff/sectors.streamingblock.json\"\n",
        "with open(templatepath,'r') as f: \n",
        "      tmp=json.load(f) \n",
        "rc=tmp['Data']['RootChunk']\n",
        "descriptors=rc['descriptors']"
      ],
      "metadata": {
        "id": "sRzlxNg0LLB2"
      },
      "id": "sRzlxNg0LLB2",
      "execution_count": 13,
      "outputs": []
    },
    {
      "cell_type": "code",
      "source": [
        "# Run this block to save a streamingblock with the internal sectors list\n",
        "\n",
        "while len(descriptors)>0:\n",
        "  descriptors.pop(0)\n",
        "len(descriptors)\n",
        "\n",
        "for idx in int_idxs:\n",
        "  descriptors.append(copy.deepcopy(data[idx]))\n",
        "  new_Index=len(descriptors)-1\n",
        "  new_desc=descriptors[new_Index]\n",
        "print(len(descriptors),' sectors added to streamingblock')\n",
        "pathout='int_sectors.streamingblock.json'\n",
        "with open(pathout, 'w') as outfile:\n",
        "    json.dump(tmp, outfile,indent=2)"
      ],
      "metadata": {
        "id": "RC7_SYfBPLuZ",
        "outputId": "5cc43ac5-4695-47a2-882a-b9e7f851f7a6",
        "colab": {
          "base_uri": "https://localhost:8080/"
        }
      },
      "id": "RC7_SYfBPLuZ",
      "execution_count": 14,
      "outputs": [
        {
          "output_type": "stream",
          "name": "stdout",
          "text": [
            "28  sectors added to streamingblock\n"
          ]
        }
      ]
    },
    {
      "cell_type": "code",
      "source": [
        "# Run this block to save a streamingblock with the external sectors list\n",
        "\n",
        "while len(descriptors)>0:\n",
        "  descriptors.pop(0)\n",
        "len(descriptors)\n",
        "\n",
        "for idx in ext_idxs:\n",
        "  descriptors.append(copy.deepcopy(data[idx]))\n",
        "  new_Index=len(descriptors)-1\n",
        "  new_desc=descriptors[new_Index]\n",
        "  new_desc.pop('variants')\n",
        "print(len(descriptors),' sectors added to streamingblock')\n",
        "pathout='ext_sectors.streamingblock.json'\n",
        "with open(pathout, 'w') as outfile:\n",
        "    json.dump(tmp, outfile,indent=2)"
      ],
      "metadata": {
        "id": "iBbQItfLXXBC",
        "outputId": "4ff517d7-1230-4524-cacb-0c10b05cba2b",
        "colab": {
          "base_uri": "https://localhost:8080/"
        }
      },
      "id": "iBbQItfLXXBC",
      "execution_count": 15,
      "outputs": [
        {
          "output_type": "stream",
          "name": "stdout",
          "text": [
            "137  sectors added to streamingblock\n"
          ]
        }
      ]
    },
    {
      "cell_type": "code",
      "source": [
        "from pprint import pprint\n",
        "pprint(sect)"
      ],
      "metadata": {
        "id": "3or3NQi03IDk",
        "outputId": "b18ef7f0-174f-4c81-dd5c-3ecdec581bf1",
        "colab": {
          "base_uri": "https://localhost:8080/"
        }
      },
      "id": "3or3NQi03IDk",
      "execution_count": 16,
      "outputs": [
        {
          "output_type": "stream",
          "name": "stdout",
          "text": [
            "(11506.344687114215,\n",
            " 'base\\\\worlds\\\\03_night_city\\\\_compiled\\\\default\\\\exterior_1_-2_0_6.streamingsector')\n"
          ]
        }
      ]
    },
    {
      "cell_type": "code",
      "source": [
        "#paste a sector list\n",
        "sectors=['interior_-70_53_0_0','interior_-71_55_0_0','interior_-72_54_0_0','interior_-71_52_0_0','interior_-69_55_3_0','interior_-72_53_0_0','interior_-71_53_0_0','interior_-69_54_0_0',\n",
        "'interior_-69_55_0_0','interior_-71_54_0_0','interior_-70_55_4_0','interior_-70_55_0_0','interior_-69_55_5_0','interior_-69_55_4_0','interior_-69_53_0_0','interior_-70_55_5_0',\n",
        "'interior_-70_54_0_0','interior_-70_55_3_0','interior_-71_54_1_0','interior_-69_53_1_0','interior_-70_54_1_0','interior_-70_53_1_0','interior_-69_54_5_0','interior_-68_55_5_0',\n",
        "'interior_-70_55_1_0','interior_-68_54_5_0','interior_-69_56_3_0','interior_-69_56_4_0','interior_-68_55_8_0','interior_-69_53_8_0','interior_-70_55_9_0','interior_-68_53_8_0',\n",
        "'interior_-69_54_8_0','interior_-68_54_8_0','interior_-69_55_8_0','interior_-70_55_8_0','interior_-70_53_8_0','interior_-69_55_9_0','interior_-70_54_9_0','interior_-68_56_8_0',\n",
        "'interior_-35_27_1_1','interior_-34_26_0_1','interior_-35_27_0_1','interior_-36_26_0_1','interior_-35_26_0_1','interior_-36_27_0_1','interior_-35_27_2_1','interior_-34_27_2_1',\n",
        "'interior_-35_26_2_1','interior_-35_27_3_1','interior_-35_26_3_1','interior_-35_26_1_1','interior_-35_28_2_1','interior_-35_27_4_1','interior_-34_27_4_1','interior_-35_26_4_1',\n",
        "'interior_-34_26_4_1','interior_-34_28_4_1','interior_-35_28_4_1','interior_-18_13_0_2','interior_-17_13_0_2','interior_-18_13_1_2','interior_-17_13_1_2','interior_-18_14_0_2',\n",
        "'interior_-17_13_2_2','interior_-18_13_2_2','interior_-5_3_0_4']"
      ],
      "metadata": {
        "id": "OnX7kEi34yFF"
      },
      "id": "OnX7kEi34yFF",
      "execution_count": 17,
      "outputs": []
    },
    {
      "cell_type": "code",
      "source": [
        "# Run this block to save a streamingblock with the pasted sectors list\n",
        "\n",
        "while len(descriptors)>0:\n",
        "  descriptors.pop(0)\n",
        "len(descriptors)\n",
        "\n",
        "for sect in sectors:\n",
        "  fullpath='base\\\\worlds\\\\03_night_city\\\\_compiled\\\\default\\\\'+sect+'.streamingsector'\n",
        "  #print(fullpath)\n",
        "  orig=[s for s in data if s['data']['DepotPath']==fullpath]\n",
        "  descriptors.append(copy.deepcopy(orig[0]))\n",
        "  new_Index=len(descriptors)-1\n",
        "  new_desc=descriptors[new_Index]\n",
        "print(len(descriptors),' sectors added to streamingblock')\n",
        "pathout='int_sectors.streamingblock.json'\n",
        "with open(pathout, 'w') as outfile:\n",
        "    json.dump(tmp, outfile,indent=2)"
      ],
      "metadata": {
        "id": "Yxedr8BE5wNa",
        "outputId": "355e0038-c134-4533-f4c4-9d8a5274d6a9",
        "colab": {
          "base_uri": "https://localhost:8080/"
        }
      },
      "id": "Yxedr8BE5wNa",
      "execution_count": 20,
      "outputs": [
        {
          "output_type": "stream",
          "name": "stdout",
          "text": [
            "67  sectors added to streamingblock\n"
          ]
        }
      ]
    }
  ]
}
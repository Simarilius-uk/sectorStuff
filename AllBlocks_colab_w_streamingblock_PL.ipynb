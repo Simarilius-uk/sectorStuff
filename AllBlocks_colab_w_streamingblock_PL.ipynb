{
  "metadata": {
    "kernelspec": {
      "display_name": "Python 3 (ipykernel)",
      "language": "python",
      "name": "python3"
    },
    "language_info": {
      "name": "python",
      "version": "3.7.12",
      "mimetype": "text/x-python",
      "codemirror_mode": {
        "name": "ipython",
        "version": 3
      },
      "pygments_lexer": "ipython3",
      "nbconvert_exporter": "python",
      "file_extension": ".py"
    },
    "colab": {
      "provenance": [],
      "include_colab_link": true
    }
  },
  "nbformat_minor": 5,
  "nbformat": 4,
  "cells": [
    {
      "cell_type": "markdown",
      "metadata": {
        "id": "view-in-github",
        "colab_type": "text"
      },
      "source": [
        "<a href=\"https://colab.research.google.com/github/Simarilius-uk/sectorStuff/blob/main/AllBlocks_colab_w_streamingblock_PL.ipynb\" target=\"_parent\"><img src=\"https://colab.research.google.com/assets/colab-badge.svg\" alt=\"Open In Colab\"/></a>"
      ]
    },
    {
      "cell_type": "code",
      "source": [
        "!git clone https://github.com/Simarilius-uk/sectorStuff.git"
      ],
      "metadata": {
        "id": "Gp43qEkvOSTG",
        "outputId": "3c43651c-1e1c-4829-86cb-34fd3f000f2e",
        "colab": {
          "base_uri": "https://localhost:8080/"
        }
      },
      "id": "Gp43qEkvOSTG",
      "execution_count": 1,
      "outputs": [
        {
          "output_type": "stream",
          "name": "stdout",
          "text": [
            "Cloning into 'sectorStuff'...\n",
            "remote: Enumerating objects: 79, done.\u001b[K\n",
            "remote: Counting objects: 100% (79/79), done.\u001b[K\n",
            "remote: Compressing objects: 100% (78/78), done.\u001b[K\n",
            "remote: Total 79 (delta 43), reused 0 (delta 0), pack-reused 0\u001b[K\n",
            "Receiving objects: 100% (79/79), 2.70 MiB | 3.69 MiB/s, done.\n",
            "Resolving deltas: 100% (43/43), done.\n"
          ]
        }
      ]
    },
    {
      "cell_type": "code",
      "source": [
        "import json\n",
        "import glob\n",
        "import os\n",
        "import zipfile\n",
        "\n",
        "filepath = 'sectorStuff/all.streamingblock_inc_PL.json.zip'\n",
        "with zipfile.ZipFile(\"./sectorStuff/all.streamingblock_inc_PL.json.zip\", \"r\") as z:\n",
        "  filename=z.namelist()[0]\n",
        "  print(filename)\n",
        "  with z.open(filename) as f:\n",
        "         data = f.read()\n",
        "         j = json.loads(data)\n",
        "\n"
      ],
      "metadata": {
        "trusted": true,
        "id": "6cd440df",
        "outputId": "28a350a2-08bf-413d-8f8b-3168811beaa2",
        "colab": {
          "base_uri": "https://localhost:8080/"
        }
      },
      "execution_count": 4,
      "outputs": [
        {
          "output_type": "stream",
          "name": "stdout",
          "text": [
            "all.streamingblock_inc_PL.json\n"
          ]
        }
      ],
      "id": "6cd440df"
    },
    {
      "cell_type": "code",
      "source": [
        "from pprint import pprint\n",
        "data=j['Data']['RootChunk']['descriptors']\n",
        "print('Sectors found - ',len(data))\n",
        "\n",
        "#pprint(data[0])"
      ],
      "metadata": {
        "trusted": true,
        "id": "cdae13ad",
        "colab": {
          "base_uri": "https://localhost:8080/"
        },
        "outputId": "91dcf820-71ba-4e4d-e3fd-42dcc70e1435"
      },
      "execution_count": 5,
      "outputs": [
        {
          "output_type": "stream",
          "name": "stdout",
          "text": [
            "Sectors found -  23623\n"
          ]
        }
      ],
      "id": "cdae13ad"
    },
    {
      "cell_type": "code",
      "source": [
        "#Enter the player location below (obtain from AMM)\n",
        "player_loc={\"x\":-1872.2495117188,\"z\":439.77191162109,\"y\":-2259.0903320313}\n",
        "\n",
        "if 'X' not in player_loc.keys() and 'x' in player_loc.keys():\n",
        "  player_loc['X']=player_loc['x']\n",
        "if 'Y' not in player_loc.keys() and 'y' in player_loc.keys():\n",
        "  player_loc['Y']=player_loc['y']\n",
        "if 'Z' not in player_loc.keys() and 'z' in player_loc.keys():\n",
        "  player_loc['Z']=player_loc['z']"
      ],
      "metadata": {
        "trusted": true,
        "id": "b98a64a5"
      },
      "execution_count": 6,
      "outputs": [],
      "id": "b98a64a5"
    },
    {
      "cell_type": "code",
      "source": [
        "player_in_int=[]\n",
        "player_in_ext=[]\n",
        "player_in_quest=[]\n",
        "int_idxs=[]\n",
        "ext_idxs=[]\n",
        "comb_list=[]\n",
        "MAX_DIST=100\n",
        "for idx,sector in enumerate(data):\n",
        "    if sector['streamingBox']['Min']['X']<player_loc['X'] and sector['streamingBox']['Max']['X']>player_loc['X']:\n",
        "        if sector['streamingBox']['Min']['Y']<player_loc['Y'] and sector['streamingBox']['Max']['Y']>player_loc['Y']:\n",
        "            if sector['streamingBox']['Min']['Z']<player_loc['Z'] and sector['streamingBox']['Max']['Z']>player_loc['Z']:\n",
        "                centrepoint={'X':(sector['streamingBox']['Min']['X']+sector['streamingBox']['Max']['X'])/2,\n",
        "                             'Y':(sector['streamingBox']['Min']['Y']+sector['streamingBox']['Max']['Y'])/2,\n",
        "                             'Z':(sector['streamingBox']['Min']['Z']+sector['streamingBox']['Max']['Z'])/2}\n",
        "                dist=((player_loc['X']-centrepoint['X'])**2+(player_loc['Y']-centrepoint['Y'])**2+(player_loc['Z']-centrepoint['Z'])**2)**0.5\n",
        "                if sector['category']=='Exterior':\n",
        "                    player_in_ext.append((centrepoint,sector))\n",
        "                    ext_idxs.append(idx)\n",
        "                if sector['category']=='Interior':\n",
        "                    player_in_int.append((centrepoint,sector))\n",
        "                    int_idxs.append(idx)\n",
        "                if dist<MAX_DIST:\n",
        "                    comb_list.append(idx)\n",
        "                #if sector['category']=='Quest':\n",
        "                #    player_in_quest.append((centrepoint,sector))\n",
        "print('Interior ',len(player_in_int))\n",
        "print('Exterior ',len(player_in_ext))\n",
        "print('combined ', len(comb_list))\n",
        "#print('Quest ',len(player_in_quest))"
      ],
      "metadata": {
        "trusted": true,
        "id": "971a9c5d-f0be-45d7-9958-e429dc62c0a8",
        "colab": {
          "base_uri": "https://localhost:8080/"
        },
        "outputId": "31e18ef9-370a-4446-8d2d-58754f5efc85"
      },
      "execution_count": 7,
      "outputs": [
        {
          "output_type": "stream",
          "name": "stdout",
          "text": [
            "Interior  4\n",
            "Exterior  130\n",
            "combined  0\n"
          ]
        }
      ],
      "id": "971a9c5d-f0be-45d7-9958-e429dc62c0a8"
    },
    {
      "cell_type": "code",
      "source": [
        "#prints the Interior sector names the player co-ordinates are within, plus the distance from the centre of those sectors to the co-ords\n",
        "list=[]\n",
        "print('Distance     Sector Name')\n",
        "for idx,sect in enumerate(player_in_int):\n",
        "    dist=((player_loc['X']-sect[0]['X'])**2+(player_loc['Y']-sect[0]['Y'])**2+(player_loc['Z']-sect[0]['Z'])**2)**0.5\n",
        "    list.append((dist,sect[1]['data']['DepotPath']['$value']))\n",
        "\n",
        "list.sort()\n",
        "for sect in list:\n",
        "    print(\"{:10.2f}\".format(sect[0]), ' ' , sect[1].split('\\\\')[-1])\n"
      ],
      "metadata": {
        "tags": [],
        "trusted": true,
        "id": "2c5bc22b-ea2d-4565-bfd9-d793a985bf31",
        "colab": {
          "base_uri": "https://localhost:8080/"
        },
        "outputId": "6da8eb47-d4cd-4fcc-fc7c-4eb41f1be8f9"
      },
      "execution_count": 9,
      "outputs": [
        {
          "output_type": "stream",
          "name": "stdout",
          "text": [
            "Distance     Sector Name\n",
            "    529.36   interior_-4_-4_0_4.streamingsector\n",
            "    564.25   interior_-7_-8_0_3.streamingsector\n",
            "    639.93   interior_-5_-5_0_4.streamingsector\n",
            "    652.67   interior_-5_-4_0_4.streamingsector\n"
          ]
        }
      ],
      "id": "2c5bc22b-ea2d-4565-bfd9-d793a985bf31"
    },
    {
      "cell_type": "code",
      "source": [
        "#prints the Exterior sector names the player co-ordinates are within, plus the distance from the centre of those sectors to the co-ords\n",
        "ext_list=[]\n",
        "print('Distance     Sector Name')\n",
        "for sect in player_in_ext:\n",
        "    dist=((player_loc['X']-sect[0]['X'])**2+(player_loc['Y']-sect[0]['Y'])**2+(player_loc['Z']-sect[0]['Z'])**2)**0.5\n",
        "    ext_list.append((dist,sect[1]['data']['DepotPath']['$value']))\n",
        "ext_list.sort()\n",
        "for sect in ext_list:\n",
        "    print(\"{:10.2f}\".format(sect[0]), ' ' ,sect[1].split('\\\\')[-1])"
      ],
      "metadata": {
        "tags": [],
        "trusted": true,
        "id": "2e1e67d0-a453-4047-8ca8-35abc807ffe7",
        "colab": {
          "base_uri": "https://localhost:8080/"
        },
        "outputId": "55afffb2-94e0-4729-f7ae-fb77512c5634"
      },
      "execution_count": 10,
      "outputs": [
        {
          "output_type": "stream",
          "name": "stdout",
          "text": [
            "Distance     Sector Name\n",
            "    206.28   exterior_-4_-5_0_3.streamingsector\n",
            "    253.43   exterior_-14_-17_2_1.streamingsector\n",
            "    270.65   exterior_-15_-17_1_1.streamingsector\n",
            "    276.32   exterior_-16_-20_2_1.streamingsector\n",
            "    282.81   exterior_-8_-10_1_2.streamingsector\n",
            "    305.70   exterior_-16_-19_1_1.streamingsector\n",
            "    320.38   exterior_-14_-17_1_1.streamingsector\n",
            "    357.79   exterior_-13_-17_1_1.streamingsector\n",
            "    378.83   exterior_-7_-9_0_2.streamingsector\n",
            "    397.78   exterior_-8_-10_0_2.streamingsector\n",
            "    410.69   exterior_-8_-9_0_2.streamingsector\n",
            "    453.08   exterior_-4_-5_-1_3.streamingsector\n",
            "    477.00   exterior_-2_-3_0_4.streamingsector\n",
            "    494.05   exterior_-9_-11_1_2.streamingsector\n",
            "    500.06   exterior_-9_-10_0_2.streamingsector\n",
            "    503.40   exterior_-5_-5_0_3.streamingsector\n",
            "    520.43   exterior_-8_-8_0_2.streamingsector\n",
            "    525.10   exterior_-7_-8_0_2.streamingsector\n",
            "    528.03   exterior_-9_-9_0_2.streamingsector\n",
            "    588.35   exterior_-9_-11_0_2.streamingsector\n",
            "    608.85   exterior_-9_-8_0_2.streamingsector\n",
            "    611.41   exterior_-6_-9_0_2.streamingsector\n",
            "    626.83   exterior_-4_-4_0_3.streamingsector\n",
            "    630.88   exterior_-5_-4_0_3.streamingsector\n",
            "    636.04   exterior_-6_-8_0_2.streamingsector\n",
            "    691.85   exterior_-10_-9_0_2.streamingsector\n",
            "    710.01   exterior_-3_-5_0_3.streamingsector\n",
            "    717.44   exterior_-8_-7_0_2.streamingsector\n",
            "    722.84   exterior_-2_-3_-1_4.streamingsector\n",
            "    724.93   exterior_-10_-8_0_2.streamingsector\n",
            "    729.65   exterior_-10_-10_0_2.streamingsector\n",
            "    731.99   exterior_-6_-11_0_2.streamingsector\n",
            "    732.95   exterior_-7_-7_0_2.streamingsector\n",
            "    734.31   exterior_-3_-3_0_4.streamingsector\n",
            "    742.80   exterior_-5_-6_0_3.streamingsector\n",
            "    745.64   exterior_-4_-6_0_3.streamingsector\n",
            "    791.18   exterior_-4_-4_-1_3.streamingsector\n",
            "    800.64   exterior_-10_-11_0_2.streamingsector\n",
            "    842.98   exterior_-5_-6_-1_3.streamingsector\n",
            "    873.93   exterior_-3_-2_-1_4.streamingsector\n",
            "    891.99   exterior_-3_-6_0_3.streamingsector\n",
            "    900.13   exterior_-2_-2_0_4.streamingsector\n",
            "    907.53   exterior_-2_-2_-1_5.streamingsector\n",
            "    909.20   exterior_-3_-4_0_3.streamingsector\n",
            "    911.12   exterior_-3_-2_0_4.streamingsector\n",
            "    911.32   exterior_-2_-2_-1_4.streamingsector\n",
            "    935.35   exterior_-6_-5_0_3.streamingsector\n",
            "    965.09   exterior_-6_-5_-1_3.streamingsector\n",
            "   1012.48   exterior_-3_-6_-1_3.streamingsector\n",
            "   1019.85   exterior_-4_-3_0_3.streamingsector\n",
            "   1056.57   exterior_-2_-1_0_5.streamingsector\n",
            "   1087.55   exterior_-6_-4_0_3.streamingsector\n",
            "   1090.37   exterior_-2_-2_0_5.streamingsector\n",
            "   1113.19   exterior_-6_-4_-1_3.streamingsector\n",
            "   1131.80   exterior_-1_-2_0_5.streamingsector\n",
            "   1142.73   exterior_-1_-2_-1_5.streamingsector\n",
            "   1147.13   exterior_-4_-7_0_3.streamingsector\n",
            "   1151.02   exterior_-6_-6_0_3.streamingsector\n",
            "   1163.85   exterior_-3_-3_0_3.streamingsector\n",
            "   1172.88   exterior_-2_-5_0_3.streamingsector\n",
            "   1198.98   exterior_-5_-7_0_3.streamingsector\n",
            "   1204.79   exterior_-5_-3_0_3.streamingsector\n",
            "   1215.93   exterior_-6_-3_-1_3.streamingsector\n",
            "   1225.16   exterior_-2_-6_0_3.streamingsector\n",
            "   1232.07   exterior_-2_-4_0_3.streamingsector\n",
            "   1273.81   exterior_-3_-7_0_3.streamingsector\n",
            "   1307.07   exterior_-1_-3_0_4.streamingsector\n",
            "   1380.86   exterior_-3_-4_0_4.streamingsector\n",
            "   1496.60   exterior_-6_-7_0_3.streamingsector\n",
            "   1509.56   exterior_-2_-4_0_4.streamingsector\n",
            "   1511.18   exterior_-2_-3_0_3.streamingsector\n",
            "   1535.76   exterior_-1_-1_0_5.streamingsector\n",
            "   1560.80   exterior_-1_-2_0_4.streamingsector\n",
            "   1607.84   exterior_-2_-7_0_3.streamingsector\n",
            "   1628.21   exterior_-4_-2_0_3.streamingsector\n",
            "   1691.91   exterior_-1_-2_-1_4.streamingsector\n",
            "   1775.88   exterior_-4_-3_0_4.streamingsector\n",
            "   1815.41   exterior_-2_-1_0_4.streamingsector\n",
            "   1841.14   exterior_-3_-1_0_4.streamingsector\n",
            "   1867.78   exterior_-3_-1_-1_4.streamingsector\n",
            "   2041.91   exterior_-2_-1_-1_4.streamingsector\n",
            "   2120.06   exterior_-4_-4_0_4.streamingsector\n",
            "   2132.48   exterior_-2_-1_-2_4.streamingsector\n",
            "   2149.04   exterior_-1_-4_0_4.streamingsector\n",
            "   2200.79   exterior_-1_-1_-1_4.streamingsector\n",
            "   2267.29   exterior_-1_-1_0_4.streamingsector\n",
            "   2287.45   exterior_-1_-1_-1_6.streamingsector\n",
            "   2418.51   exterior_-1_0_0_6.streamingsector\n",
            "   2442.51   exterior_0_-2_-1_4.streamingsector\n",
            "   2442.53   exterior_0_-2_0_4.streamingsector\n",
            "   2471.27   exterior_-1_-2_0_6.streamingsector\n",
            "   2565.56   exterior_-1_-1_0_6.streamingsector\n",
            "   2706.70   exterior_-5_0_0_3.streamingsector\n",
            "   2788.45   exterior_-3_-2_-1_5.streamingsector\n",
            "   2851.80   exterior_0_-1_0_5.streamingsector\n",
            "   2876.78   exterior_0_-1_-1_4.streamingsector\n",
            "   2915.05   exterior_-2_0_0_5.streamingsector\n",
            "   2945.73   exterior_-1_-3_0_5.streamingsector\n",
            "   2964.68   exterior_0_-1_0_4.streamingsector\n",
            "   2966.16   exterior_0_-2_0_5.streamingsector\n",
            "   3085.62   exterior_-2_-2_-1_6.streamingsector\n",
            "   3195.90   exterior_0_-5_0_4.streamingsector\n",
            "   3201.50   exterior_-1_-2_-1_6.streamingsector\n",
            "   3306.53   exterior_0_-2_-1_6.streamingsector\n",
            "   3350.47   exterior_-1_0_0_5.streamingsector\n",
            "   3387.81   exterior_-3_-2_0_5.streamingsector\n",
            "   3438.67   exterior_0_-1_0_6.streamingsector\n",
            "   3457.70   exterior_0_-2_0_6.streamingsector\n",
            "   3463.54   exterior_-2_0_0_6.streamingsector\n",
            "   3463.54   exterior_-3_0_0_5.streamingsector\n",
            "   3503.49   exterior_-2_-1_-1_6.streamingsector\n",
            "   3530.27   exterior_-3_-1_0_5.streamingsector\n",
            "   3557.13   exterior_-1_0_-1_5.streamingsector\n",
            "   3822.25   exterior_0_0_-1_6.streamingsector\n",
            "   4290.71   exterior_-2_-1_0_6.streamingsector\n",
            "   4463.16   exterior_0_-1_-1_6.streamingsector\n",
            "   4528.91   exterior_0_0_0_5.streamingsector\n",
            "   4701.79   exterior_-4_4_0_3.streamingsector\n",
            "   5071.50   exterior_0_0_0_6.streamingsector\n",
            "   5197.33   exterior_-1_0_-1_6.streamingsector\n",
            "   6082.29   exterior_-2_0_-1_6.streamingsector\n",
            "   6422.06   exterior_-1_1_0_6.streamingsector\n",
            "   6557.85   exterior_-2_-2_0_6.streamingsector\n",
            "   7668.47   exterior_1_0_0_6.streamingsector\n",
            "   7674.98   exterior_1_-1_-1_6.streamingsector\n",
            "   7762.54   exterior_1_-1_0_6.streamingsector\n",
            "   8908.43   exterior_1_-2_0_6.streamingsector\n",
            "   9273.84   exterior_0_1_0_6.streamingsector\n",
            "   9428.53   exterior_-2_1_0_6.streamingsector\n",
            "  11616.39   exterior_1_1_0_6.streamingsector\n"
          ]
        }
      ],
      "id": "2e1e67d0-a453-4047-8ca8-35abc807ffe7"
    },
    {
      "cell_type": "code",
      "source": [
        "print('Copy the below to add to wscript scripts')\n",
        "print('[')\n",
        "for sect in list:\n",
        "    print( ' \"'+sect[1].split('\\\\')[-1]+'\",')\n",
        "print(']')\n",
        "\n",
        "print(' ')\n",
        "print('Copy the below to paste into asset browser search')\n",
        "for sect in list:\n",
        "    print( ' ' ,sect[1].split('\\\\')[-1],'|', end = '')"
      ],
      "metadata": {
        "colab": {
          "base_uri": "https://localhost:8080/"
        },
        "id": "R_JYJa_KGy0J",
        "outputId": "ec608287-2e7b-4578-fe2e-ab57930b3163"
      },
      "id": "R_JYJa_KGy0J",
      "execution_count": 11,
      "outputs": [
        {
          "output_type": "stream",
          "name": "stdout",
          "text": [
            "Copy the below to add to wscript scripts\n",
            "[\n",
            " \"interior_-4_-4_0_4.streamingsector\",\n",
            " \"interior_-7_-8_0_3.streamingsector\",\n",
            " \"interior_-5_-5_0_4.streamingsector\",\n",
            " \"interior_-5_-4_0_4.streamingsector\",\n",
            "]\n",
            " \n",
            "Copy the below to paste into asset browser search\n",
            "  interior_-4_-4_0_4.streamingsector |  interior_-7_-8_0_3.streamingsector |  interior_-5_-5_0_4.streamingsector |  interior_-5_-4_0_4.streamingsector |"
          ]
        }
      ]
    },
    {
      "cell_type": "code",
      "source": [
        "print('Copy the below to add to wscript scripts')\n",
        "print('[')\n",
        "for sect in ext_list:\n",
        "    print( ' \"' +sect[1].split('\\\\')[-1]+'\",')\n",
        "print(']')\n",
        "\n",
        "print(' ')\n",
        "print('Copy the below to paste into asset browser search')\n",
        "for sect in ext_list:\n",
        "    print( ' ' ,sect[1].split('\\\\')[-1],'|', end = '')"
      ],
      "metadata": {
        "outputId": "bcb253f3-698c-4955-ebbb-083bb30dae90",
        "colab": {
          "base_uri": "https://localhost:8080/"
        },
        "id": "t8rOo8hhxxcy"
      },
      "execution_count": 12,
      "outputs": [
        {
          "output_type": "stream",
          "name": "stdout",
          "text": [
            "Copy the below to add to wscript scripts\n",
            "[\n",
            " \"exterior_-4_-5_0_3.streamingsector\",\n",
            " \"exterior_-14_-17_2_1.streamingsector\",\n",
            " \"exterior_-15_-17_1_1.streamingsector\",\n",
            " \"exterior_-16_-20_2_1.streamingsector\",\n",
            " \"exterior_-8_-10_1_2.streamingsector\",\n",
            " \"exterior_-16_-19_1_1.streamingsector\",\n",
            " \"exterior_-14_-17_1_1.streamingsector\",\n",
            " \"exterior_-13_-17_1_1.streamingsector\",\n",
            " \"exterior_-7_-9_0_2.streamingsector\",\n",
            " \"exterior_-8_-10_0_2.streamingsector\",\n",
            " \"exterior_-8_-9_0_2.streamingsector\",\n",
            " \"exterior_-4_-5_-1_3.streamingsector\",\n",
            " \"exterior_-2_-3_0_4.streamingsector\",\n",
            " \"exterior_-9_-11_1_2.streamingsector\",\n",
            " \"exterior_-9_-10_0_2.streamingsector\",\n",
            " \"exterior_-5_-5_0_3.streamingsector\",\n",
            " \"exterior_-8_-8_0_2.streamingsector\",\n",
            " \"exterior_-7_-8_0_2.streamingsector\",\n",
            " \"exterior_-9_-9_0_2.streamingsector\",\n",
            " \"exterior_-9_-11_0_2.streamingsector\",\n",
            " \"exterior_-9_-8_0_2.streamingsector\",\n",
            " \"exterior_-6_-9_0_2.streamingsector\",\n",
            " \"exterior_-4_-4_0_3.streamingsector\",\n",
            " \"exterior_-5_-4_0_3.streamingsector\",\n",
            " \"exterior_-6_-8_0_2.streamingsector\",\n",
            " \"exterior_-10_-9_0_2.streamingsector\",\n",
            " \"exterior_-3_-5_0_3.streamingsector\",\n",
            " \"exterior_-8_-7_0_2.streamingsector\",\n",
            " \"exterior_-2_-3_-1_4.streamingsector\",\n",
            " \"exterior_-10_-8_0_2.streamingsector\",\n",
            " \"exterior_-10_-10_0_2.streamingsector\",\n",
            " \"exterior_-6_-11_0_2.streamingsector\",\n",
            " \"exterior_-7_-7_0_2.streamingsector\",\n",
            " \"exterior_-3_-3_0_4.streamingsector\",\n",
            " \"exterior_-5_-6_0_3.streamingsector\",\n",
            " \"exterior_-4_-6_0_3.streamingsector\",\n",
            " \"exterior_-4_-4_-1_3.streamingsector\",\n",
            " \"exterior_-10_-11_0_2.streamingsector\",\n",
            " \"exterior_-5_-6_-1_3.streamingsector\",\n",
            " \"exterior_-3_-2_-1_4.streamingsector\",\n",
            " \"exterior_-3_-6_0_3.streamingsector\",\n",
            " \"exterior_-2_-2_0_4.streamingsector\",\n",
            " \"exterior_-2_-2_-1_5.streamingsector\",\n",
            " \"exterior_-3_-4_0_3.streamingsector\",\n",
            " \"exterior_-3_-2_0_4.streamingsector\",\n",
            " \"exterior_-2_-2_-1_4.streamingsector\",\n",
            " \"exterior_-6_-5_0_3.streamingsector\",\n",
            " \"exterior_-6_-5_-1_3.streamingsector\",\n",
            " \"exterior_-3_-6_-1_3.streamingsector\",\n",
            " \"exterior_-4_-3_0_3.streamingsector\",\n",
            " \"exterior_-2_-1_0_5.streamingsector\",\n",
            " \"exterior_-6_-4_0_3.streamingsector\",\n",
            " \"exterior_-2_-2_0_5.streamingsector\",\n",
            " \"exterior_-6_-4_-1_3.streamingsector\",\n",
            " \"exterior_-1_-2_0_5.streamingsector\",\n",
            " \"exterior_-1_-2_-1_5.streamingsector\",\n",
            " \"exterior_-4_-7_0_3.streamingsector\",\n",
            " \"exterior_-6_-6_0_3.streamingsector\",\n",
            " \"exterior_-3_-3_0_3.streamingsector\",\n",
            " \"exterior_-2_-5_0_3.streamingsector\",\n",
            " \"exterior_-5_-7_0_3.streamingsector\",\n",
            " \"exterior_-5_-3_0_3.streamingsector\",\n",
            " \"exterior_-6_-3_-1_3.streamingsector\",\n",
            " \"exterior_-2_-6_0_3.streamingsector\",\n",
            " \"exterior_-2_-4_0_3.streamingsector\",\n",
            " \"exterior_-3_-7_0_3.streamingsector\",\n",
            " \"exterior_-1_-3_0_4.streamingsector\",\n",
            " \"exterior_-3_-4_0_4.streamingsector\",\n",
            " \"exterior_-6_-7_0_3.streamingsector\",\n",
            " \"exterior_-2_-4_0_4.streamingsector\",\n",
            " \"exterior_-2_-3_0_3.streamingsector\",\n",
            " \"exterior_-1_-1_0_5.streamingsector\",\n",
            " \"exterior_-1_-2_0_4.streamingsector\",\n",
            " \"exterior_-2_-7_0_3.streamingsector\",\n",
            " \"exterior_-4_-2_0_3.streamingsector\",\n",
            " \"exterior_-1_-2_-1_4.streamingsector\",\n",
            " \"exterior_-4_-3_0_4.streamingsector\",\n",
            " \"exterior_-2_-1_0_4.streamingsector\",\n",
            " \"exterior_-3_-1_0_4.streamingsector\",\n",
            " \"exterior_-3_-1_-1_4.streamingsector\",\n",
            " \"exterior_-2_-1_-1_4.streamingsector\",\n",
            " \"exterior_-4_-4_0_4.streamingsector\",\n",
            " \"exterior_-2_-1_-2_4.streamingsector\",\n",
            " \"exterior_-1_-4_0_4.streamingsector\",\n",
            " \"exterior_-1_-1_-1_4.streamingsector\",\n",
            " \"exterior_-1_-1_0_4.streamingsector\",\n",
            " \"exterior_-1_-1_-1_6.streamingsector\",\n",
            " \"exterior_-1_0_0_6.streamingsector\",\n",
            " \"exterior_0_-2_-1_4.streamingsector\",\n",
            " \"exterior_0_-2_0_4.streamingsector\",\n",
            " \"exterior_-1_-2_0_6.streamingsector\",\n",
            " \"exterior_-1_-1_0_6.streamingsector\",\n",
            " \"exterior_-5_0_0_3.streamingsector\",\n",
            " \"exterior_-3_-2_-1_5.streamingsector\",\n",
            " \"exterior_0_-1_0_5.streamingsector\",\n",
            " \"exterior_0_-1_-1_4.streamingsector\",\n",
            " \"exterior_-2_0_0_5.streamingsector\",\n",
            " \"exterior_-1_-3_0_5.streamingsector\",\n",
            " \"exterior_0_-1_0_4.streamingsector\",\n",
            " \"exterior_0_-2_0_5.streamingsector\",\n",
            " \"exterior_-2_-2_-1_6.streamingsector\",\n",
            " \"exterior_0_-5_0_4.streamingsector\",\n",
            " \"exterior_-1_-2_-1_6.streamingsector\",\n",
            " \"exterior_0_-2_-1_6.streamingsector\",\n",
            " \"exterior_-1_0_0_5.streamingsector\",\n",
            " \"exterior_-3_-2_0_5.streamingsector\",\n",
            " \"exterior_0_-1_0_6.streamingsector\",\n",
            " \"exterior_0_-2_0_6.streamingsector\",\n",
            " \"exterior_-2_0_0_6.streamingsector\",\n",
            " \"exterior_-3_0_0_5.streamingsector\",\n",
            " \"exterior_-2_-1_-1_6.streamingsector\",\n",
            " \"exterior_-3_-1_0_5.streamingsector\",\n",
            " \"exterior_-1_0_-1_5.streamingsector\",\n",
            " \"exterior_0_0_-1_6.streamingsector\",\n",
            " \"exterior_-2_-1_0_6.streamingsector\",\n",
            " \"exterior_0_-1_-1_6.streamingsector\",\n",
            " \"exterior_0_0_0_5.streamingsector\",\n",
            " \"exterior_-4_4_0_3.streamingsector\",\n",
            " \"exterior_0_0_0_6.streamingsector\",\n",
            " \"exterior_-1_0_-1_6.streamingsector\",\n",
            " \"exterior_-2_0_-1_6.streamingsector\",\n",
            " \"exterior_-1_1_0_6.streamingsector\",\n",
            " \"exterior_-2_-2_0_6.streamingsector\",\n",
            " \"exterior_1_0_0_6.streamingsector\",\n",
            " \"exterior_1_-1_-1_6.streamingsector\",\n",
            " \"exterior_1_-1_0_6.streamingsector\",\n",
            " \"exterior_1_-2_0_6.streamingsector\",\n",
            " \"exterior_0_1_0_6.streamingsector\",\n",
            " \"exterior_-2_1_0_6.streamingsector\",\n",
            " \"exterior_1_1_0_6.streamingsector\",\n",
            "]\n",
            " \n",
            "Copy the below to paste into asset browser search\n",
            "  exterior_-4_-5_0_3.streamingsector |  exterior_-14_-17_2_1.streamingsector |  exterior_-15_-17_1_1.streamingsector |  exterior_-16_-20_2_1.streamingsector |  exterior_-8_-10_1_2.streamingsector |  exterior_-16_-19_1_1.streamingsector |  exterior_-14_-17_1_1.streamingsector |  exterior_-13_-17_1_1.streamingsector |  exterior_-7_-9_0_2.streamingsector |  exterior_-8_-10_0_2.streamingsector |  exterior_-8_-9_0_2.streamingsector |  exterior_-4_-5_-1_3.streamingsector |  exterior_-2_-3_0_4.streamingsector |  exterior_-9_-11_1_2.streamingsector |  exterior_-9_-10_0_2.streamingsector |  exterior_-5_-5_0_3.streamingsector |  exterior_-8_-8_0_2.streamingsector |  exterior_-7_-8_0_2.streamingsector |  exterior_-9_-9_0_2.streamingsector |  exterior_-9_-11_0_2.streamingsector |  exterior_-9_-8_0_2.streamingsector |  exterior_-6_-9_0_2.streamingsector |  exterior_-4_-4_0_3.streamingsector |  exterior_-5_-4_0_3.streamingsector |  exterior_-6_-8_0_2.streamingsector |  exterior_-10_-9_0_2.streamingsector |  exterior_-3_-5_0_3.streamingsector |  exterior_-8_-7_0_2.streamingsector |  exterior_-2_-3_-1_4.streamingsector |  exterior_-10_-8_0_2.streamingsector |  exterior_-10_-10_0_2.streamingsector |  exterior_-6_-11_0_2.streamingsector |  exterior_-7_-7_0_2.streamingsector |  exterior_-3_-3_0_4.streamingsector |  exterior_-5_-6_0_3.streamingsector |  exterior_-4_-6_0_3.streamingsector |  exterior_-4_-4_-1_3.streamingsector |  exterior_-10_-11_0_2.streamingsector |  exterior_-5_-6_-1_3.streamingsector |  exterior_-3_-2_-1_4.streamingsector |  exterior_-3_-6_0_3.streamingsector |  exterior_-2_-2_0_4.streamingsector |  exterior_-2_-2_-1_5.streamingsector |  exterior_-3_-4_0_3.streamingsector |  exterior_-3_-2_0_4.streamingsector |  exterior_-2_-2_-1_4.streamingsector |  exterior_-6_-5_0_3.streamingsector |  exterior_-6_-5_-1_3.streamingsector |  exterior_-3_-6_-1_3.streamingsector |  exterior_-4_-3_0_3.streamingsector |  exterior_-2_-1_0_5.streamingsector |  exterior_-6_-4_0_3.streamingsector |  exterior_-2_-2_0_5.streamingsector |  exterior_-6_-4_-1_3.streamingsector |  exterior_-1_-2_0_5.streamingsector |  exterior_-1_-2_-1_5.streamingsector |  exterior_-4_-7_0_3.streamingsector |  exterior_-6_-6_0_3.streamingsector |  exterior_-3_-3_0_3.streamingsector |  exterior_-2_-5_0_3.streamingsector |  exterior_-5_-7_0_3.streamingsector |  exterior_-5_-3_0_3.streamingsector |  exterior_-6_-3_-1_3.streamingsector |  exterior_-2_-6_0_3.streamingsector |  exterior_-2_-4_0_3.streamingsector |  exterior_-3_-7_0_3.streamingsector |  exterior_-1_-3_0_4.streamingsector |  exterior_-3_-4_0_4.streamingsector |  exterior_-6_-7_0_3.streamingsector |  exterior_-2_-4_0_4.streamingsector |  exterior_-2_-3_0_3.streamingsector |  exterior_-1_-1_0_5.streamingsector |  exterior_-1_-2_0_4.streamingsector |  exterior_-2_-7_0_3.streamingsector |  exterior_-4_-2_0_3.streamingsector |  exterior_-1_-2_-1_4.streamingsector |  exterior_-4_-3_0_4.streamingsector |  exterior_-2_-1_0_4.streamingsector |  exterior_-3_-1_0_4.streamingsector |  exterior_-3_-1_-1_4.streamingsector |  exterior_-2_-1_-1_4.streamingsector |  exterior_-4_-4_0_4.streamingsector |  exterior_-2_-1_-2_4.streamingsector |  exterior_-1_-4_0_4.streamingsector |  exterior_-1_-1_-1_4.streamingsector |  exterior_-1_-1_0_4.streamingsector |  exterior_-1_-1_-1_6.streamingsector |  exterior_-1_0_0_6.streamingsector |  exterior_0_-2_-1_4.streamingsector |  exterior_0_-2_0_4.streamingsector |  exterior_-1_-2_0_6.streamingsector |  exterior_-1_-1_0_6.streamingsector |  exterior_-5_0_0_3.streamingsector |  exterior_-3_-2_-1_5.streamingsector |  exterior_0_-1_0_5.streamingsector |  exterior_0_-1_-1_4.streamingsector |  exterior_-2_0_0_5.streamingsector |  exterior_-1_-3_0_5.streamingsector |  exterior_0_-1_0_4.streamingsector |  exterior_0_-2_0_5.streamingsector |  exterior_-2_-2_-1_6.streamingsector |  exterior_0_-5_0_4.streamingsector |  exterior_-1_-2_-1_6.streamingsector |  exterior_0_-2_-1_6.streamingsector |  exterior_-1_0_0_5.streamingsector |  exterior_-3_-2_0_5.streamingsector |  exterior_0_-1_0_6.streamingsector |  exterior_0_-2_0_6.streamingsector |  exterior_-2_0_0_6.streamingsector |  exterior_-3_0_0_5.streamingsector |  exterior_-2_-1_-1_6.streamingsector |  exterior_-3_-1_0_5.streamingsector |  exterior_-1_0_-1_5.streamingsector |  exterior_0_0_-1_6.streamingsector |  exterior_-2_-1_0_6.streamingsector |  exterior_0_-1_-1_6.streamingsector |  exterior_0_0_0_5.streamingsector |  exterior_-4_4_0_3.streamingsector |  exterior_0_0_0_6.streamingsector |  exterior_-1_0_-1_6.streamingsector |  exterior_-2_0_-1_6.streamingsector |  exterior_-1_1_0_6.streamingsector |  exterior_-2_-2_0_6.streamingsector |  exterior_1_0_0_6.streamingsector |  exterior_1_-1_-1_6.streamingsector |  exterior_1_-1_0_6.streamingsector |  exterior_1_-2_0_6.streamingsector |  exterior_0_1_0_6.streamingsector |  exterior_-2_1_0_6.streamingsector |  exterior_1_1_0_6.streamingsector |"
          ]
        }
      ],
      "id": "t8rOo8hhxxcy"
    },
    {
      "cell_type": "code",
      "source": [
        "print('Copy the below to add to wscript scripts')\n",
        "print('[')\n",
        "for sect in ext_list:\n",
        "    print( ' \"' +sect[1].split('\\\\')[-1]+'\",')\n",
        "print(']')\n",
        "\n",
        "print(' ')\n",
        "print('Copy the below to paste into asset browser search')\n",
        "for sect in ext_list:\n",
        "    print( ' ' ,sect[1].split('\\\\')[-1],'|', end = '')"
      ],
      "metadata": {
        "id": "PZd572i3IN94",
        "outputId": "0a6c5b6c-1c22-47da-aa0f-fa883b5eab61",
        "colab": {
          "base_uri": "https://localhost:8080/"
        }
      },
      "id": "PZd572i3IN94",
      "execution_count": null,
      "outputs": [
        {
          "output_type": "stream",
          "name": "stdout",
          "text": [
            "Copy the below to add to wscript scripts\n",
            "[\n",
            " \"exterior_-35_27_5_0.streamingsector\",\n",
            " \"exterior_-35_27_4_0.streamingsector\",\n",
            " \"exterior_-18_13_2_1.streamingsector\",\n",
            " \"exterior_-9_6_1_2.streamingsector\",\n",
            " \"exterior_-17_13_2_1.streamingsector\",\n",
            " \"exterior_-35_26_4_0.streamingsector\",\n",
            " \"exterior_-17_14_2_1.streamingsector\",\n",
            " \"exterior_-34_27_4_0.streamingsector\",\n",
            " \"exterior_-34_26_4_0.streamingsector\",\n",
            " \"exterior_-18_13_1_1.streamingsector\",\n",
            " \"exterior_-17_13_1_1.streamingsector\",\n",
            " \"exterior_-18_14_1_1.streamingsector\",\n",
            " \"exterior_-18_13_0_1.streamingsector\",\n",
            " \"exterior_-9_6_0_2.streamingsector\",\n",
            " \"exterior_-3_1_0_4.streamingsector\",\n",
            " \"exterior_-17_13_0_1.streamingsector\",\n",
            " \"exterior_-5_3_0_3.streamingsector\",\n",
            " \"exterior_-9_7_0_2.streamingsector\",\n",
            " \"exterior_-10_6_0_2.streamingsector\",\n",
            " \"exterior_-9_6_-1_2.streamingsector\",\n",
            " \"exterior_-17_15_0_1.streamingsector\",\n",
            " \"exterior_-16_12_0_1.streamingsector\",\n",
            " \"exterior_-10_6_-1_2.streamingsector\",\n",
            " \"exterior_-8_6_0_2.streamingsector\",\n",
            " \"exterior_-8_6_-1_2.streamingsector\",\n",
            " \"exterior_-10_7_0_2.streamingsector\",\n",
            " \"exterior_-8_5_1_2.streamingsector\",\n",
            " \"exterior_-8_7_0_2.streamingsector\",\n",
            " \"exterior_-16_11_0_1.streamingsector\",\n",
            " \"exterior_-8_7_-1_2.streamingsector\",\n",
            " \"exterior_-10_7_-1_2.streamingsector\",\n",
            " \"exterior_-9_5_-1_2.streamingsector\",\n",
            " \"exterior_-9_8_0_2.streamingsector\",\n",
            " \"exterior_-9_5_0_2.streamingsector\",\n",
            " \"exterior_-11_7_0_2.streamingsector\",\n",
            " \"exterior_-4_3_0_3.streamingsector\",\n",
            " \"exterior_-3_1_-1_4.streamingsector\",\n",
            " \"exterior_-5_2_0_3.streamingsector\",\n",
            " \"exterior_-8_5_0_2.streamingsector\",\n",
            " \"exterior_-10_8_0_2.streamingsector\",\n",
            " \"exterior_-6_3_0_3.streamingsector\",\n",
            " \"exterior_-5_4_0_3.streamingsector\",\n",
            " \"exterior_-11_7_-1_2.streamingsector\",\n",
            " \"exterior_-8_8_0_2.streamingsector\",\n",
            " \"exterior_-7_6_0_2.streamingsector\",\n",
            " \"exterior_-7_7_0_2.streamingsector\",\n",
            " \"exterior_-4_2_0_3.streamingsector\",\n",
            " \"exterior_-11_8_-1_2.streamingsector\",\n",
            " \"exterior_-8_4_-1_2.streamingsector\",\n",
            " \"exterior_-11_8_0_2.streamingsector\",\n",
            " \"exterior_-7_5_0_2.streamingsector\",\n",
            " \"exterior_-8_4_0_2.streamingsector\",\n",
            " \"exterior_-2_1_0_4.streamingsector\",\n",
            " \"exterior_-4_4_0_3.streamingsector\",\n",
            " \"exterior_-7_8_0_2.streamingsector\",\n",
            " \"exterior_-3_2_0_4.streamingsector\",\n",
            " \"exterior_-6_4_0_3.streamingsector\",\n",
            " \"exterior_-7_4_0_2.streamingsector\",\n",
            " \"exterior_-6_2_0_3.streamingsector\",\n",
            " \"exterior_-3_3_0_3.streamingsector\",\n",
            " \"exterior_-5_5_0_3.streamingsector\",\n",
            " \"exterior_-2_2_0_4.streamingsector\",\n",
            " \"exterior_-3_2_0_3.streamingsector\",\n",
            " \"exterior_-4_1_0_3.streamingsector\",\n",
            " \"exterior_-5_1_0_3.streamingsector\",\n",
            " \"exterior_-3_4_0_3.streamingsector\",\n",
            " \"exterior_-6_5_0_3.streamingsector\",\n",
            " \"exterior_-4_5_0_3.streamingsector\",\n",
            " \"exterior_-6_1_-1_3.streamingsector\",\n",
            " \"exterior_-6_5_-1_3.streamingsector\",\n",
            " \"exterior_-2_0_0_5.streamingsector\",\n",
            " \"exterior_-2_1_-1_4.streamingsector\",\n",
            " \"exterior_-3_1_0_3.streamingsector\",\n",
            " \"exterior_-4_1_-1_4.streamingsector\",\n",
            " \"exterior_-2_0_0_4.streamingsector\",\n",
            " \"exterior_-3_5_0_3.streamingsector\",\n",
            " \"exterior_-1_0_-1_5.streamingsector\",\n",
            " \"exterior_-1_0_0_5.streamingsector\",\n",
            " \"exterior_-3_0_0_4.streamingsector\",\n",
            " \"exterior_-3_0_-1_4.streamingsector\",\n",
            " \"exterior_-1_1_0_5.streamingsector\",\n",
            " \"exterior_-2_1_0_5.streamingsector\",\n",
            " \"exterior_-4_2_-1_4.streamingsector\",\n",
            " \"exterior_-1_1_-1_4.streamingsector\",\n",
            " \"exterior_-4_0_-1_4.streamingsector\",\n",
            " \"exterior_-1_0_0_6.streamingsector\",\n",
            " \"exterior_-1_1_0_4.streamingsector\",\n",
            " \"exterior_-1_0_-1_6.streamingsector\",\n",
            " \"exterior_-2_0_-1_4.streamingsector\",\n",
            " \"exterior_-1_2_0_4.streamingsector\",\n",
            " \"exterior_-4_0_0_4.streamingsector\",\n",
            " \"exterior_-3_3_0_4.streamingsector\",\n",
            " \"exterior_-2_3_0_4.streamingsector\",\n",
            " \"exterior_-1_-1_-1_6.streamingsector\",\n",
            " \"exterior_-1_0_0_4.streamingsector\",\n",
            " \"exterior_-1_0_-1_4.streamingsector\",\n",
            " \"exterior_-1_3_-1_4.streamingsector\",\n",
            " \"exterior_-3_-1_0_4.streamingsector\",\n",
            " \"exterior_-2_-1_-1_4.streamingsector\",\n",
            " \"exterior_-2_-1_0_4.streamingsector\",\n",
            " \"exterior_-1_3_0_4.streamingsector\",\n",
            " \"exterior_-1_1_0_6.streamingsector\",\n",
            " \"exterior_-1_-1_0_6.streamingsector\",\n",
            " \"exterior_-3_0_0_5.streamingsector\",\n",
            " \"exterior_-1_-1_0_4.streamingsector\",\n",
            " \"exterior_-1_-1_0_5.streamingsector\",\n",
            " \"exterior_-3_1_0_5.streamingsector\",\n",
            " \"exterior_-2_-1_-1_5.streamingsector\",\n",
            " \"exterior_-2_-1_0_5.streamingsector\",\n",
            " \"exterior_-1_-1_-1_5.streamingsector\",\n",
            " \"exterior_0_0_0_5.streamingsector\",\n",
            " \"exterior_0_0_-1_6.streamingsector\",\n",
            " \"exterior_-2_0_0_6.streamingsector\",\n",
            " \"exterior_-2_0_-1_6.streamingsector\",\n",
            " \"exterior_-2_-1_-1_6.streamingsector\",\n",
            " \"exterior_0_-1_0_6.streamingsector\",\n",
            " \"exterior_0_-1_0_5.streamingsector\",\n",
            " \"exterior_-3_2_0_5.streamingsector\",\n",
            " \"exterior_-2_-2_0_5.streamingsector\",\n",
            " \"exterior_-1_-2_0_5.streamingsector\",\n",
            " \"exterior_0_0_0_6.streamingsector\",\n",
            " \"exterior_0_-1_-1_6.streamingsector\",\n",
            " \"exterior_-2_-1_0_6.streamingsector\",\n",
            " \"exterior_0_-2_0_5.streamingsector\",\n",
            " \"exterior_-2_1_0_6.streamingsector\",\n",
            " \"exterior_0_1_0_6.streamingsector\",\n",
            " \"exterior_-2_-2_-1_6.streamingsector\",\n",
            " \"exterior_-1_-2_0_6.streamingsector\",\n",
            " \"exterior_0_-2_-1_6.streamingsector\",\n",
            " \"exterior_0_-2_0_6.streamingsector\",\n",
            " \"exterior_-1_-2_-1_6.streamingsector\",\n",
            " \"exterior_1_0_0_6.streamingsector\",\n",
            " \"exterior_1_-1_-1_6.streamingsector\",\n",
            " \"exterior_1_1_0_6.streamingsector\",\n",
            " \"exterior_-2_-2_0_6.streamingsector\",\n",
            " \"exterior_1_-1_0_6.streamingsector\",\n",
            " \"exterior_1_-2_0_6.streamingsector\",\n",
            "]\n",
            " \n",
            "Copy the below to paste into asset browser search\n",
            "  exterior_-35_27_5_0.streamingsector |  exterior_-35_27_4_0.streamingsector |  exterior_-18_13_2_1.streamingsector |  exterior_-9_6_1_2.streamingsector |  exterior_-17_13_2_1.streamingsector |  exterior_-35_26_4_0.streamingsector |  exterior_-17_14_2_1.streamingsector |  exterior_-34_27_4_0.streamingsector |  exterior_-34_26_4_0.streamingsector |  exterior_-18_13_1_1.streamingsector |  exterior_-17_13_1_1.streamingsector |  exterior_-18_14_1_1.streamingsector |  exterior_-18_13_0_1.streamingsector |  exterior_-9_6_0_2.streamingsector |  exterior_-3_1_0_4.streamingsector |  exterior_-17_13_0_1.streamingsector |  exterior_-5_3_0_3.streamingsector |  exterior_-9_7_0_2.streamingsector |  exterior_-10_6_0_2.streamingsector |  exterior_-9_6_-1_2.streamingsector |  exterior_-17_15_0_1.streamingsector |  exterior_-16_12_0_1.streamingsector |  exterior_-10_6_-1_2.streamingsector |  exterior_-8_6_0_2.streamingsector |  exterior_-8_6_-1_2.streamingsector |  exterior_-10_7_0_2.streamingsector |  exterior_-8_5_1_2.streamingsector |  exterior_-8_7_0_2.streamingsector |  exterior_-16_11_0_1.streamingsector |  exterior_-8_7_-1_2.streamingsector |  exterior_-10_7_-1_2.streamingsector |  exterior_-9_5_-1_2.streamingsector |  exterior_-9_8_0_2.streamingsector |  exterior_-9_5_0_2.streamingsector |  exterior_-11_7_0_2.streamingsector |  exterior_-4_3_0_3.streamingsector |  exterior_-3_1_-1_4.streamingsector |  exterior_-5_2_0_3.streamingsector |  exterior_-8_5_0_2.streamingsector |  exterior_-10_8_0_2.streamingsector |  exterior_-6_3_0_3.streamingsector |  exterior_-5_4_0_3.streamingsector |  exterior_-11_7_-1_2.streamingsector |  exterior_-8_8_0_2.streamingsector |  exterior_-7_6_0_2.streamingsector |  exterior_-7_7_0_2.streamingsector |  exterior_-4_2_0_3.streamingsector |  exterior_-11_8_-1_2.streamingsector |  exterior_-8_4_-1_2.streamingsector |  exterior_-11_8_0_2.streamingsector |  exterior_-7_5_0_2.streamingsector |  exterior_-8_4_0_2.streamingsector |  exterior_-2_1_0_4.streamingsector |  exterior_-4_4_0_3.streamingsector |  exterior_-7_8_0_2.streamingsector |  exterior_-3_2_0_4.streamingsector |  exterior_-6_4_0_3.streamingsector |  exterior_-7_4_0_2.streamingsector |  exterior_-6_2_0_3.streamingsector |  exterior_-3_3_0_3.streamingsector |  exterior_-5_5_0_3.streamingsector |  exterior_-2_2_0_4.streamingsector |  exterior_-3_2_0_3.streamingsector |  exterior_-4_1_0_3.streamingsector |  exterior_-5_1_0_3.streamingsector |  exterior_-3_4_0_3.streamingsector |  exterior_-6_5_0_3.streamingsector |  exterior_-4_5_0_3.streamingsector |  exterior_-6_1_-1_3.streamingsector |  exterior_-6_5_-1_3.streamingsector |  exterior_-2_0_0_5.streamingsector |  exterior_-2_1_-1_4.streamingsector |  exterior_-3_1_0_3.streamingsector |  exterior_-4_1_-1_4.streamingsector |  exterior_-2_0_0_4.streamingsector |  exterior_-3_5_0_3.streamingsector |  exterior_-1_0_-1_5.streamingsector |  exterior_-1_0_0_5.streamingsector |  exterior_-3_0_0_4.streamingsector |  exterior_-3_0_-1_4.streamingsector |  exterior_-1_1_0_5.streamingsector |  exterior_-2_1_0_5.streamingsector |  exterior_-4_2_-1_4.streamingsector |  exterior_-1_1_-1_4.streamingsector |  exterior_-4_0_-1_4.streamingsector |  exterior_-1_0_0_6.streamingsector |  exterior_-1_1_0_4.streamingsector |  exterior_-1_0_-1_6.streamingsector |  exterior_-2_0_-1_4.streamingsector |  exterior_-1_2_0_4.streamingsector |  exterior_-4_0_0_4.streamingsector |  exterior_-3_3_0_4.streamingsector |  exterior_-2_3_0_4.streamingsector |  exterior_-1_-1_-1_6.streamingsector |  exterior_-1_0_0_4.streamingsector |  exterior_-1_0_-1_4.streamingsector |  exterior_-1_3_-1_4.streamingsector |  exterior_-3_-1_0_4.streamingsector |  exterior_-2_-1_-1_4.streamingsector |  exterior_-2_-1_0_4.streamingsector |  exterior_-1_3_0_4.streamingsector |  exterior_-1_1_0_6.streamingsector |  exterior_-1_-1_0_6.streamingsector |  exterior_-3_0_0_5.streamingsector |  exterior_-1_-1_0_4.streamingsector |  exterior_-1_-1_0_5.streamingsector |  exterior_-3_1_0_5.streamingsector |  exterior_-2_-1_-1_5.streamingsector |  exterior_-2_-1_0_5.streamingsector |  exterior_-1_-1_-1_5.streamingsector |  exterior_0_0_0_5.streamingsector |  exterior_0_0_-1_6.streamingsector |  exterior_-2_0_0_6.streamingsector |  exterior_-2_0_-1_6.streamingsector |  exterior_-2_-1_-1_6.streamingsector |  exterior_0_-1_0_6.streamingsector |  exterior_0_-1_0_5.streamingsector |  exterior_-3_2_0_5.streamingsector |  exterior_-2_-2_0_5.streamingsector |  exterior_-1_-2_0_5.streamingsector |  exterior_0_0_0_6.streamingsector |  exterior_0_-1_-1_6.streamingsector |  exterior_-2_-1_0_6.streamingsector |  exterior_0_-2_0_5.streamingsector |  exterior_-2_1_0_6.streamingsector |  exterior_0_1_0_6.streamingsector |  exterior_-2_-2_-1_6.streamingsector |  exterior_-1_-2_0_6.streamingsector |  exterior_0_-2_-1_6.streamingsector |  exterior_0_-2_0_6.streamingsector |  exterior_-1_-2_-1_6.streamingsector |  exterior_1_0_0_6.streamingsector |  exterior_1_-1_-1_6.streamingsector |  exterior_1_1_0_6.streamingsector |  exterior_-2_-2_0_6.streamingsector |  exterior_1_-1_0_6.streamingsector |  exterior_1_-2_0_6.streamingsector |"
          ]
        }
      ]
    },
    {
      "cell_type": "code",
      "source": [
        "def split_on_uppercase(s, keep_contiguous=False):\n",
        "    \"\"\"\n",
        "\n",
        "    Args:\n",
        "        s (str): string\n",
        "        keep_contiguous (bool): flag to indicate we want to\n",
        "                                keep contiguous uppercase chars together\n",
        "\n",
        "    Returns:\n",
        "\n",
        "    \"\"\"\n",
        "\n",
        "    string_length = len(s)\n",
        "    is_lower_around = (lambda: s[i-1].islower() or\n",
        "                       string_length > (i + 1) and s[i + 1].islower())\n",
        "\n",
        "    start = 0\n",
        "    parts = []\n",
        "    for i in range(1, string_length):\n",
        "        if s[i].isupper() and (not keep_contiguous or is_lower_around()):\n",
        "            parts.append(s[start: i])\n",
        "            start = i\n",
        "    parts.append(s[start:])\n",
        "\n",
        "    return parts"
      ],
      "metadata": {
        "id": "dN6cGuEAQDpk"
      },
      "id": "dN6cGuEAQDpk",
      "execution_count": null,
      "outputs": []
    },
    {
      "cell_type": "code",
      "source": [
        "nodeRefs=[]\n",
        "for d in data:\n",
        "    for v in d['variants']:\n",
        "      if v['nodeRef'] not in nodeRefs:\n",
        "        nodeRefs.append(v['nodeRef'])\n",
        "\n",
        "#pprint(nodeRefs)\n"
      ],
      "metadata": {
        "id": "zyUKKZW0R_2B"
      },
      "id": "zyUKKZW0R_2B",
      "execution_count": null,
      "outputs": []
    },
    {
      "cell_type": "code",
      "source": [
        "sectors_of_interest=[]\n",
        "for i,d in enumerate(data):\n",
        "    for v in d['variants']:\n",
        "        if 'q000_scavengers' in v['nodeRef']:\n",
        "          if d['data']['DepotPath'] not in sectors_of_interest:\n",
        "            sectors_of_interest.append(d['data']['DepotPath'])\n",
        "pprint(sectors_of_interest)"
      ],
      "metadata": {
        "id": "9b0812b6-7972-4249-a3a9-24fab9e8a554",
        "colab": {
          "base_uri": "https://localhost:8080/"
        },
        "outputId": "65fd5ff7-af5e-46f9-9c59-8bcb03a69aaf"
      },
      "execution_count": null,
      "outputs": [
        {
          "output_type": "stream",
          "name": "stdout",
          "text": [
            "['base\\\\worlds\\\\03_night_city\\\\_compiled\\\\default\\\\exterior_-8_6_2_0.streamingsector',\n",
            " 'base\\\\worlds\\\\03_night_city\\\\_compiled\\\\default\\\\exterior_-7_6_0_0.streamingsector',\n",
            " 'base\\\\worlds\\\\03_night_city\\\\_compiled\\\\default\\\\exterior_-8_6_0_0.streamingsector',\n",
            " 'base\\\\worlds\\\\03_night_city\\\\_compiled\\\\default\\\\exterior_-7_6_2_0.streamingsector',\n",
            " 'base\\\\worlds\\\\03_night_city\\\\_compiled\\\\default\\\\exterior_-8_7_2_0.streamingsector',\n",
            " 'base\\\\worlds\\\\03_night_city\\\\_compiled\\\\default\\\\exterior_-8_7_1_0.streamingsector',\n",
            " 'base\\\\worlds\\\\03_night_city\\\\_compiled\\\\default\\\\exterior_-8_5_2_0.streamingsector',\n",
            " 'base\\\\worlds\\\\03_night_city\\\\_compiled\\\\default\\\\exterior_-7_7_2_0.streamingsector',\n",
            " 'base\\\\worlds\\\\03_night_city\\\\_compiled\\\\default\\\\exterior_-4_3_0_1.streamingsector',\n",
            " 'base\\\\worlds\\\\03_night_city\\\\_compiled\\\\default\\\\exterior_-4_3_1_1.streamingsector',\n",
            " 'base\\\\worlds\\\\03_night_city\\\\_compiled\\\\default\\\\exterior_-4_2_1_1.streamingsector',\n",
            " 'base\\\\worlds\\\\03_night_city\\\\_compiled\\\\default\\\\exterior_-2_1_0_2.streamingsector',\n",
            " 'base\\\\worlds\\\\03_night_city\\\\_compiled\\\\default\\\\exterior_-1_0_0_3.streamingsector',\n",
            " 'base\\\\worlds\\\\03_night_city\\\\_compiled\\\\default\\\\interior_-8_6_2_1.streamingsector',\n",
            " 'base\\\\worlds\\\\03_night_city\\\\_compiled\\\\default\\\\quest_901f0a358d17730e.streamingsector']\n"
          ]
        }
      ],
      "id": "9b0812b6-7972-4249-a3a9-24fab9e8a554"
    },
    {
      "cell_type": "code",
      "source": [
        "import json\n",
        "import copy\n",
        "templatepath=\"sectorStuff/sectors.streamingblock.json\"\n",
        "with open(templatepath,'r') as f:\n",
        "      tmp=json.load(f)\n",
        "rc=tmp['Data']['RootChunk']\n",
        "descriptors=rc['descriptors']"
      ],
      "metadata": {
        "id": "sRzlxNg0LLB2"
      },
      "id": "sRzlxNg0LLB2",
      "execution_count": 14,
      "outputs": []
    },
    {
      "cell_type": "code",
      "source": [
        "# Run this block to save a streamingblock with the combined sectors list\n",
        "\n",
        "while len(descriptors)>0:\n",
        "  descriptors.pop(0)\n",
        "len(descriptors)\n",
        "\n",
        "for idx in comb_list:\n",
        "  descriptors.append(copy.deepcopy(data[idx]))\n",
        "  new_Index=len(descriptors)-1\n",
        "  new_desc=descriptors[new_Index]\n",
        "print(len(descriptors),' sectors added to streamingblock')\n",
        "pathout='comb_sectors.streamingblock.json'\n",
        "with open(pathout, 'w') as outfile:\n",
        "    json.dump(tmp, outfile,indent=2)"
      ],
      "metadata": {
        "id": "RC7_SYfBPLuZ",
        "outputId": "f1a861d5-75a1-4582-fc28-4d0c3d7267b5",
        "colab": {
          "base_uri": "https://localhost:8080/"
        }
      },
      "id": "RC7_SYfBPLuZ",
      "execution_count": 15,
      "outputs": [
        {
          "output_type": "stream",
          "name": "stdout",
          "text": [
            "0  sectors added to streamingblock\n"
          ]
        }
      ]
    },
    {
      "cell_type": "code",
      "source": [
        "# Run this block to save a streamingblock with the internal sectors list\n",
        "\n",
        "while len(descriptors)>0:\n",
        "  descriptors.pop(0)\n",
        "len(descriptors)\n",
        "\n",
        "for idx in int_idxs:\n",
        "  descriptors.append(copy.deepcopy(data[idx]))\n",
        "  new_Index=len(descriptors)-1\n",
        "  new_desc=descriptors[new_Index]\n",
        "print(len(descriptors),' sectors added to streamingblock')\n",
        "pathout='int_sectors.streamingblock.json'\n",
        "with open(pathout, 'w') as outfile:\n",
        "    json.dump(tmp, outfile,indent=2)"
      ],
      "metadata": {
        "outputId": "7470acee-ee65-4edc-d837-f0d5539aba3f",
        "colab": {
          "base_uri": "https://localhost:8080/"
        },
        "id": "rXvkJMYyJKiP"
      },
      "execution_count": 16,
      "outputs": [
        {
          "output_type": "stream",
          "name": "stdout",
          "text": [
            "4  sectors added to streamingblock\n"
          ]
        }
      ],
      "id": "rXvkJMYyJKiP"
    },
    {
      "cell_type": "code",
      "source": [
        "# Run this block to save a streamingblock with the external sectors list\n",
        "\n",
        "while len(descriptors)>0:\n",
        "  descriptors.pop(0)\n",
        "len(descriptors)\n",
        "\n",
        "for idx in ext_idxs:\n",
        "  descriptors.append(copy.deepcopy(data[idx]))\n",
        "  new_Index=len(descriptors)-1\n",
        "  new_desc=descriptors[new_Index]\n",
        "  new_desc.pop('variants')\n",
        "print(len(descriptors),' sectors added to streamingblock')\n",
        "pathout='ext_sectors.streamingblock.json'\n",
        "with open(pathout, 'w') as outfile:\n",
        "    json.dump(tmp, outfile,indent=2)"
      ],
      "metadata": {
        "id": "iBbQItfLXXBC",
        "outputId": "4ff517d7-1230-4524-cacb-0c10b05cba2b",
        "colab": {
          "base_uri": "https://localhost:8080/"
        }
      },
      "id": "iBbQItfLXXBC",
      "execution_count": null,
      "outputs": [
        {
          "output_type": "stream",
          "name": "stdout",
          "text": [
            "137  sectors added to streamingblock\n"
          ]
        }
      ]
    },
    {
      "cell_type": "code",
      "source": [
        "from pprint import pprint\n",
        "pprint(sect)"
      ],
      "metadata": {
        "id": "3or3NQi03IDk",
        "outputId": "b18ef7f0-174f-4c81-dd5c-3ecdec581bf1",
        "colab": {
          "base_uri": "https://localhost:8080/"
        }
      },
      "id": "3or3NQi03IDk",
      "execution_count": null,
      "outputs": [
        {
          "output_type": "stream",
          "name": "stdout",
          "text": [
            "(11506.344687114215,\n",
            " 'base\\\\worlds\\\\03_night_city\\\\_compiled\\\\default\\\\exterior_1_-2_0_6.streamingsector')\n"
          ]
        }
      ]
    },
    {
      "cell_type": "code",
      "source": [
        "#paste a sector list\n",
        "sectors=['interior_-70_53_0_0','interior_-71_55_0_0','interior_-72_54_0_0','interior_-71_52_0_0','interior_-69_55_3_0','interior_-72_53_0_0','interior_-71_53_0_0','interior_-69_54_0_0',\n",
        "'interior_-69_55_0_0','interior_-71_54_0_0','interior_-70_55_4_0','interior_-70_55_0_0','interior_-69_55_5_0','interior_-69_55_4_0','interior_-69_53_0_0','interior_-70_55_5_0',\n",
        "'interior_-70_54_0_0','interior_-70_55_3_0','interior_-71_54_1_0','interior_-69_53_1_0','interior_-70_54_1_0','interior_-70_53_1_0','interior_-69_54_5_0','interior_-68_55_5_0',\n",
        "'interior_-70_55_1_0','interior_-68_54_5_0','interior_-69_56_3_0','interior_-69_56_4_0','interior_-68_55_8_0','interior_-69_53_8_0','interior_-70_55_9_0','interior_-68_53_8_0',\n",
        "'interior_-69_54_8_0','interior_-68_54_8_0','interior_-69_55_8_0','interior_-70_55_8_0','interior_-70_53_8_0','interior_-69_55_9_0','interior_-70_54_9_0','interior_-68_56_8_0',\n",
        "'interior_-35_27_1_1','interior_-34_26_0_1','interior_-35_27_0_1','interior_-36_26_0_1','interior_-35_26_0_1','interior_-36_27_0_1','interior_-35_27_2_1','interior_-34_27_2_1',\n",
        "'interior_-35_26_2_1','interior_-35_27_3_1','interior_-35_26_3_1','interior_-35_26_1_1','interior_-35_28_2_1','interior_-35_27_4_1','interior_-34_27_4_1','interior_-35_26_4_1',\n",
        "'interior_-34_26_4_1','interior_-34_28_4_1','interior_-35_28_4_1','interior_-18_13_0_2','interior_-17_13_0_2','interior_-18_13_1_2','interior_-17_13_1_2','interior_-18_14_0_2',\n",
        "'interior_-17_13_2_2','interior_-18_13_2_2','interior_-5_3_0_4']"
      ],
      "metadata": {
        "id": "OnX7kEi34yFF"
      },
      "id": "OnX7kEi34yFF",
      "execution_count": null,
      "outputs": []
    },
    {
      "cell_type": "code",
      "source": [
        "# Run this block to save a streamingblock with the pasted sectors list\n",
        "\n",
        "while len(descriptors)>0:\n",
        "  descriptors.pop(0)\n",
        "len(descriptors)\n",
        "\n",
        "for sect in sectors:\n",
        "  fullpath='base\\\\worlds\\\\03_night_city\\\\_compiled\\\\default\\\\'+sect+'.streamingsector'\n",
        "  #print(fullpath)\n",
        "  orig=[s for s in data if s['data']['DepotPath']==fullpath]\n",
        "  descriptors.append(copy.deepcopy(orig[0]))\n",
        "  new_Index=len(descriptors)-1\n",
        "  new_desc=descriptors[new_Index]\n",
        "print(len(descriptors),' sectors added to streamingblock')\n",
        "pathout='int_sectors.streamingblock.json'\n",
        "with open(pathout, 'w') as outfile:\n",
        "    json.dump(tmp, outfile,indent=2)"
      ],
      "metadata": {
        "id": "Yxedr8BE5wNa",
        "outputId": "355e0038-c134-4533-f4c4-9d8a5274d6a9",
        "colab": {
          "base_uri": "https://localhost:8080/"
        }
      },
      "id": "Yxedr8BE5wNa",
      "execution_count": null,
      "outputs": [
        {
          "output_type": "stream",
          "name": "stdout",
          "text": [
            "67  sectors added to streamingblock\n"
          ]
        }
      ]
    }
  ]
}
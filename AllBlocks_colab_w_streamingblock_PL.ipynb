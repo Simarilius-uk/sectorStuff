{
  "metadata": {
    "kernelspec": {
      "display_name": "Python 3 (ipykernel)",
      "language": "python",
      "name": "python3"
    },
    "language_info": {
      "name": "python",
      "version": "3.7.12",
      "mimetype": "text/x-python",
      "codemirror_mode": {
        "name": "ipython",
        "version": 3
      },
      "pygments_lexer": "ipython3",
      "nbconvert_exporter": "python",
      "file_extension": ".py"
    },
    "colab": {
      "provenance": [],
      "include_colab_link": true
    }
  },
  "nbformat_minor": 5,
  "nbformat": 4,
  "cells": [
    {
      "cell_type": "markdown",
      "metadata": {
        "id": "view-in-github",
        "colab_type": "text"
      },
      "source": [
        "<a href=\"https://colab.research.google.com/github/Simarilius-uk/sectorStuff/blob/main/AllBlocks_colab_w_streamingblock_PL.ipynb\" target=\"_parent\"><img src=\"https://colab.research.google.com/assets/colab-badge.svg\" alt=\"Open In Colab\"/></a>"
      ]
    },
    {
      "cell_type": "code",
      "source": [
        "!git clone https://github.com/Simarilius-uk/sectorStuff.git"
      ],
      "metadata": {
        "id": "Gp43qEkvOSTG",
        "outputId": "df2058ac-cb10-4e3e-a061-fe1ba266a2b1",
        "colab": {
          "base_uri": "https://localhost:8080/"
        }
      },
      "id": "Gp43qEkvOSTG",
      "execution_count": 1,
      "outputs": [
        {
          "output_type": "stream",
          "name": "stdout",
          "text": [
            "Cloning into 'sectorStuff'...\n",
            "remote: Enumerating objects: 76, done.\u001b[K\n",
            "remote: Counting objects: 100% (76/76), done.\u001b[K\n",
            "remote: Compressing objects: 100% (75/75), done.\u001b[K\n",
            "remote: Total 76 (delta 41), reused 0 (delta 0), pack-reused 0\u001b[K\n",
            "Receiving objects: 100% (76/76), 2.69 MiB | 4.07 MiB/s, done.\n",
            "Resolving deltas: 100% (41/41), done.\n"
          ]
        }
      ]
    },
    {
      "cell_type": "code",
      "source": [
        "import json\n",
        "import glob\n",
        "import os\n",
        "import zipfile\n",
        "\n",
        "filepath = 'sectorStuff/all.streamingblock_inc_PL.json.zip'\n",
        "with zipfile.ZipFile(\"./sectorStuff/all.streamingblock_inc_PL.json.zip\", \"r\") as z:\n",
        "  filename=z.namelist()[0]\n",
        "  print(filename)\n",
        "  with z.open(filename) as f:\n",
        "         data = f.read()\n",
        "         d = json.loads(data)\n",
        "\n",
        ""
      ],
      "metadata": {
        "trusted": true,
        "id": "6cd440df",
        "outputId": "e0875c89-ff2a-4c42-cbdc-b13d2ae57256",
        "colab": {
          "base_uri": "https://localhost:8080/"
        }
      },
      "execution_count": 6,
      "outputs": [
        {
          "output_type": "stream",
          "name": "stdout",
          "text": [
            "all.streamingblock_inc_PL.json\n"
          ]
        }
      ],
      "id": "6cd440df"
    },
    {
      "cell_type": "code",
      "source": [
        "from pprint import pprint\n",
        "data=j['Data']['RootChunk']['descriptors']\n",
        "print('Sectors found - ',len(data))\n",
        "\n",
        "#pprint(data[0])"
      ],
      "metadata": {
        "trusted": true,
        "id": "cdae13ad",
        "colab": {
          "base_uri": "https://localhost:8080/"
        },
        "outputId": "b0397992-f838-4767-dfdd-fcf4639f797a"
      },
      "execution_count": 7,
      "outputs": [
        {
          "output_type": "stream",
          "name": "stdout",
          "text": [
            "Sectors found -  23623\n"
          ]
        }
      ],
      "id": "cdae13ad"
    },
    {
      "cell_type": "code",
      "source": [
        "#Enter the player location below (obtain from AMM)\n",
        "player_loc={\"X\": -943.0463,              \"Y\": 1792.5272,              \"Z\": 22.841011}\n",
        "\n",
        "if 'X' not in player_loc.keys() and 'x' in player_loc.keys():\n",
        "  player_loc['X']=player_loc['x']\n",
        "if 'Y' not in player_loc.keys() and 'y' in player_loc.keys():\n",
        "  player_loc['Y']=player_loc['y']\n",
        "if 'Z' not in player_loc.keys() and 'z' in player_loc.keys():\n",
        "  player_loc['Z']=player_loc['z']"
      ],
      "metadata": {
        "trusted": true,
        "id": "b98a64a5"
      },
      "execution_count": 8,
      "outputs": [],
      "id": "b98a64a5"
    },
    {
      "cell_type": "code",
      "source": [
        "player_in_int=[]\n",
        "player_in_ext=[]\n",
        "player_in_quest=[]\n",
        "int_idxs=[]\n",
        "ext_idxs=[]\n",
        "comb_list=[]\n",
        "MAX_DIST=100\n",
        "for idx,sector in enumerate(data):\n",
        "    if sector['streamingBox']['Min']['X']<player_loc['X'] and sector['streamingBox']['Max']['X']>player_loc['X']:\n",
        "        if sector['streamingBox']['Min']['Y']<player_loc['Y'] and sector['streamingBox']['Max']['Y']>player_loc['Y']:\n",
        "            if sector['streamingBox']['Min']['Z']<player_loc['Z'] and sector['streamingBox']['Max']['Z']>player_loc['Z']:\n",
        "                centrepoint={'X':(sector['streamingBox']['Min']['X']+sector['streamingBox']['Max']['X'])/2,\n",
        "                             'Y':(sector['streamingBox']['Min']['Y']+sector['streamingBox']['Max']['Y'])/2,\n",
        "                             'Z':(sector['streamingBox']['Min']['Z']+sector['streamingBox']['Max']['Z'])/2}\n",
        "                dist=((player_loc['X']-centrepoint['X'])**2+(player_loc['Y']-centrepoint['Y'])**2+(player_loc['Z']-centrepoint['Z'])**2)**0.5\n",
        "                if sector['category']=='Exterior':\n",
        "                    player_in_ext.append((centrepoint,sector))\n",
        "                    ext_idxs.append(idx)\n",
        "                if sector['category']=='Interior':\n",
        "                    player_in_int.append((centrepoint,sector))\n",
        "                    int_idxs.append(idx)\n",
        "                if dist<MAX_DIST:\n",
        "                    comb_list.append(idx)\n",
        "                #if sector['category']=='Quest':\n",
        "                #    player_in_quest.append((centrepoint,sector))\n",
        "print('Interior ',len(player_in_int))\n",
        "print('Exterior ',len(player_in_ext))\n",
        "print('combined ', len(comb_list))\n",
        "#print('Quest ',len(player_in_quest))"
      ],
      "metadata": {
        "trusted": true,
        "id": "971a9c5d-f0be-45d7-9958-e429dc62c0a8",
        "colab": {
          "base_uri": "https://localhost:8080/"
        },
        "outputId": "be67c794-fc81-442b-8d8f-5a3310172221"
      },
      "execution_count": 9,
      "outputs": [
        {
          "output_type": "stream",
          "name": "stdout",
          "text": [
            "Interior  23\n",
            "Exterior  174\n",
            "combined  23\n"
          ]
        }
      ],
      "id": "971a9c5d-f0be-45d7-9958-e429dc62c0a8"
    },
    {
      "cell_type": "code",
      "source": [
        "#prints the Interior sector names the player co-ordinates are within, plus the distance from the centre of those sectors to the co-ords\n",
        "list=[]\n",
        "print('Distance     Sector Name')\n",
        "for idx,sect in enumerate(player_in_int):\n",
        "    dist=((player_loc['X']-sect[0]['X'])**2+(player_loc['Y']-sect[0]['Y'])**2+(player_loc['Z']-sect[0]['Z'])**2)**0.5\n",
        "    list.append((dist,sect[1]['data']['DepotPath']))\n",
        "\n",
        "list.sort()\n",
        "for sect in list:\n",
        "    print(\"{:10.2f}\".format(sect[0]), ' ' ,sect[1].split('\\\\')[-1])\n"
      ],
      "metadata": {
        "tags": [],
        "trusted": true,
        "id": "2c5bc22b-ea2d-4565-bfd9-d793a985bf31",
        "colab": {
          "base_uri": "https://localhost:8080/"
        },
        "outputId": "5d094424-6c53-4ba4-8789-430050cbf854"
      },
      "execution_count": null,
      "outputs": [
        {
          "output_type": "stream",
          "name": "stdout",
          "text": [
            "Distance     Sector Name\n",
            "      6.76   interior_-30_56_0_0.streamingsector\n",
            "      9.48   interior_-30_55_0_0.streamingsector\n",
            "     10.63   interior_-8_13_0_2.streamingsector\n",
            "     11.62   interior_-15_27_0_1.streamingsector\n",
            "     48.77   interior_-15_28_0_1.streamingsector\n",
            "     74.48   interior_-29_57_1_0.streamingsector\n",
            "     82.18   interior_-15_29_0_1.streamingsector\n",
            "     82.31   interior_-8_14_0_2.streamingsector\n",
            "    183.77   interior_-2_3_0_4.streamingsector\n",
            "    308.84   interior_-10_12_0_2.streamingsector\n",
            "    354.73   interior_-3_3_0_4.streamingsector\n",
            "    438.69   interior_-5_5_0_3.streamingsector\n",
            "    448.05   interior_-2_4_0_4.streamingsector\n",
            "    466.15   interior_-4_8_0_3.streamingsector\n",
            "    502.31   interior_-3_3_-1_4.streamingsector\n",
            "    610.76   interior_-3_4_0_4.streamingsector\n",
            "    629.19   interior_-2_2_0_4.streamingsector\n",
            "    639.63   interior_-6_5_0_3.streamingsector\n",
            "    646.86   interior_-3_2_0_4.streamingsector\n",
            "    687.51   interior_-1_2_0_4.streamingsector\n",
            "    724.50   interior_-1_2_-1_4.streamingsector\n",
            "    901.87   interior_-2_5_0_4.streamingsector\n",
            "   1734.73   interior_-3_0_-1_4.streamingsector\n"
          ]
        }
      ],
      "id": "2c5bc22b-ea2d-4565-bfd9-d793a985bf31"
    },
    {
      "cell_type": "code",
      "source": [
        "#prints the Exterior sector names the player co-ordinates are within, plus the distance from the centre of those sectors to the co-ords\n",
        "ext_list=[]\n",
        "print('Distance     Sector Name')\n",
        "for sect in player_in_ext:\n",
        "    dist=((player_loc['X']-sect[0]['X'])**2+(player_loc['Y']-sect[0]['Y'])**2+(player_loc['Z']-sect[0]['Z'])**2)**0.5\n",
        "    ext_list.append((dist,sect[1]['data']['DepotPath']))\n",
        "ext_list.sort()\n",
        "for sect in ext_list:\n",
        "    print(\"{:10.2f}\".format(sect[0]), ' ' ,sect[1].split('\\\\')[-1])"
      ],
      "metadata": {
        "tags": [],
        "trusted": true,
        "id": "2e1e67d0-a453-4047-8ca8-35abc807ffe7",
        "colab": {
          "base_uri": "https://localhost:8080/"
        },
        "outputId": "b889d116-3000-4019-f7ce-60212a40eb6a"
      },
      "execution_count": null,
      "outputs": [
        {
          "output_type": "stream",
          "name": "stdout",
          "text": [
            "Distance     Sector Name\n",
            "     34.99   exterior_-15_28_0_0.streamingsector\n",
            "     37.12   exterior_-15_27_0_0.streamingsector\n",
            "     59.08   exterior_-16_28_0_0.streamingsector\n",
            "     63.46   exterior_-16_27_0_0.streamingsector\n",
            "     65.24   exterior_-8_13_0_1.streamingsector\n",
            "     66.68   exterior_-8_14_0_1.streamingsector\n",
            "     67.40   exterior_-14_27_0_0.streamingsector\n",
            "     72.59   exterior_-7_13_0_1.streamingsector\n",
            "     78.93   exterior_-14_28_0_0.streamingsector\n",
            "     84.86   exterior_-15_26_0_0.streamingsector\n",
            "     96.60   exterior_-15_29_0_0.streamingsector\n",
            "    100.51   exterior_-8_13_-1_1.streamingsector\n",
            "    103.01   exterior_-16_26_0_0.streamingsector\n",
            "    106.88   exterior_-16_29_0_0.streamingsector\n",
            "    110.52   exterior_-4_6_0_2.streamingsector\n",
            "    120.39   exterior_-17_28_0_0.streamingsector\n",
            "    123.06   exterior_-7_14_0_1.streamingsector\n",
            "    123.35   exterior_-14_29_0_0.streamingsector\n",
            "    123.38   exterior_-17_27_0_0.streamingsector\n",
            "    127.23   exterior_-4_7_0_2.streamingsector\n",
            "    135.16   exterior_-4_6_-1_2.streamingsector\n",
            "    138.11   exterior_-4_7_-1_2.streamingsector\n",
            "    142.47   exterior_-13_28_0_0.streamingsector\n",
            "    146.88   exterior_-17_29_1_0.streamingsector\n",
            "    151.30   exterior_-17_26_0_0.streamingsector\n",
            "    152.26   exterior_-7_13_-1_1.streamingsector\n",
            "    156.10   exterior_-17_29_0_0.streamingsector\n",
            "    161.95   exterior_-9_13_0_1.streamingsector\n",
            "    167.33   exterior_-9_14_0_1.streamingsector\n",
            "    174.95   exterior_-13_29_0_0.streamingsector\n",
            "    178.03   exterior_-2_3_0_3.streamingsector\n",
            "    186.90   exterior_-8_15_0_1.streamingsector\n",
            "    199.49   exterior_-8_12_0_1.streamingsector\n",
            "    222.86   exterior_-7_15_0_1.streamingsector\n",
            "    223.29   exterior_-7_12_0_1.streamingsector\n",
            "    237.98   exterior_-5_6_0_2.streamingsector\n",
            "    238.02   exterior_-9_12_0_1.streamingsector\n",
            "    240.64   exterior_-9_15_0_1.streamingsector\n",
            "    244.55   exterior_-9_12_-1_1.streamingsector\n",
            "    246.05   exterior_-6_14_0_1.streamingsector\n",
            "    248.19   exterior_-5_7_0_2.streamingsector\n",
            "    259.54   exterior_-5_6_-1_2.streamingsector\n",
            "    272.96   exterior_-6_13_0_1.streamingsector\n",
            "    277.92   exterior_-10_14_0_1.streamingsector\n",
            "    281.07   exterior_-10_13_0_1.streamingsector\n",
            "    298.26   exterior_-6_15_0_1.streamingsector\n",
            "    328.43   exterior_-3_7_0_2.streamingsector\n",
            "    328.66   exterior_-10_15_0_1.streamingsector\n",
            "    334.15   exterior_-10_12_0_1.streamingsector\n",
            "    344.37   exterior_-3_3_0_3.streamingsector\n",
            "    380.81   exterior_-3_6_0_2.streamingsector\n",
            "    386.87   exterior_-4_8_0_2.streamingsector\n",
            "    388.44   exterior_-4_5_-1_2.streamingsector\n",
            "    393.35   exterior_-1_1_-1_4.streamingsector\n",
            "    395.28   exterior_-4_5_0_2.streamingsector\n",
            "    396.42   exterior_-3_6_-1_2.streamingsector\n",
            "    430.20   exterior_-5_8_0_2.streamingsector\n",
            "    445.88   exterior_-5_5_0_2.streamingsector\n",
            "    450.02   exterior_-5_5_-1_2.streamingsector\n",
            "    468.44   exterior_-3_8_0_2.streamingsector\n",
            "    494.06   exterior_-6_6_0_2.streamingsector\n",
            "    496.20   exterior_-3_5_0_2.streamingsector\n",
            "    497.97   exterior_-6_7_0_2.streamingsector\n",
            "    502.97   exterior_-1_1_0_4.streamingsector\n",
            "    540.38   exterior_-2_7_0_2.streamingsector\n",
            "    546.72   exterior_-2_4_0_3.streamingsector\n",
            "    563.05   exterior_-2_6_-1_2.streamingsector\n",
            "    570.20   exterior_-6_7_1_2.streamingsector\n",
            "    573.72   exterior_-2_2_0_3.streamingsector\n",
            "    584.53   exterior_-2_6_0_2.streamingsector\n",
            "    604.00   exterior_-6_8_0_2.streamingsector\n",
            "    619.21   exterior_-3_5_1_2.streamingsector\n",
            "    619.45   exterior_-6_5_0_2.streamingsector\n",
            "    627.45   exterior_-3_4_0_3.streamingsector\n",
            "    633.71   exterior_-2_1_-1_4.streamingsector\n",
            "    639.55   exterior_-3_2_0_3.streamingsector\n",
            "    677.58   exterior_-2_5_0_2.streamingsector\n",
            "    679.22   exterior_-3_2_-1_3.streamingsector\n",
            "    682.95   exterior_-2_8_0_2.streamingsector\n",
            "    693.00   exterior_-2_1_0_4.streamingsector\n",
            "    694.83   exterior_-1_0_-1_5.streamingsector\n",
            "    701.54   exterior_-1_3_0_3.streamingsector\n",
            "    705.14   exterior_-2_5_1_2.streamingsector\n",
            "    773.84   exterior_-1_4_0_3.streamingsector\n",
            "    836.55   exterior_-4_3_0_3.streamingsector\n",
            "    858.24   exterior_-1_0_0_5.streamingsector\n",
            "    871.23   exterior_-1_2_0_3.streamingsector\n",
            "    875.98   exterior_-1_2_0_4.streamingsector\n",
            "    978.71   exterior_-1_1_0_5.streamingsector\n",
            "    980.62   exterior_-2_2_0_4.streamingsector\n",
            "    989.12   exterior_-4_2_0_3.streamingsector\n",
            "    993.95   exterior_-4_4_0_3.streamingsector\n",
            "   1015.63   exterior_-2_5_0_3.streamingsector\n",
            "   1035.67   exterior_-1_0_-1_6.streamingsector\n",
            "   1051.24   exterior_-1_1_-1_3.streamingsector\n",
            "   1068.89   exterior_-2_1_0_3.streamingsector\n",
            "   1082.36   exterior_-3_5_0_3.streamingsector\n",
            "   1112.55   exterior_-3_1_0_3.streamingsector\n",
            "   1179.21   exterior_-1_5_0_3.streamingsector\n",
            "   1211.78   exterior_0_3_0_3.streamingsector\n",
            "   1229.15   exterior_-1_1_0_3.streamingsector\n",
            "   1286.88   exterior_-4_1_0_3.streamingsector\n",
            "   1312.13   exterior_-3_1_0_4.streamingsector\n",
            "   1320.31   exterior_0_2_0_3.streamingsector\n",
            "   1322.81   exterior_0_1_0_4.streamingsector\n",
            "   1334.88   exterior_-4_5_0_3.streamingsector\n",
            "   1359.80   exterior_-1_0_0_4.streamingsector\n",
            "   1385.13   exterior_-1_0_-1_4.streamingsector\n",
            "   1429.16   exterior_-2_0_0_4.streamingsector\n",
            "   1529.75   exterior_-2_0_-1_4.streamingsector\n",
            "   1558.02   exterior_-1_3_-1_4.streamingsector\n",
            "   1577.31   exterior_-3_2_0_4.streamingsector\n",
            "   1580.87   exterior_0_1_0_3.streamingsector\n",
            "   1685.50   exterior_0_2_0_4.streamingsector\n",
            "   1797.42   exterior_-1_3_0_4.streamingsector\n",
            "   1799.71   exterior_-2_3_0_4.streamingsector\n",
            "   1845.68   exterior_0_0_0_4.streamingsector\n",
            "   1927.27   exterior_-1_-1_-1_6.streamingsector\n",
            "   1981.67   exterior_-2_0_0_5.streamingsector\n",
            "   2008.86   exterior_0_0_0_5.streamingsector\n",
            "   2054.39   exterior_-1_0_0_6.streamingsector\n",
            "   2124.44   exterior_-3_0_0_4.streamingsector\n",
            "   2188.42   exterior_0_0_-1_6.streamingsector\n",
            "   2229.65   exterior_-3_0_-1_4.streamingsector\n",
            "   2308.07   exterior_-2_-1_-1_4.streamingsector\n",
            "   2321.74   exterior_0_3_0_4.streamingsector\n",
            "   2329.50   exterior_-3_3_0_4.streamingsector\n",
            "   2343.27   exterior_-1_-1_0_4.streamingsector\n",
            "   2385.11   exterior_-2_-1_0_4.streamingsector\n",
            "   2391.67   exterior_-1_1_0_6.streamingsector\n",
            "   2485.00   exterior_-2_1_0_5.streamingsector\n",
            "   2662.34   exterior_-3_-1_0_4.streamingsector\n",
            "   2711.07   exterior_0_-1_0_4.streamingsector\n",
            "   2790.29   exterior_-1_-1_0_5.streamingsector\n",
            "   2810.96   exterior_1_3_0_4.streamingsector\n",
            "   2847.02   exterior_-1_-1_-1_5.streamingsector\n",
            "   3367.61   exterior_0_-1_0_6.streamingsector\n",
            "   3400.60   exterior_-2_-1_0_5.streamingsector\n",
            "   3448.23   exterior_-1_-1_0_6.streamingsector\n",
            "   3537.30   exterior_-2_-1_-1_5.streamingsector\n",
            "   3555.00   exterior_0_-1_0_5.streamingsector\n",
            "   3717.67   exterior_-3_0_0_5.streamingsector\n",
            "   4018.18   exterior_0_0_0_6.streamingsector\n",
            "   4144.32   exterior_0_-1_-1_6.streamingsector\n",
            "   4758.43   exterior_-1_-2_0_5.streamingsector\n",
            "   5006.40   exterior_-2_0_0_6.streamingsector\n",
            "   5009.25   exterior_-2_-2_0_5.streamingsector\n",
            "   5037.93   exterior_-2_-1_-1_6.streamingsector\n",
            "   5166.39   exterior_0_-2_0_5.streamingsector\n",
            "   5207.28   exterior_-2_0_-1_6.streamingsector\n",
            "   5286.84   exterior_0_1_0_6.streamingsector\n",
            "   5356.42   exterior_-3_2_0_5.streamingsector\n",
            "   6207.77   exterior_1_0_0_6.streamingsector\n",
            "   6465.68   exterior_-2_-1_0_6.streamingsector\n",
            "   6549.28   exterior_-1_-2_0_6.streamingsector\n",
            "   6718.10   exterior_0_-2_-1_6.streamingsector\n",
            "   6735.17   exterior_0_-2_0_6.streamingsector\n",
            "   6784.87   exterior_-2_1_0_6.streamingsector\n",
            "   6836.27   exterior_-2_-2_-1_6.streamingsector\n",
            "   7158.39   exterior_-1_-2_-1_6.streamingsector\n",
            "   7447.72   exterior_1_-1_-1_6.streamingsector\n",
            "   8317.79   exterior_1_1_0_6.streamingsector\n",
            "   9230.63   exterior_1_-1_0_6.streamingsector\n",
            "  10633.26   exterior_-2_-2_0_6.streamingsector\n",
            "  10652.08   exterior_1_-2_0_6.streamingsector\n"
          ]
        }
      ],
      "id": "2e1e67d0-a453-4047-8ca8-35abc807ffe7"
    },
    {
      "cell_type": "code",
      "source": [
        "print('Copy the below to add to wscript scripts')\n",
        "print('[')\n",
        "for sect in list:\n",
        "    print( ' \"'+sect[1].split('\\\\')[-1]+'\",')\n",
        "print(']')\n",
        "\n",
        "print(' ')\n",
        "print('Copy the below to paste into asset browser search')\n",
        "for sect in list:\n",
        "    print( ' ' ,sect[1].split('\\\\')[-1],'|', end = '')"
      ],
      "metadata": {
        "colab": {
          "base_uri": "https://localhost:8080/"
        },
        "id": "R_JYJa_KGy0J",
        "outputId": "53712aa7-e2ec-43d5-c810-a05a27e3e179"
      },
      "id": "R_JYJa_KGy0J",
      "execution_count": null,
      "outputs": [
        {
          "output_type": "stream",
          "name": "stdout",
          "text": [
            "Copy the below to add to wscript scripts\n",
            "[\n",
            " \"interior_-70_54_9_0.streamingsector\",\n",
            " \"interior_-70_55_9_0.streamingsector\",\n",
            " \"interior_-69_55_9_0.streamingsector\",\n",
            " \"interior_-35_27_4_1.streamingsector\",\n",
            " \"interior_-18_13_2_2.streamingsector\",\n",
            " \"interior_-70_55_8_0.streamingsector\",\n",
            " \"interior_-69_54_8_0.streamingsector\",\n",
            " \"interior_-69_55_8_0.streamingsector\",\n",
            " \"interior_-70_53_8_0.streamingsector\",\n",
            " \"interior_-35_28_4_1.streamingsector\",\n",
            " \"interior_-35_26_4_1.streamingsector\",\n",
            " \"interior_-69_53_8_0.streamingsector\",\n",
            " \"interior_-17_13_2_2.streamingsector\",\n",
            " \"interior_-68_54_8_0.streamingsector\",\n",
            " \"interior_-68_55_8_0.streamingsector\",\n",
            " \"interior_-34_27_4_1.streamingsector\",\n",
            " \"interior_-34_28_4_1.streamingsector\",\n",
            " \"interior_-68_56_8_0.streamingsector\",\n",
            " \"interior_-34_26_4_1.streamingsector\",\n",
            " \"interior_-68_53_8_0.streamingsector\",\n",
            " \"interior_-35_27_3_1.streamingsector\",\n",
            " \"interior_-35_26_3_1.streamingsector\",\n",
            " \"interior_-18_13_1_2.streamingsector\",\n",
            " \"interior_-17_13_1_2.streamingsector\",\n",
            " \"interior_-5_3_0_4.streamingsector\",\n",
            " \"interior_-18_13_0_2.streamingsector\",\n",
            " \"interior_-4_2_0_4.streamingsector\",\n",
            " \"interior_-3_0_-1_4.streamingsector\",\n",
            "]\n",
            " \n",
            "Copy the below to paste into asset browser search\n",
            "  interior_-70_54_9_0.streamingsector |  interior_-70_55_9_0.streamingsector |  interior_-69_55_9_0.streamingsector |  interior_-35_27_4_1.streamingsector |  interior_-18_13_2_2.streamingsector |  interior_-70_55_8_0.streamingsector |  interior_-69_54_8_0.streamingsector |  interior_-69_55_8_0.streamingsector |  interior_-70_53_8_0.streamingsector |  interior_-35_28_4_1.streamingsector |  interior_-35_26_4_1.streamingsector |  interior_-69_53_8_0.streamingsector |  interior_-17_13_2_2.streamingsector |  interior_-68_54_8_0.streamingsector |  interior_-68_55_8_0.streamingsector |  interior_-34_27_4_1.streamingsector |  interior_-34_28_4_1.streamingsector |  interior_-68_56_8_0.streamingsector |  interior_-34_26_4_1.streamingsector |  interior_-68_53_8_0.streamingsector |  interior_-35_27_3_1.streamingsector |  interior_-35_26_3_1.streamingsector |  interior_-18_13_1_2.streamingsector |  interior_-17_13_1_2.streamingsector |  interior_-5_3_0_4.streamingsector |  interior_-18_13_0_2.streamingsector |  interior_-4_2_0_4.streamingsector |  interior_-3_0_-1_4.streamingsector |"
          ]
        }
      ]
    },
    {
      "cell_type": "code",
      "source": [
        "print('Copy the below to add to wscript scripts')\n",
        "print('[')\n",
        "for sect in ext_list:\n",
        "    print( ' \"' +sect[1].split('\\\\')[-1]+'\",')\n",
        "print(']')\n",
        "\n",
        "print(' ')\n",
        "print('Copy the below to paste into asset browser search')\n",
        "for sect in ext_list:\n",
        "    print( ' ' ,sect[1].split('\\\\')[-1],'|', end = '')"
      ],
      "metadata": {
        "outputId": "0a6c5b6c-1c22-47da-aa0f-fa883b5eab61",
        "colab": {
          "base_uri": "https://localhost:8080/"
        },
        "id": "t8rOo8hhxxcy"
      },
      "execution_count": null,
      "outputs": [
        {
          "output_type": "stream",
          "name": "stdout",
          "text": [
            "Copy the below to add to wscript scripts\n",
            "[\n",
            " \"exterior_-35_27_5_0.streamingsector\",\n",
            " \"exterior_-35_27_4_0.streamingsector\",\n",
            " \"exterior_-18_13_2_1.streamingsector\",\n",
            " \"exterior_-9_6_1_2.streamingsector\",\n",
            " \"exterior_-17_13_2_1.streamingsector\",\n",
            " \"exterior_-35_26_4_0.streamingsector\",\n",
            " \"exterior_-17_14_2_1.streamingsector\",\n",
            " \"exterior_-34_27_4_0.streamingsector\",\n",
            " \"exterior_-34_26_4_0.streamingsector\",\n",
            " \"exterior_-18_13_1_1.streamingsector\",\n",
            " \"exterior_-17_13_1_1.streamingsector\",\n",
            " \"exterior_-18_14_1_1.streamingsector\",\n",
            " \"exterior_-18_13_0_1.streamingsector\",\n",
            " \"exterior_-9_6_0_2.streamingsector\",\n",
            " \"exterior_-3_1_0_4.streamingsector\",\n",
            " \"exterior_-17_13_0_1.streamingsector\",\n",
            " \"exterior_-5_3_0_3.streamingsector\",\n",
            " \"exterior_-9_7_0_2.streamingsector\",\n",
            " \"exterior_-10_6_0_2.streamingsector\",\n",
            " \"exterior_-9_6_-1_2.streamingsector\",\n",
            " \"exterior_-17_15_0_1.streamingsector\",\n",
            " \"exterior_-16_12_0_1.streamingsector\",\n",
            " \"exterior_-10_6_-1_2.streamingsector\",\n",
            " \"exterior_-8_6_0_2.streamingsector\",\n",
            " \"exterior_-8_6_-1_2.streamingsector\",\n",
            " \"exterior_-10_7_0_2.streamingsector\",\n",
            " \"exterior_-8_5_1_2.streamingsector\",\n",
            " \"exterior_-8_7_0_2.streamingsector\",\n",
            " \"exterior_-16_11_0_1.streamingsector\",\n",
            " \"exterior_-8_7_-1_2.streamingsector\",\n",
            " \"exterior_-10_7_-1_2.streamingsector\",\n",
            " \"exterior_-9_5_-1_2.streamingsector\",\n",
            " \"exterior_-9_8_0_2.streamingsector\",\n",
            " \"exterior_-9_5_0_2.streamingsector\",\n",
            " \"exterior_-11_7_0_2.streamingsector\",\n",
            " \"exterior_-4_3_0_3.streamingsector\",\n",
            " \"exterior_-3_1_-1_4.streamingsector\",\n",
            " \"exterior_-5_2_0_3.streamingsector\",\n",
            " \"exterior_-8_5_0_2.streamingsector\",\n",
            " \"exterior_-10_8_0_2.streamingsector\",\n",
            " \"exterior_-6_3_0_3.streamingsector\",\n",
            " \"exterior_-5_4_0_3.streamingsector\",\n",
            " \"exterior_-11_7_-1_2.streamingsector\",\n",
            " \"exterior_-8_8_0_2.streamingsector\",\n",
            " \"exterior_-7_6_0_2.streamingsector\",\n",
            " \"exterior_-7_7_0_2.streamingsector\",\n",
            " \"exterior_-4_2_0_3.streamingsector\",\n",
            " \"exterior_-11_8_-1_2.streamingsector\",\n",
            " \"exterior_-8_4_-1_2.streamingsector\",\n",
            " \"exterior_-11_8_0_2.streamingsector\",\n",
            " \"exterior_-7_5_0_2.streamingsector\",\n",
            " \"exterior_-8_4_0_2.streamingsector\",\n",
            " \"exterior_-2_1_0_4.streamingsector\",\n",
            " \"exterior_-4_4_0_3.streamingsector\",\n",
            " \"exterior_-7_8_0_2.streamingsector\",\n",
            " \"exterior_-3_2_0_4.streamingsector\",\n",
            " \"exterior_-6_4_0_3.streamingsector\",\n",
            " \"exterior_-7_4_0_2.streamingsector\",\n",
            " \"exterior_-6_2_0_3.streamingsector\",\n",
            " \"exterior_-3_3_0_3.streamingsector\",\n",
            " \"exterior_-5_5_0_3.streamingsector\",\n",
            " \"exterior_-2_2_0_4.streamingsector\",\n",
            " \"exterior_-3_2_0_3.streamingsector\",\n",
            " \"exterior_-4_1_0_3.streamingsector\",\n",
            " \"exterior_-5_1_0_3.streamingsector\",\n",
            " \"exterior_-3_4_0_3.streamingsector\",\n",
            " \"exterior_-6_5_0_3.streamingsector\",\n",
            " \"exterior_-4_5_0_3.streamingsector\",\n",
            " \"exterior_-6_1_-1_3.streamingsector\",\n",
            " \"exterior_-6_5_-1_3.streamingsector\",\n",
            " \"exterior_-2_0_0_5.streamingsector\",\n",
            " \"exterior_-2_1_-1_4.streamingsector\",\n",
            " \"exterior_-3_1_0_3.streamingsector\",\n",
            " \"exterior_-4_1_-1_4.streamingsector\",\n",
            " \"exterior_-2_0_0_4.streamingsector\",\n",
            " \"exterior_-3_5_0_3.streamingsector\",\n",
            " \"exterior_-1_0_-1_5.streamingsector\",\n",
            " \"exterior_-1_0_0_5.streamingsector\",\n",
            " \"exterior_-3_0_0_4.streamingsector\",\n",
            " \"exterior_-3_0_-1_4.streamingsector\",\n",
            " \"exterior_-1_1_0_5.streamingsector\",\n",
            " \"exterior_-2_1_0_5.streamingsector\",\n",
            " \"exterior_-4_2_-1_4.streamingsector\",\n",
            " \"exterior_-1_1_-1_4.streamingsector\",\n",
            " \"exterior_-4_0_-1_4.streamingsector\",\n",
            " \"exterior_-1_0_0_6.streamingsector\",\n",
            " \"exterior_-1_1_0_4.streamingsector\",\n",
            " \"exterior_-1_0_-1_6.streamingsector\",\n",
            " \"exterior_-2_0_-1_4.streamingsector\",\n",
            " \"exterior_-1_2_0_4.streamingsector\",\n",
            " \"exterior_-4_0_0_4.streamingsector\",\n",
            " \"exterior_-3_3_0_4.streamingsector\",\n",
            " \"exterior_-2_3_0_4.streamingsector\",\n",
            " \"exterior_-1_-1_-1_6.streamingsector\",\n",
            " \"exterior_-1_0_0_4.streamingsector\",\n",
            " \"exterior_-1_0_-1_4.streamingsector\",\n",
            " \"exterior_-1_3_-1_4.streamingsector\",\n",
            " \"exterior_-3_-1_0_4.streamingsector\",\n",
            " \"exterior_-2_-1_-1_4.streamingsector\",\n",
            " \"exterior_-2_-1_0_4.streamingsector\",\n",
            " \"exterior_-1_3_0_4.streamingsector\",\n",
            " \"exterior_-1_1_0_6.streamingsector\",\n",
            " \"exterior_-1_-1_0_6.streamingsector\",\n",
            " \"exterior_-3_0_0_5.streamingsector\",\n",
            " \"exterior_-1_-1_0_4.streamingsector\",\n",
            " \"exterior_-1_-1_0_5.streamingsector\",\n",
            " \"exterior_-3_1_0_5.streamingsector\",\n",
            " \"exterior_-2_-1_-1_5.streamingsector\",\n",
            " \"exterior_-2_-1_0_5.streamingsector\",\n",
            " \"exterior_-1_-1_-1_5.streamingsector\",\n",
            " \"exterior_0_0_0_5.streamingsector\",\n",
            " \"exterior_0_0_-1_6.streamingsector\",\n",
            " \"exterior_-2_0_0_6.streamingsector\",\n",
            " \"exterior_-2_0_-1_6.streamingsector\",\n",
            " \"exterior_-2_-1_-1_6.streamingsector\",\n",
            " \"exterior_0_-1_0_6.streamingsector\",\n",
            " \"exterior_0_-1_0_5.streamingsector\",\n",
            " \"exterior_-3_2_0_5.streamingsector\",\n",
            " \"exterior_-2_-2_0_5.streamingsector\",\n",
            " \"exterior_-1_-2_0_5.streamingsector\",\n",
            " \"exterior_0_0_0_6.streamingsector\",\n",
            " \"exterior_0_-1_-1_6.streamingsector\",\n",
            " \"exterior_-2_-1_0_6.streamingsector\",\n",
            " \"exterior_0_-2_0_5.streamingsector\",\n",
            " \"exterior_-2_1_0_6.streamingsector\",\n",
            " \"exterior_0_1_0_6.streamingsector\",\n",
            " \"exterior_-2_-2_-1_6.streamingsector\",\n",
            " \"exterior_-1_-2_0_6.streamingsector\",\n",
            " \"exterior_0_-2_-1_6.streamingsector\",\n",
            " \"exterior_0_-2_0_6.streamingsector\",\n",
            " \"exterior_-1_-2_-1_6.streamingsector\",\n",
            " \"exterior_1_0_0_6.streamingsector\",\n",
            " \"exterior_1_-1_-1_6.streamingsector\",\n",
            " \"exterior_1_1_0_6.streamingsector\",\n",
            " \"exterior_-2_-2_0_6.streamingsector\",\n",
            " \"exterior_1_-1_0_6.streamingsector\",\n",
            " \"exterior_1_-2_0_6.streamingsector\",\n",
            "]\n",
            " \n",
            "Copy the below to paste into asset browser search\n",
            "  exterior_-35_27_5_0.streamingsector |  exterior_-35_27_4_0.streamingsector |  exterior_-18_13_2_1.streamingsector |  exterior_-9_6_1_2.streamingsector |  exterior_-17_13_2_1.streamingsector |  exterior_-35_26_4_0.streamingsector |  exterior_-17_14_2_1.streamingsector |  exterior_-34_27_4_0.streamingsector |  exterior_-34_26_4_0.streamingsector |  exterior_-18_13_1_1.streamingsector |  exterior_-17_13_1_1.streamingsector |  exterior_-18_14_1_1.streamingsector |  exterior_-18_13_0_1.streamingsector |  exterior_-9_6_0_2.streamingsector |  exterior_-3_1_0_4.streamingsector |  exterior_-17_13_0_1.streamingsector |  exterior_-5_3_0_3.streamingsector |  exterior_-9_7_0_2.streamingsector |  exterior_-10_6_0_2.streamingsector |  exterior_-9_6_-1_2.streamingsector |  exterior_-17_15_0_1.streamingsector |  exterior_-16_12_0_1.streamingsector |  exterior_-10_6_-1_2.streamingsector |  exterior_-8_6_0_2.streamingsector |  exterior_-8_6_-1_2.streamingsector |  exterior_-10_7_0_2.streamingsector |  exterior_-8_5_1_2.streamingsector |  exterior_-8_7_0_2.streamingsector |  exterior_-16_11_0_1.streamingsector |  exterior_-8_7_-1_2.streamingsector |  exterior_-10_7_-1_2.streamingsector |  exterior_-9_5_-1_2.streamingsector |  exterior_-9_8_0_2.streamingsector |  exterior_-9_5_0_2.streamingsector |  exterior_-11_7_0_2.streamingsector |  exterior_-4_3_0_3.streamingsector |  exterior_-3_1_-1_4.streamingsector |  exterior_-5_2_0_3.streamingsector |  exterior_-8_5_0_2.streamingsector |  exterior_-10_8_0_2.streamingsector |  exterior_-6_3_0_3.streamingsector |  exterior_-5_4_0_3.streamingsector |  exterior_-11_7_-1_2.streamingsector |  exterior_-8_8_0_2.streamingsector |  exterior_-7_6_0_2.streamingsector |  exterior_-7_7_0_2.streamingsector |  exterior_-4_2_0_3.streamingsector |  exterior_-11_8_-1_2.streamingsector |  exterior_-8_4_-1_2.streamingsector |  exterior_-11_8_0_2.streamingsector |  exterior_-7_5_0_2.streamingsector |  exterior_-8_4_0_2.streamingsector |  exterior_-2_1_0_4.streamingsector |  exterior_-4_4_0_3.streamingsector |  exterior_-7_8_0_2.streamingsector |  exterior_-3_2_0_4.streamingsector |  exterior_-6_4_0_3.streamingsector |  exterior_-7_4_0_2.streamingsector |  exterior_-6_2_0_3.streamingsector |  exterior_-3_3_0_3.streamingsector |  exterior_-5_5_0_3.streamingsector |  exterior_-2_2_0_4.streamingsector |  exterior_-3_2_0_3.streamingsector |  exterior_-4_1_0_3.streamingsector |  exterior_-5_1_0_3.streamingsector |  exterior_-3_4_0_3.streamingsector |  exterior_-6_5_0_3.streamingsector |  exterior_-4_5_0_3.streamingsector |  exterior_-6_1_-1_3.streamingsector |  exterior_-6_5_-1_3.streamingsector |  exterior_-2_0_0_5.streamingsector |  exterior_-2_1_-1_4.streamingsector |  exterior_-3_1_0_3.streamingsector |  exterior_-4_1_-1_4.streamingsector |  exterior_-2_0_0_4.streamingsector |  exterior_-3_5_0_3.streamingsector |  exterior_-1_0_-1_5.streamingsector |  exterior_-1_0_0_5.streamingsector |  exterior_-3_0_0_4.streamingsector |  exterior_-3_0_-1_4.streamingsector |  exterior_-1_1_0_5.streamingsector |  exterior_-2_1_0_5.streamingsector |  exterior_-4_2_-1_4.streamingsector |  exterior_-1_1_-1_4.streamingsector |  exterior_-4_0_-1_4.streamingsector |  exterior_-1_0_0_6.streamingsector |  exterior_-1_1_0_4.streamingsector |  exterior_-1_0_-1_6.streamingsector |  exterior_-2_0_-1_4.streamingsector |  exterior_-1_2_0_4.streamingsector |  exterior_-4_0_0_4.streamingsector |  exterior_-3_3_0_4.streamingsector |  exterior_-2_3_0_4.streamingsector |  exterior_-1_-1_-1_6.streamingsector |  exterior_-1_0_0_4.streamingsector |  exterior_-1_0_-1_4.streamingsector |  exterior_-1_3_-1_4.streamingsector |  exterior_-3_-1_0_4.streamingsector |  exterior_-2_-1_-1_4.streamingsector |  exterior_-2_-1_0_4.streamingsector |  exterior_-1_3_0_4.streamingsector |  exterior_-1_1_0_6.streamingsector |  exterior_-1_-1_0_6.streamingsector |  exterior_-3_0_0_5.streamingsector |  exterior_-1_-1_0_4.streamingsector |  exterior_-1_-1_0_5.streamingsector |  exterior_-3_1_0_5.streamingsector |  exterior_-2_-1_-1_5.streamingsector |  exterior_-2_-1_0_5.streamingsector |  exterior_-1_-1_-1_5.streamingsector |  exterior_0_0_0_5.streamingsector |  exterior_0_0_-1_6.streamingsector |  exterior_-2_0_0_6.streamingsector |  exterior_-2_0_-1_6.streamingsector |  exterior_-2_-1_-1_6.streamingsector |  exterior_0_-1_0_6.streamingsector |  exterior_0_-1_0_5.streamingsector |  exterior_-3_2_0_5.streamingsector |  exterior_-2_-2_0_5.streamingsector |  exterior_-1_-2_0_5.streamingsector |  exterior_0_0_0_6.streamingsector |  exterior_0_-1_-1_6.streamingsector |  exterior_-2_-1_0_6.streamingsector |  exterior_0_-2_0_5.streamingsector |  exterior_-2_1_0_6.streamingsector |  exterior_0_1_0_6.streamingsector |  exterior_-2_-2_-1_6.streamingsector |  exterior_-1_-2_0_6.streamingsector |  exterior_0_-2_-1_6.streamingsector |  exterior_0_-2_0_6.streamingsector |  exterior_-1_-2_-1_6.streamingsector |  exterior_1_0_0_6.streamingsector |  exterior_1_-1_-1_6.streamingsector |  exterior_1_1_0_6.streamingsector |  exterior_-2_-2_0_6.streamingsector |  exterior_1_-1_0_6.streamingsector |  exterior_1_-2_0_6.streamingsector |"
          ]
        }
      ],
      "id": "t8rOo8hhxxcy"
    },
    {
      "cell_type": "code",
      "source": [
        "print('Copy the below to add to wscript scripts')\n",
        "print('[')\n",
        "for sect in ext_list:\n",
        "    print( ' \"' +sect[1].split('\\\\')[-1]+'\",')\n",
        "print(']')\n",
        "\n",
        "print(' ')\n",
        "print('Copy the below to paste into asset browser search')\n",
        "for sect in ext_list:\n",
        "    print( ' ' ,sect[1].split('\\\\')[-1],'|', end = '')"
      ],
      "metadata": {
        "id": "PZd572i3IN94",
        "outputId": "0a6c5b6c-1c22-47da-aa0f-fa883b5eab61",
        "colab": {
          "base_uri": "https://localhost:8080/"
        }
      },
      "id": "PZd572i3IN94",
      "execution_count": null,
      "outputs": [
        {
          "output_type": "stream",
          "name": "stdout",
          "text": [
            "Copy the below to add to wscript scripts\n",
            "[\n",
            " \"exterior_-35_27_5_0.streamingsector\",\n",
            " \"exterior_-35_27_4_0.streamingsector\",\n",
            " \"exterior_-18_13_2_1.streamingsector\",\n",
            " \"exterior_-9_6_1_2.streamingsector\",\n",
            " \"exterior_-17_13_2_1.streamingsector\",\n",
            " \"exterior_-35_26_4_0.streamingsector\",\n",
            " \"exterior_-17_14_2_1.streamingsector\",\n",
            " \"exterior_-34_27_4_0.streamingsector\",\n",
            " \"exterior_-34_26_4_0.streamingsector\",\n",
            " \"exterior_-18_13_1_1.streamingsector\",\n",
            " \"exterior_-17_13_1_1.streamingsector\",\n",
            " \"exterior_-18_14_1_1.streamingsector\",\n",
            " \"exterior_-18_13_0_1.streamingsector\",\n",
            " \"exterior_-9_6_0_2.streamingsector\",\n",
            " \"exterior_-3_1_0_4.streamingsector\",\n",
            " \"exterior_-17_13_0_1.streamingsector\",\n",
            " \"exterior_-5_3_0_3.streamingsector\",\n",
            " \"exterior_-9_7_0_2.streamingsector\",\n",
            " \"exterior_-10_6_0_2.streamingsector\",\n",
            " \"exterior_-9_6_-1_2.streamingsector\",\n",
            " \"exterior_-17_15_0_1.streamingsector\",\n",
            " \"exterior_-16_12_0_1.streamingsector\",\n",
            " \"exterior_-10_6_-1_2.streamingsector\",\n",
            " \"exterior_-8_6_0_2.streamingsector\",\n",
            " \"exterior_-8_6_-1_2.streamingsector\",\n",
            " \"exterior_-10_7_0_2.streamingsector\",\n",
            " \"exterior_-8_5_1_2.streamingsector\",\n",
            " \"exterior_-8_7_0_2.streamingsector\",\n",
            " \"exterior_-16_11_0_1.streamingsector\",\n",
            " \"exterior_-8_7_-1_2.streamingsector\",\n",
            " \"exterior_-10_7_-1_2.streamingsector\",\n",
            " \"exterior_-9_5_-1_2.streamingsector\",\n",
            " \"exterior_-9_8_0_2.streamingsector\",\n",
            " \"exterior_-9_5_0_2.streamingsector\",\n",
            " \"exterior_-11_7_0_2.streamingsector\",\n",
            " \"exterior_-4_3_0_3.streamingsector\",\n",
            " \"exterior_-3_1_-1_4.streamingsector\",\n",
            " \"exterior_-5_2_0_3.streamingsector\",\n",
            " \"exterior_-8_5_0_2.streamingsector\",\n",
            " \"exterior_-10_8_0_2.streamingsector\",\n",
            " \"exterior_-6_3_0_3.streamingsector\",\n",
            " \"exterior_-5_4_0_3.streamingsector\",\n",
            " \"exterior_-11_7_-1_2.streamingsector\",\n",
            " \"exterior_-8_8_0_2.streamingsector\",\n",
            " \"exterior_-7_6_0_2.streamingsector\",\n",
            " \"exterior_-7_7_0_2.streamingsector\",\n",
            " \"exterior_-4_2_0_3.streamingsector\",\n",
            " \"exterior_-11_8_-1_2.streamingsector\",\n",
            " \"exterior_-8_4_-1_2.streamingsector\",\n",
            " \"exterior_-11_8_0_2.streamingsector\",\n",
            " \"exterior_-7_5_0_2.streamingsector\",\n",
            " \"exterior_-8_4_0_2.streamingsector\",\n",
            " \"exterior_-2_1_0_4.streamingsector\",\n",
            " \"exterior_-4_4_0_3.streamingsector\",\n",
            " \"exterior_-7_8_0_2.streamingsector\",\n",
            " \"exterior_-3_2_0_4.streamingsector\",\n",
            " \"exterior_-6_4_0_3.streamingsector\",\n",
            " \"exterior_-7_4_0_2.streamingsector\",\n",
            " \"exterior_-6_2_0_3.streamingsector\",\n",
            " \"exterior_-3_3_0_3.streamingsector\",\n",
            " \"exterior_-5_5_0_3.streamingsector\",\n",
            " \"exterior_-2_2_0_4.streamingsector\",\n",
            " \"exterior_-3_2_0_3.streamingsector\",\n",
            " \"exterior_-4_1_0_3.streamingsector\",\n",
            " \"exterior_-5_1_0_3.streamingsector\",\n",
            " \"exterior_-3_4_0_3.streamingsector\",\n",
            " \"exterior_-6_5_0_3.streamingsector\",\n",
            " \"exterior_-4_5_0_3.streamingsector\",\n",
            " \"exterior_-6_1_-1_3.streamingsector\",\n",
            " \"exterior_-6_5_-1_3.streamingsector\",\n",
            " \"exterior_-2_0_0_5.streamingsector\",\n",
            " \"exterior_-2_1_-1_4.streamingsector\",\n",
            " \"exterior_-3_1_0_3.streamingsector\",\n",
            " \"exterior_-4_1_-1_4.streamingsector\",\n",
            " \"exterior_-2_0_0_4.streamingsector\",\n",
            " \"exterior_-3_5_0_3.streamingsector\",\n",
            " \"exterior_-1_0_-1_5.streamingsector\",\n",
            " \"exterior_-1_0_0_5.streamingsector\",\n",
            " \"exterior_-3_0_0_4.streamingsector\",\n",
            " \"exterior_-3_0_-1_4.streamingsector\",\n",
            " \"exterior_-1_1_0_5.streamingsector\",\n",
            " \"exterior_-2_1_0_5.streamingsector\",\n",
            " \"exterior_-4_2_-1_4.streamingsector\",\n",
            " \"exterior_-1_1_-1_4.streamingsector\",\n",
            " \"exterior_-4_0_-1_4.streamingsector\",\n",
            " \"exterior_-1_0_0_6.streamingsector\",\n",
            " \"exterior_-1_1_0_4.streamingsector\",\n",
            " \"exterior_-1_0_-1_6.streamingsector\",\n",
            " \"exterior_-2_0_-1_4.streamingsector\",\n",
            " \"exterior_-1_2_0_4.streamingsector\",\n",
            " \"exterior_-4_0_0_4.streamingsector\",\n",
            " \"exterior_-3_3_0_4.streamingsector\",\n",
            " \"exterior_-2_3_0_4.streamingsector\",\n",
            " \"exterior_-1_-1_-1_6.streamingsector\",\n",
            " \"exterior_-1_0_0_4.streamingsector\",\n",
            " \"exterior_-1_0_-1_4.streamingsector\",\n",
            " \"exterior_-1_3_-1_4.streamingsector\",\n",
            " \"exterior_-3_-1_0_4.streamingsector\",\n",
            " \"exterior_-2_-1_-1_4.streamingsector\",\n",
            " \"exterior_-2_-1_0_4.streamingsector\",\n",
            " \"exterior_-1_3_0_4.streamingsector\",\n",
            " \"exterior_-1_1_0_6.streamingsector\",\n",
            " \"exterior_-1_-1_0_6.streamingsector\",\n",
            " \"exterior_-3_0_0_5.streamingsector\",\n",
            " \"exterior_-1_-1_0_4.streamingsector\",\n",
            " \"exterior_-1_-1_0_5.streamingsector\",\n",
            " \"exterior_-3_1_0_5.streamingsector\",\n",
            " \"exterior_-2_-1_-1_5.streamingsector\",\n",
            " \"exterior_-2_-1_0_5.streamingsector\",\n",
            " \"exterior_-1_-1_-1_5.streamingsector\",\n",
            " \"exterior_0_0_0_5.streamingsector\",\n",
            " \"exterior_0_0_-1_6.streamingsector\",\n",
            " \"exterior_-2_0_0_6.streamingsector\",\n",
            " \"exterior_-2_0_-1_6.streamingsector\",\n",
            " \"exterior_-2_-1_-1_6.streamingsector\",\n",
            " \"exterior_0_-1_0_6.streamingsector\",\n",
            " \"exterior_0_-1_0_5.streamingsector\",\n",
            " \"exterior_-3_2_0_5.streamingsector\",\n",
            " \"exterior_-2_-2_0_5.streamingsector\",\n",
            " \"exterior_-1_-2_0_5.streamingsector\",\n",
            " \"exterior_0_0_0_6.streamingsector\",\n",
            " \"exterior_0_-1_-1_6.streamingsector\",\n",
            " \"exterior_-2_-1_0_6.streamingsector\",\n",
            " \"exterior_0_-2_0_5.streamingsector\",\n",
            " \"exterior_-2_1_0_6.streamingsector\",\n",
            " \"exterior_0_1_0_6.streamingsector\",\n",
            " \"exterior_-2_-2_-1_6.streamingsector\",\n",
            " \"exterior_-1_-2_0_6.streamingsector\",\n",
            " \"exterior_0_-2_-1_6.streamingsector\",\n",
            " \"exterior_0_-2_0_6.streamingsector\",\n",
            " \"exterior_-1_-2_-1_6.streamingsector\",\n",
            " \"exterior_1_0_0_6.streamingsector\",\n",
            " \"exterior_1_-1_-1_6.streamingsector\",\n",
            " \"exterior_1_1_0_6.streamingsector\",\n",
            " \"exterior_-2_-2_0_6.streamingsector\",\n",
            " \"exterior_1_-1_0_6.streamingsector\",\n",
            " \"exterior_1_-2_0_6.streamingsector\",\n",
            "]\n",
            " \n",
            "Copy the below to paste into asset browser search\n",
            "  exterior_-35_27_5_0.streamingsector |  exterior_-35_27_4_0.streamingsector |  exterior_-18_13_2_1.streamingsector |  exterior_-9_6_1_2.streamingsector |  exterior_-17_13_2_1.streamingsector |  exterior_-35_26_4_0.streamingsector |  exterior_-17_14_2_1.streamingsector |  exterior_-34_27_4_0.streamingsector |  exterior_-34_26_4_0.streamingsector |  exterior_-18_13_1_1.streamingsector |  exterior_-17_13_1_1.streamingsector |  exterior_-18_14_1_1.streamingsector |  exterior_-18_13_0_1.streamingsector |  exterior_-9_6_0_2.streamingsector |  exterior_-3_1_0_4.streamingsector |  exterior_-17_13_0_1.streamingsector |  exterior_-5_3_0_3.streamingsector |  exterior_-9_7_0_2.streamingsector |  exterior_-10_6_0_2.streamingsector |  exterior_-9_6_-1_2.streamingsector |  exterior_-17_15_0_1.streamingsector |  exterior_-16_12_0_1.streamingsector |  exterior_-10_6_-1_2.streamingsector |  exterior_-8_6_0_2.streamingsector |  exterior_-8_6_-1_2.streamingsector |  exterior_-10_7_0_2.streamingsector |  exterior_-8_5_1_2.streamingsector |  exterior_-8_7_0_2.streamingsector |  exterior_-16_11_0_1.streamingsector |  exterior_-8_7_-1_2.streamingsector |  exterior_-10_7_-1_2.streamingsector |  exterior_-9_5_-1_2.streamingsector |  exterior_-9_8_0_2.streamingsector |  exterior_-9_5_0_2.streamingsector |  exterior_-11_7_0_2.streamingsector |  exterior_-4_3_0_3.streamingsector |  exterior_-3_1_-1_4.streamingsector |  exterior_-5_2_0_3.streamingsector |  exterior_-8_5_0_2.streamingsector |  exterior_-10_8_0_2.streamingsector |  exterior_-6_3_0_3.streamingsector |  exterior_-5_4_0_3.streamingsector |  exterior_-11_7_-1_2.streamingsector |  exterior_-8_8_0_2.streamingsector |  exterior_-7_6_0_2.streamingsector |  exterior_-7_7_0_2.streamingsector |  exterior_-4_2_0_3.streamingsector |  exterior_-11_8_-1_2.streamingsector |  exterior_-8_4_-1_2.streamingsector |  exterior_-11_8_0_2.streamingsector |  exterior_-7_5_0_2.streamingsector |  exterior_-8_4_0_2.streamingsector |  exterior_-2_1_0_4.streamingsector |  exterior_-4_4_0_3.streamingsector |  exterior_-7_8_0_2.streamingsector |  exterior_-3_2_0_4.streamingsector |  exterior_-6_4_0_3.streamingsector |  exterior_-7_4_0_2.streamingsector |  exterior_-6_2_0_3.streamingsector |  exterior_-3_3_0_3.streamingsector |  exterior_-5_5_0_3.streamingsector |  exterior_-2_2_0_4.streamingsector |  exterior_-3_2_0_3.streamingsector |  exterior_-4_1_0_3.streamingsector |  exterior_-5_1_0_3.streamingsector |  exterior_-3_4_0_3.streamingsector |  exterior_-6_5_0_3.streamingsector |  exterior_-4_5_0_3.streamingsector |  exterior_-6_1_-1_3.streamingsector |  exterior_-6_5_-1_3.streamingsector |  exterior_-2_0_0_5.streamingsector |  exterior_-2_1_-1_4.streamingsector |  exterior_-3_1_0_3.streamingsector |  exterior_-4_1_-1_4.streamingsector |  exterior_-2_0_0_4.streamingsector |  exterior_-3_5_0_3.streamingsector |  exterior_-1_0_-1_5.streamingsector |  exterior_-1_0_0_5.streamingsector |  exterior_-3_0_0_4.streamingsector |  exterior_-3_0_-1_4.streamingsector |  exterior_-1_1_0_5.streamingsector |  exterior_-2_1_0_5.streamingsector |  exterior_-4_2_-1_4.streamingsector |  exterior_-1_1_-1_4.streamingsector |  exterior_-4_0_-1_4.streamingsector |  exterior_-1_0_0_6.streamingsector |  exterior_-1_1_0_4.streamingsector |  exterior_-1_0_-1_6.streamingsector |  exterior_-2_0_-1_4.streamingsector |  exterior_-1_2_0_4.streamingsector |  exterior_-4_0_0_4.streamingsector |  exterior_-3_3_0_4.streamingsector |  exterior_-2_3_0_4.streamingsector |  exterior_-1_-1_-1_6.streamingsector |  exterior_-1_0_0_4.streamingsector |  exterior_-1_0_-1_4.streamingsector |  exterior_-1_3_-1_4.streamingsector |  exterior_-3_-1_0_4.streamingsector |  exterior_-2_-1_-1_4.streamingsector |  exterior_-2_-1_0_4.streamingsector |  exterior_-1_3_0_4.streamingsector |  exterior_-1_1_0_6.streamingsector |  exterior_-1_-1_0_6.streamingsector |  exterior_-3_0_0_5.streamingsector |  exterior_-1_-1_0_4.streamingsector |  exterior_-1_-1_0_5.streamingsector |  exterior_-3_1_0_5.streamingsector |  exterior_-2_-1_-1_5.streamingsector |  exterior_-2_-1_0_5.streamingsector |  exterior_-1_-1_-1_5.streamingsector |  exterior_0_0_0_5.streamingsector |  exterior_0_0_-1_6.streamingsector |  exterior_-2_0_0_6.streamingsector |  exterior_-2_0_-1_6.streamingsector |  exterior_-2_-1_-1_6.streamingsector |  exterior_0_-1_0_6.streamingsector |  exterior_0_-1_0_5.streamingsector |  exterior_-3_2_0_5.streamingsector |  exterior_-2_-2_0_5.streamingsector |  exterior_-1_-2_0_5.streamingsector |  exterior_0_0_0_6.streamingsector |  exterior_0_-1_-1_6.streamingsector |  exterior_-2_-1_0_6.streamingsector |  exterior_0_-2_0_5.streamingsector |  exterior_-2_1_0_6.streamingsector |  exterior_0_1_0_6.streamingsector |  exterior_-2_-2_-1_6.streamingsector |  exterior_-1_-2_0_6.streamingsector |  exterior_0_-2_-1_6.streamingsector |  exterior_0_-2_0_6.streamingsector |  exterior_-1_-2_-1_6.streamingsector |  exterior_1_0_0_6.streamingsector |  exterior_1_-1_-1_6.streamingsector |  exterior_1_1_0_6.streamingsector |  exterior_-2_-2_0_6.streamingsector |  exterior_1_-1_0_6.streamingsector |  exterior_1_-2_0_6.streamingsector |"
          ]
        }
      ]
    },
    {
      "cell_type": "code",
      "source": [
        "def split_on_uppercase(s, keep_contiguous=False):\n",
        "    \"\"\"\n",
        "\n",
        "    Args:\n",
        "        s (str): string\n",
        "        keep_contiguous (bool): flag to indicate we want to\n",
        "                                keep contiguous uppercase chars together\n",
        "\n",
        "    Returns:\n",
        "\n",
        "    \"\"\"\n",
        "\n",
        "    string_length = len(s)\n",
        "    is_lower_around = (lambda: s[i-1].islower() or\n",
        "                       string_length > (i + 1) and s[i + 1].islower())\n",
        "\n",
        "    start = 0\n",
        "    parts = []\n",
        "    for i in range(1, string_length):\n",
        "        if s[i].isupper() and (not keep_contiguous or is_lower_around()):\n",
        "            parts.append(s[start: i])\n",
        "            start = i\n",
        "    parts.append(s[start:])\n",
        "\n",
        "    return parts"
      ],
      "metadata": {
        "id": "dN6cGuEAQDpk"
      },
      "id": "dN6cGuEAQDpk",
      "execution_count": null,
      "outputs": []
    },
    {
      "cell_type": "code",
      "source": [
        "nodeRefs=[]\n",
        "for d in data:\n",
        "    for v in d['variants']:\n",
        "      if v['nodeRef'] not in nodeRefs:\n",
        "        nodeRefs.append(v['nodeRef'])\n",
        "\n",
        "#pprint(nodeRefs)\n"
      ],
      "metadata": {
        "id": "zyUKKZW0R_2B"
      },
      "id": "zyUKKZW0R_2B",
      "execution_count": null,
      "outputs": []
    },
    {
      "cell_type": "code",
      "source": [
        "sectors_of_interest=[]\n",
        "for i,d in enumerate(data):\n",
        "    for v in d['variants']:\n",
        "        if 'q000_scavengers' in v['nodeRef']:\n",
        "          if d['data']['DepotPath'] not in sectors_of_interest:\n",
        "            sectors_of_interest.append(d['data']['DepotPath'])\n",
        "pprint(sectors_of_interest)"
      ],
      "metadata": {
        "id": "9b0812b6-7972-4249-a3a9-24fab9e8a554",
        "colab": {
          "base_uri": "https://localhost:8080/"
        },
        "outputId": "65fd5ff7-af5e-46f9-9c59-8bcb03a69aaf"
      },
      "execution_count": null,
      "outputs": [
        {
          "output_type": "stream",
          "name": "stdout",
          "text": [
            "['base\\\\worlds\\\\03_night_city\\\\_compiled\\\\default\\\\exterior_-8_6_2_0.streamingsector',\n",
            " 'base\\\\worlds\\\\03_night_city\\\\_compiled\\\\default\\\\exterior_-7_6_0_0.streamingsector',\n",
            " 'base\\\\worlds\\\\03_night_city\\\\_compiled\\\\default\\\\exterior_-8_6_0_0.streamingsector',\n",
            " 'base\\\\worlds\\\\03_night_city\\\\_compiled\\\\default\\\\exterior_-7_6_2_0.streamingsector',\n",
            " 'base\\\\worlds\\\\03_night_city\\\\_compiled\\\\default\\\\exterior_-8_7_2_0.streamingsector',\n",
            " 'base\\\\worlds\\\\03_night_city\\\\_compiled\\\\default\\\\exterior_-8_7_1_0.streamingsector',\n",
            " 'base\\\\worlds\\\\03_night_city\\\\_compiled\\\\default\\\\exterior_-8_5_2_0.streamingsector',\n",
            " 'base\\\\worlds\\\\03_night_city\\\\_compiled\\\\default\\\\exterior_-7_7_2_0.streamingsector',\n",
            " 'base\\\\worlds\\\\03_night_city\\\\_compiled\\\\default\\\\exterior_-4_3_0_1.streamingsector',\n",
            " 'base\\\\worlds\\\\03_night_city\\\\_compiled\\\\default\\\\exterior_-4_3_1_1.streamingsector',\n",
            " 'base\\\\worlds\\\\03_night_city\\\\_compiled\\\\default\\\\exterior_-4_2_1_1.streamingsector',\n",
            " 'base\\\\worlds\\\\03_night_city\\\\_compiled\\\\default\\\\exterior_-2_1_0_2.streamingsector',\n",
            " 'base\\\\worlds\\\\03_night_city\\\\_compiled\\\\default\\\\exterior_-1_0_0_3.streamingsector',\n",
            " 'base\\\\worlds\\\\03_night_city\\\\_compiled\\\\default\\\\interior_-8_6_2_1.streamingsector',\n",
            " 'base\\\\worlds\\\\03_night_city\\\\_compiled\\\\default\\\\quest_901f0a358d17730e.streamingsector']\n"
          ]
        }
      ],
      "id": "9b0812b6-7972-4249-a3a9-24fab9e8a554"
    },
    {
      "cell_type": "code",
      "source": [
        "import json\n",
        "import copy\n",
        "templatepath=\"sectorStuff/sectors.streamingblock.json\"\n",
        "with open(templatepath,'r') as f:\n",
        "      tmp=json.load(f)\n",
        "rc=tmp['Data']['RootChunk']\n",
        "descriptors=rc['descriptors']"
      ],
      "metadata": {
        "id": "sRzlxNg0LLB2"
      },
      "id": "sRzlxNg0LLB2",
      "execution_count": null,
      "outputs": []
    },
    {
      "cell_type": "code",
      "source": [
        "# Run this block to save a streamingblock with the combined sectors list\n",
        "\n",
        "while len(descriptors)>0:\n",
        "  descriptors.pop(0)\n",
        "len(descriptors)\n",
        "\n",
        "for idx in comb_list:\n",
        "  descriptors.append(copy.deepcopy(data[idx]))\n",
        "  new_Index=len(descriptors)-1\n",
        "  new_desc=descriptors[new_Index]\n",
        "print(len(descriptors),' sectors added to streamingblock')\n",
        "pathout='comb_sectors.streamingblock.json'\n",
        "with open(pathout, 'w') as outfile:\n",
        "    json.dump(tmp, outfile,indent=2)"
      ],
      "metadata": {
        "id": "RC7_SYfBPLuZ",
        "outputId": "48300646-512b-4348-b147-9001f4daa961",
        "colab": {
          "base_uri": "https://localhost:8080/"
        }
      },
      "id": "RC7_SYfBPLuZ",
      "execution_count": null,
      "outputs": [
        {
          "output_type": "stream",
          "name": "stdout",
          "text": [
            "19  sectors added to streamingblock\n"
          ]
        }
      ]
    },
    {
      "cell_type": "code",
      "source": [
        "# Run this block to save a streamingblock with the internal sectors list\n",
        "\n",
        "while len(descriptors)>0:\n",
        "  descriptors.pop(0)\n",
        "len(descriptors)\n",
        "\n",
        "for idx in int_idxs:\n",
        "  descriptors.append(copy.deepcopy(data[idx]))\n",
        "  new_Index=len(descriptors)-1\n",
        "  new_desc=descriptors[new_Index]\n",
        "print(len(descriptors),' sectors added to streamingblock')\n",
        "pathout='int_sectors.streamingblock.json'\n",
        "with open(pathout, 'w') as outfile:\n",
        "    json.dump(tmp, outfile,indent=2)"
      ],
      "metadata": {
        "outputId": "5cc43ac5-4695-47a2-882a-b9e7f851f7a6",
        "colab": {
          "base_uri": "https://localhost:8080/"
        },
        "id": "rXvkJMYyJKiP"
      },
      "execution_count": null,
      "outputs": [
        {
          "output_type": "stream",
          "name": "stdout",
          "text": [
            "28  sectors added to streamingblock\n"
          ]
        }
      ],
      "id": "rXvkJMYyJKiP"
    },
    {
      "cell_type": "code",
      "source": [
        "# Run this block to save a streamingblock with the external sectors list\n",
        "\n",
        "while len(descriptors)>0:\n",
        "  descriptors.pop(0)\n",
        "len(descriptors)\n",
        "\n",
        "for idx in ext_idxs:\n",
        "  descriptors.append(copy.deepcopy(data[idx]))\n",
        "  new_Index=len(descriptors)-1\n",
        "  new_desc=descriptors[new_Index]\n",
        "  new_desc.pop('variants')\n",
        "print(len(descriptors),' sectors added to streamingblock')\n",
        "pathout='ext_sectors.streamingblock.json'\n",
        "with open(pathout, 'w') as outfile:\n",
        "    json.dump(tmp, outfile,indent=2)"
      ],
      "metadata": {
        "id": "iBbQItfLXXBC",
        "outputId": "4ff517d7-1230-4524-cacb-0c10b05cba2b",
        "colab": {
          "base_uri": "https://localhost:8080/"
        }
      },
      "id": "iBbQItfLXXBC",
      "execution_count": null,
      "outputs": [
        {
          "output_type": "stream",
          "name": "stdout",
          "text": [
            "137  sectors added to streamingblock\n"
          ]
        }
      ]
    },
    {
      "cell_type": "code",
      "source": [
        "from pprint import pprint\n",
        "pprint(sect)"
      ],
      "metadata": {
        "id": "3or3NQi03IDk",
        "outputId": "b18ef7f0-174f-4c81-dd5c-3ecdec581bf1",
        "colab": {
          "base_uri": "https://localhost:8080/"
        }
      },
      "id": "3or3NQi03IDk",
      "execution_count": null,
      "outputs": [
        {
          "output_type": "stream",
          "name": "stdout",
          "text": [
            "(11506.344687114215,\n",
            " 'base\\\\worlds\\\\03_night_city\\\\_compiled\\\\default\\\\exterior_1_-2_0_6.streamingsector')\n"
          ]
        }
      ]
    },
    {
      "cell_type": "code",
      "source": [
        "#paste a sector list\n",
        "sectors=['interior_-70_53_0_0','interior_-71_55_0_0','interior_-72_54_0_0','interior_-71_52_0_0','interior_-69_55_3_0','interior_-72_53_0_0','interior_-71_53_0_0','interior_-69_54_0_0',\n",
        "'interior_-69_55_0_0','interior_-71_54_0_0','interior_-70_55_4_0','interior_-70_55_0_0','interior_-69_55_5_0','interior_-69_55_4_0','interior_-69_53_0_0','interior_-70_55_5_0',\n",
        "'interior_-70_54_0_0','interior_-70_55_3_0','interior_-71_54_1_0','interior_-69_53_1_0','interior_-70_54_1_0','interior_-70_53_1_0','interior_-69_54_5_0','interior_-68_55_5_0',\n",
        "'interior_-70_55_1_0','interior_-68_54_5_0','interior_-69_56_3_0','interior_-69_56_4_0','interior_-68_55_8_0','interior_-69_53_8_0','interior_-70_55_9_0','interior_-68_53_8_0',\n",
        "'interior_-69_54_8_0','interior_-68_54_8_0','interior_-69_55_8_0','interior_-70_55_8_0','interior_-70_53_8_0','interior_-69_55_9_0','interior_-70_54_9_0','interior_-68_56_8_0',\n",
        "'interior_-35_27_1_1','interior_-34_26_0_1','interior_-35_27_0_1','interior_-36_26_0_1','interior_-35_26_0_1','interior_-36_27_0_1','interior_-35_27_2_1','interior_-34_27_2_1',\n",
        "'interior_-35_26_2_1','interior_-35_27_3_1','interior_-35_26_3_1','interior_-35_26_1_1','interior_-35_28_2_1','interior_-35_27_4_1','interior_-34_27_4_1','interior_-35_26_4_1',\n",
        "'interior_-34_26_4_1','interior_-34_28_4_1','interior_-35_28_4_1','interior_-18_13_0_2','interior_-17_13_0_2','interior_-18_13_1_2','interior_-17_13_1_2','interior_-18_14_0_2',\n",
        "'interior_-17_13_2_2','interior_-18_13_2_2','interior_-5_3_0_4']"
      ],
      "metadata": {
        "id": "OnX7kEi34yFF"
      },
      "id": "OnX7kEi34yFF",
      "execution_count": null,
      "outputs": []
    },
    {
      "cell_type": "code",
      "source": [
        "# Run this block to save a streamingblock with the pasted sectors list\n",
        "\n",
        "while len(descriptors)>0:\n",
        "  descriptors.pop(0)\n",
        "len(descriptors)\n",
        "\n",
        "for sect in sectors:\n",
        "  fullpath='base\\\\worlds\\\\03_night_city\\\\_compiled\\\\default\\\\'+sect+'.streamingsector'\n",
        "  #print(fullpath)\n",
        "  orig=[s for s in data if s['data']['DepotPath']==fullpath]\n",
        "  descriptors.append(copy.deepcopy(orig[0]))\n",
        "  new_Index=len(descriptors)-1\n",
        "  new_desc=descriptors[new_Index]\n",
        "print(len(descriptors),' sectors added to streamingblock')\n",
        "pathout='int_sectors.streamingblock.json'\n",
        "with open(pathout, 'w') as outfile:\n",
        "    json.dump(tmp, outfile,indent=2)"
      ],
      "metadata": {
        "id": "Yxedr8BE5wNa",
        "outputId": "355e0038-c134-4533-f4c4-9d8a5274d6a9",
        "colab": {
          "base_uri": "https://localhost:8080/"
        }
      },
      "id": "Yxedr8BE5wNa",
      "execution_count": null,
      "outputs": [
        {
          "output_type": "stream",
          "name": "stdout",
          "text": [
            "67  sectors added to streamingblock\n"
          ]
        }
      ]
    }
  ]
}
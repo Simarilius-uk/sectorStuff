{
  "metadata": {
    "kernelspec": {
      "display_name": "Python 3 (ipykernel)",
      "language": "python",
      "name": "python3"
    },
    "language_info": {
      "name": "python",
      "version": "3.7.12",
      "mimetype": "text/x-python",
      "codemirror_mode": {
        "name": "ipython",
        "version": 3
      },
      "pygments_lexer": "ipython3",
      "nbconvert_exporter": "python",
      "file_extension": ".py"
    },
    "colab": {
      "provenance": [],
      "include_colab_link": true
    }
  },
  "nbformat_minor": 5,
  "nbformat": 4,
  "cells": [
    {
      "cell_type": "markdown",
      "metadata": {
        "id": "view-in-github",
        "colab_type": "text"
      },
      "source": [
        "<a href=\"https://colab.research.google.com/github/Simarilius-uk/sectorStuff/blob/main/AllBlocks_colab.ipynb\" target=\"_parent\"><img src=\"https://colab.research.google.com/assets/colab-badge.svg\" alt=\"Open In Colab\"/></a>"
      ]
    },
    {
      "cell_type": "code",
      "source": [
        "!git clone https://github.com/Simarilius-uk/sectorStuff.git"
      ],
      "metadata": {
        "id": "Gp43qEkvOSTG",
        "outputId": "e2e5b3cf-02d1-4032-a97b-483493e748cc",
        "colab": {
          "base_uri": "https://localhost:8080/"
        }
      },
      "id": "Gp43qEkvOSTG",
      "execution_count": 3,
      "outputs": [
        {
          "output_type": "stream",
          "name": "stdout",
          "text": [
            "Cloning into 'sectorStuff'...\n",
            "remote: Enumerating objects: 25, done.\u001b[K\n",
            "remote: Counting objects: 100% (25/25), done.\u001b[K\n",
            "remote: Compressing objects: 100% (24/24), done.\u001b[K\n",
            "remote: Total 25 (delta 9), reused 0 (delta 0), pack-reused 0\u001b[K\n",
            "Unpacking objects: 100% (25/25), done.\n"
          ]
        }
      ]
    },
    {
      "cell_type": "code",
      "source": [
        "import json\n",
        "import glob\n",
        "import os\n",
        "\n",
        "filepath = 'sectorStuff/all.streamingblock.json'\n",
        "\n",
        "with open(filepath,'r') as f: \n",
        "      j=json.load(f) "
      ],
      "metadata": {
        "trusted": true,
        "id": "6cd440df"
      },
      "execution_count": 4,
      "outputs": [],
      "id": "6cd440df"
    },
    {
      "cell_type": "code",
      "source": [
        "from pprint import pprint\n",
        "data=j['Data']['RootChunk']['descriptors']\n",
        "print('Sectors found - ',len(data))\n",
        "\n",
        "#pprint(data[0])    "
      ],
      "metadata": {
        "trusted": true,
        "id": "cdae13ad"
      },
      "execution_count": null,
      "outputs": [],
      "id": "cdae13ad"
    },
    {
      "cell_type": "code",
      "source": [
        "#Enter the player location below (obtain from AMM)\n",
        "player_loc={'X':-908,'Y':1861,'Z':43}\n"
      ],
      "metadata": {
        "trusted": true,
        "id": "b98a64a5"
      },
      "execution_count": null,
      "outputs": [],
      "id": "b98a64a5"
    },
    {
      "cell_type": "code",
      "source": [
        "player_in_int=[]\n",
        "player_in_ext=[]\n",
        "player_in_quest=[]\n",
        "\n",
        "for sector in data:\n",
        "    if sector['streamingBox']['Min']['X']<player_loc['X'] and sector['streamingBox']['Max']['X']>player_loc['X']:\n",
        "        if sector['streamingBox']['Min']['Y']<player_loc['Y'] and sector['streamingBox']['Max']['Y']>player_loc['Y']:\n",
        "            if sector['streamingBox']['Min']['Z']<player_loc['Z'] and sector['streamingBox']['Max']['Z']>player_loc['Z']:\n",
        "                centrepoint={'X':(sector['streamingBox']['Min']['X']+sector['streamingBox']['Max']['X'])/2, \n",
        "                             'Y':(sector['streamingBox']['Min']['Y']+sector['streamingBox']['Max']['Y'])/2, \n",
        "                             'Z':(sector['streamingBox']['Min']['Z']+sector['streamingBox']['Max']['Z'])/2}\n",
        "                if sector['category']=='Exterior':\n",
        "                    player_in_ext.append((centrepoint,sector))\n",
        "                if sector['category']=='Interior':\n",
        "                    player_in_int.append((centrepoint,sector))                \n",
        "                #if sector['category']=='Quest':\n",
        "                #    player_in_quest.append((centrepoint,sector))\n",
        "print('Interior ',len(player_in_int))\n",
        "print('Exterior ',len(player_in_ext))\n",
        "#print('Quest ',len(player_in_quest))"
      ],
      "metadata": {
        "trusted": true,
        "id": "971a9c5d-f0be-45d7-9958-e429dc62c0a8"
      },
      "execution_count": null,
      "outputs": [],
      "id": "971a9c5d-f0be-45d7-9958-e429dc62c0a8"
    },
    {
      "cell_type": "code",
      "source": [
        "#prints the Interior sector names the player co-ordinates are within, plus the distance from the centre of those sectors to the co-ords\n",
        "\n",
        "print('Distance     Sector Name')\n",
        "for sect in player_in_int:\n",
        "    dist=((player_loc['X']-sect[0]['X'])**2+(player_loc['Y']-sect[0]['Y'])**2+(player_loc['Z']-sect[0]['Z'])**2)**0.5\n",
        "    print(\"{:10.2f}\".format(dist), ' ' ,sect[1]['data']['DepotPath'].split('\\\\')[-1])\n"
      ],
      "metadata": {
        "tags": [],
        "trusted": true,
        "id": "2c5bc22b-ea2d-4565-bfd9-d793a985bf31"
      },
      "execution_count": null,
      "outputs": [],
      "id": "2c5bc22b-ea2d-4565-bfd9-d793a985bf31"
    },
    {
      "cell_type": "code",
      "source": [
        "#prints the Exterior sector names the player co-ordinates are within, plus the distance from the centre of those sectors to the co-ords\n",
        "print('Distance     Sector Name')\n",
        "for sect in player_in_ext:\n",
        "    dist=((player_loc['X']-sect[0]['X'])**2+(player_loc['Y']-sect[0]['Y'])**2+(player_loc['Z']-sect[0]['Z'])**2)**0.5\n",
        "    print(\"{:10.2f}\".format(dist), ' ' ,sect[1]['data']['DepotPath'].split('\\\\')[-1])"
      ],
      "metadata": {
        "tags": [],
        "trusted": true,
        "id": "2e1e67d0-a453-4047-8ca8-35abc807ffe7"
      },
      "execution_count": null,
      "outputs": [],
      "id": "2e1e67d0-a453-4047-8ca8-35abc807ffe7"
    },
    {
      "cell_type": "code",
      "source": [],
      "metadata": {
        "id": "9b0812b6-7972-4249-a3a9-24fab9e8a554"
      },
      "execution_count": null,
      "outputs": [],
      "id": "9b0812b6-7972-4249-a3a9-24fab9e8a554"
    }
  ]
}